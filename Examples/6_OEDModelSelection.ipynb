{
 "cells": [
  {
   "cell_type": "markdown",
   "metadata": {},
   "source": [
    "# Case 6: Bayesian Optimal Experimental Design (OED) for model selection"
   ]
  },
  {
   "cell_type": "code",
   "execution_count": 1,
   "metadata": {},
   "outputs": [],
   "source": [
    "using BOMBs"
   ]
  },
  {
   "cell_type": "markdown",
   "metadata": {},
   "source": [
    "### Just to print the nice BOMBS logo\n"
   ]
  },
  {
   "cell_type": "code",
   "execution_count": 2,
   "metadata": {},
   "outputs": [
    {
     "name": "stdout",
     "output_type": "stream",
     "text": [
      "\n",
      "                      ___________   __________   ___  ___   ___________   __________\n",
      "                     /  _____   /  / ______  /  /   \\/   \\  \\   _____  \\  \\  _______\\\r\n",
      "                    /  /____/  /  / /     / /  /          \\  \\  \\____\\  \\  \\ \\________\n",
      "                   /  _____   /  / /     / /  /            \\  \\   _____  \\  \\________ \\\r\n",
      "                  /  /    /  /  / /     / /  /   /\\____/\\   \\  \\  \\    \\  \\          \\ \\\r\n",
      "                 /  /____/  /  / /_____/ /  /   /        \\   \\  \\  \\____\\  \\   _______\\ \\\r\n",
      "                /__________/  /_________/  /__ /          \\___\\  \\__________\\  \\_________\\\r\n",
      "\n",
      "                \n"
     ]
    }
   ],
   "source": [
    "printBOMBsLogo()"
   ]
  },
  {
   "cell_type": "markdown",
   "metadata": {},
   "source": [
    "First we need to generate the models. Note that is section is about model selection, so we need a second model to work with <br>\n",
    "The first model will be the same as we have been using so far."
   ]
  },
  {
   "cell_type": "markdown",
   "metadata": {},
   "source": [
    "#### Important!\n",
    "In this case you do not need to generate the models separately. Since the utility/cost function also needs to be generated (and requires the experiment specifications) this step will be done later on."
   ]
  },
  {
   "cell_type": "code",
   "execution_count": 3,
   "metadata": {},
   "outputs": [],
   "source": [
    "# Generate the empty dictionary with the model_def structure\n",
    "model_def1 = defModStruct()\n",
    "\n",
    "# Fill the different elements of the dictionary with your model specifications. See above how ^\n",
    "model_def1[\"NameF\"] = [\"PLacExample\"];\n",
    "model_def1[\"nStat\"] = [4];\n",
    "model_def1[\"nPar\"] = [9];\n",
    "model_def1[\"nInp\"] = [1];\n",
    "model_def1[\"stName\"] = [\"Cit_mrna\",\"Cit_foldedP\",\"Cit_fluo\",\"Cit_AU\"];\n",
    "\n",
    "model_def1[\"inpName\"] = [\"IPTG\"];\n",
    "\n",
    "model_def1[\"parName\"] = [\"alpha1\",\"Vm1\",\"h1\",\"Km1\",\"d1\",\n",
    "                            \"alpha2\",\"d2\",\"Kf\",\"sc_molec\"];\n",
    "model_def1[\"eqns\"] = [\"dCit_mrna=alpha1+Vm1*(IPTG^h1/(Km1^h1+IPTG^h1))-d1*Cit_mrna\",\n",
    "                    \"dCit_foldedP=alpha2*Cit_mrna-(d2+Kf)*Cit_foldedP\",\n",
    "                    \"dCit_fluo=Kf*Cit_foldedP-d2*Cit_fluo\",\n",
    "                    \"dCit_AU = sc_molec*dCit_fluo\"];\n",
    "\n",
    "model_def1[\"Y0eqs\"] = [\"Cit_mrna = (alpha1 + Vm1*(IPTG^h1/(Km1^h1+IPTG^h1)))/d1;\",\n",
    "                      \"Cit_foldedP = (alpha2*Cit_mrna)/(Kf+d2);\",\n",
    "                      \"Cit_fluo = (Kf*Cit_foldedP)/d2;\",\n",
    "                      \"Cit_AU= sc_molec*Cit_fluo;\"]; \n",
    "\n",
    "model_def1[\"Y0Sim\"] = [];\n",
    "model_def1[\"tols\"] = [1e-9, 1e-9];"
   ]
  },
  {
   "cell_type": "markdown",
   "metadata": {},
   "source": [
    "As for the second model, we will use the same model with some minor (and made up with no sense) modifications just for illustration purposes. <br>\n",
    "    1- Introduction of a second inducer (aTc) <br>\n",
    "    2- Fix h1 to 2 and alpha1 to 0.5"
   ]
  },
  {
   "cell_type": "code",
   "execution_count": 4,
   "metadata": {},
   "outputs": [],
   "source": [
    "# Generate the empty dictionary with the model_def structure\n",
    "model_def2 = defModStruct()\n",
    "\n",
    "# Fill the different elements of the dictionary with your model specifications. See above how ^\n",
    "model_def2[\"NameF\"] = [\"TestPLac_M2\"];\n",
    "model_def2[\"nStat\"] = [4];\n",
    "model_def2[\"nPar\"] = [7];\n",
    "model_def2[\"nInp\"] = [2];\n",
    "model_def2[\"stName\"] = [\"Cit_mrna\",\"Cit_foldedP\",\"Cit_fluo\",\"Cit_AU\"];\n",
    "\n",
    "model_def2[\"inpName\"] = [\"aTc\", \"IPTG\"]; # Note that the reference order comes from Model_1 and any aditional inputs get append after it. So even this is coded in this order, in the package it will be used as [\"IPTG\", \"aTc\"]\n",
    "                                         # Hence, when generating the function scripts for this model, the order will also be canged to [\"IPTG\", \"aTc\"]\n",
    "model_def2[\"parName\"] = [\"Vm1\",\"Km1\",\"d1\",\n",
    "                            \"alpha2\",\"d2\",\"Kf\",\"sc_molec\"];\n",
    "\n",
    "# Same model but h1 is fixed to 2 and alpha1 to 0.5\n",
    "# Also this model accounts for aTc as inducer, which is not present in model 1. Introduced as produt. This is made up for the example. \n",
    "\n",
    "model_def2[\"eqns\"] = [\"dCit_mrna=0.5+Vm1*(IPTG^2/(Km1^2+IPTG^2))-d1*Cit_mrna*aTc\",\n",
    "                    \"dCit_foldedP=alpha2*Cit_mrna-(d2+Kf)*Cit_foldedP\",\n",
    "                    \"dCit_fluo=Kf*Cit_foldedP-d2*Cit_fluo\",\n",
    "                    \"dCit_AU = sc_molec*dCit_fluo\"];\n",
    "\n",
    "model_def2[\"Y0eqs\"] = [\"Cit_mrna = (0.5 + Vm1*(IPTG^2/(Km1^2+IPTG^2)))/d1*aTc;\",\n",
    "                      \"Cit_foldedP = (alpha2*Cit_mrna)/(Kf+d2);\",\n",
    "                      \"Cit_fluo = (Kf*Cit_foldedP)/d2;\",\n",
    "                      \"Cit_AU= sc_molec*Cit_fluo;\"]; \n",
    "\n",
    "model_def2[\"Y0Sim\"] = [];\n",
    "model_def2[\"tols\"] = [1e-9, 1e-9];\n",
    "model_def2[\"solver\"] = \"CVODE_BDF\";"
   ]
  },
  {
   "cell_type": "markdown",
   "metadata": {},
   "source": [
    "### This function gives you information about the structure necessary to generate the model and how to call it. \n",
    "If you do not know how to call a specific section, just call the function with no input (infoAll()) to get the information."
   ]
  },
  {
   "cell_type": "code",
   "execution_count": 5,
   "metadata": {},
   "outputs": [
    {
     "name": "stdout",
     "output_type": "stream",
     "text": [
      "\n",
      "\n",
      "                CALL defODEModelSelectStruct()\n",
      "\n",
      "oedms_def[\"Model_1\"] = [];\n",
      "        # Model structure for Model 1. Dict. See Model Generation Section.\n",
      "        # Note that the order of the inputs is the one defined in this model. If there is a chance that\n",
      "        # Model_2 has an input that does not exist in this model, these will be appended at the end\n",
      "        # of the ones in Model_1.\n",
      "\n",
      "oedms_def[\"Model_2\"] = [];\n",
      "        # Model structure for Model 2. Dict. See Model Generation Section.\n",
      "\n",
      "oedms_def[\"Obs\"] = [];\n",
      "        # States of the model that are observables. This is a vector of strings.These could also be an\n",
      "        # expression combining states (Only +,-,*,/ and ^ will be considered).\n",
      "\n",
      "oedms_def[\"Theta_M1\"] = [];\n",
      "        # Theta vector (frequentist OED or model with 1 parameter) or matrix (Bayesian OED) for model 1.\n",
      "        # Path to file with samples is also allowed.\n",
      "\n",
      "oedms_def[\"Theta_M2\"] = [];\n",
      "        # Theta vector (frequentist OED or model with 2 parameter) or matrix (Bayesian OED) for model 2.\n",
      "        # Path to file with samples is also allowed.\n",
      "\n",
      "oedms_def[\"y0_M1\"] = [];\n",
      "        # For Model 1:\n",
      "        # Array (single simulation) or matrix (multiple simulations) of Y0s for the simulations for each\n",
      "        # experiment. If you are computing the steady-state this vector might not be used, however, you\n",
      "        # still need to introduce it with some random numbers.\n",
      "\n",
      "oedms_def[\"y0_M2\"] = [];\n",
      "        # For Model 2:\n",
      "        # Array (single simulation) or matrix (multiple simulations) of Y0s for the simulations for each\n",
      "        # experiment. If you are computing the steady-state this vector might not be used, however, you\n",
      "        # still need to introduce it with some random numbers.\n",
      "\n",
      "oedms_def[\"preInd_M1\"] = [];\n",
      "        # For Model 1:\n",
      "        # Vector of numbers with the values for the stimuli (inducer) in the over-night. It might be the case\n",
      "        # that this entry is not required since only the y0 vector is considered for the initial point of\n",
      "        # the simulation. However, you still need to introduce a random value for it to avoid future issues.\n",
      "\n",
      "oedms_def[\"preInd_M2\"] = [];\n",
      "        # For Model 2:\n",
      "        # Vector of numbers with the values for the stimuli (inducer) in the over-night. It might be the case\n",
      "        # that this entry is not required since only the y0 vector is considered for the initial point of\n",
      "        # the simulation. However, you still need to introduce a random value for it to avoid future issues.\n",
      "\n",
      "oedms_def[\"finalTime\"] = [];\n",
      "        # Vector of final times for each simulation (initial time will always be assumed as 0,\n",
      "        # so please consider that).\n",
      "\n",
      "oedms_def[\"switchT\"] = [];\n",
      "        # Array with the switching times of the inducer in the simulation (time 0 and final\n",
      "        # time need to be considered)\n",
      "\n",
      "oedms_def[\"tsamps\"] = [];\n",
      "        # Array of sampling time vectors for the experiments.\n",
      "\n",
      "oedms_def[\"fixedInp\"] = [];\n",
      "        # If more than 1 inducer for the system exists, but only 1 input can be dynamic, give a vector\n",
      "        # of strings indicating which inputs are going to be optimised but as a constant input instead\n",
      "        # of dynamic. If none, just give an empty vector.\n",
      "        # If there is only 1 simuli in the model, this field will be ignored.\n",
      "\n",
      "oedms_def[\"fixedStep\"] = [];\n",
      "        # If you want any of the steps to be fixed to a value. This has to be an empty array if none is fixed\n",
      "        # or an array of tuples, where each tuple is a step to be fixed. The first entry of the tuple is the\n",
      "        # index of the step (as an Integer), and the second and array of values for each inducer. Note that\n",
      "        # the fixed inputs will be ignored, so do not take them into account here.\n",
      "        # The example type should be Array{Array{Int,1},1} or an empty array ([]) if not used.\n",
      "\n",
      "oedms_def[\"equalStep\"] = [];\n",
      "        # If you want a series of steps to have the same optimised value (for example if you want to design a\n",
      "        # pulse experiment) you can introduce inside this array different arrays with the indexes of the steps\n",
      "        # that will have the same value. The values introduced in each array need to be integers.\n",
      "\n",
      "oedms_def[\"plot\"] = [];\n",
      "        # true, flase, \"Yes\", \"yes\", \"No\", \"no\" or []\n",
      "        # indicating if plots with the results will be generated. Default is false.\n",
      "\n",
      "oedms_def[\"flag\"] = [];\n",
      "        # String to attach a unique flag to the generated files so it is not overwritten.\n",
      "        # If empty, nothing will be added.\n",
      "\n",
      "            # The order of uUpper and uLower will be taken as the order of inducers defined in Model 1.\n",
      "            # If Model 2 has an aditional input, this will be added after, so consider this when introducing\n",
      "            # the bounds for them.\n",
      "oedms_def[\"uUpper\"] = [];\n",
      "        # Vector indicating the upper bounds for the inducers\n",
      "\n",
      "oedms_def[\"uLower\"] = [];\n",
      "        # Vector indicating the lower bounds for the inducers\n",
      "\n",
      "oedms_def[\"maxiter\"] = [];\n",
      "        # Maximum number of iterations for the Bayesian Optimisation. If nothing is introduced a default\n",
      "        # of 100 iterations will be taken\n",
      "\n"
     ]
    }
   ],
   "source": [
    "infoAll(\"oedms\")"
   ]
  },
  {
   "cell_type": "markdown",
   "metadata": {},
   "source": [
    "# OED Model Selection Example 1\n",
    "This is a basic example showing how to use the basic elements of the section. <br>\n",
    "<br>\n",
    "The second inducer aTc (only present in the second model) will be optimised as a fixed input (optimised constant value across the whole experiment). Additionally IPTG will be fixed to 0 only for the first step of the experiment. <br>\n",
    "<br>\n",
    "There is no example for this, but if as theta samples for the 2 models you only introduce 1 the script will still proceed using the Euclidean distance. But be careful, since this strategy will not be Bayesian anymore. "
   ]
  },
  {
   "cell_type": "code",
   "execution_count": 6,
   "metadata": {},
   "outputs": [
    {
     "data": {
      "text/plain": [
       "Dict{Any,Any} with 20 entries:\n",
       "  \"Theta_M2\"  => Any[]\n",
       "  \"maxiter\"   => Any[]\n",
       "  \"y0_M2\"     => Any[]\n",
       "  \"fixedStep\" => Any[]\n",
       "  \"preInd_M1\" => Any[]\n",
       "  \"fixedInp\"  => Any[]\n",
       "  \"Model_1\"   => Any[]\n",
       "  \"Obs\"       => Any[]\n",
       "  \"uUpper\"    => Any[]\n",
       "  \"Model_2\"   => Any[]\n",
       "  \"switchT\"   => Any[]\n",
       "  \"preInd_M2\" => Any[]\n",
       "  \"finalTime\" => Any[]\n",
       "  \"y0_M1\"     => Any[]\n",
       "  \"equalStep\" => Any[]\n",
       "  \"Theta_M1\"  => Any[]\n",
       "  \"tsamps\"    => Any[]\n",
       "  \"flag\"      => Any[]\n",
       "  \"plot\"      => Any[]\n",
       "  \"uLower\"    => Any[]"
      ]
     },
     "execution_count": 6,
     "metadata": {},
     "output_type": "execute_result"
    }
   ],
   "source": [
    "oedms_def = defODEModelSelectStruct()"
   ]
  },
  {
   "cell_type": "code",
   "execution_count": 7,
   "metadata": {},
   "outputs": [],
   "source": [
    "oedms_def[\"Model_1\"] = [model_def1]; \n",
    "oedms_def[\"Model_2\"] = [model_def2]; \n",
    "oedms_def[\"Obs\"] = [\"3*Cit_AU\"]; \n",
    "oedms_def[\"Theta_M1\"] = [\"TestThetaPLac.csv\"]; \n",
    "oedms_def[\"Theta_M2\"] = [\"TestThetaPLac2.csv\"]; \n",
    "\n",
    "oedms_def[\"y0_M1\"] = [10,10,10,10]; \n",
    "oedms_def[\"y0_M2\"] = [10,10,10,10];  \n",
    "oedms_def[\"preInd_M1\"] = [0]; \n",
    "oedms_def[\"preInd_M2\"] = [0, 0]; \n",
    "oedms_def[\"finalTime\"] = [1439]; \n",
    "oedms_def[\"switchT\"] = [[0, 500, 1000, 1439]];\n",
    "oedms_def[\"tsamps\"] = [collect(0:5:1439)];\n",
    "oedms_def[\"fixedInp\"] = [\"aTc\"]; \n",
    "oedms_def[\"fixedStep\"] = [(1,[0])]; # This does not take into account fixed inputs\n",
    "oedms_def[\"equalStep\"] = [];\n",
    "\n",
    "oedms_def[\"plot\"] = [true]; \n",
    "oedms_def[\"flag\"] = [\"testOEDMS1\"];\n",
    "\n",
    "oedms_def[\"uUpper\"] = [100, 10];\n",
    "oedms_def[\"uLower\"] = [0, 0];\n",
    "oedms_def[\"maxiter\"] = [50];"
   ]
  },
  {
   "cell_type": "markdown",
   "metadata": {},
   "source": [
    "This is the function that this section uses to generate the 2 model scripts (different from the previous sections) and the necessary scripts for the optimisation. "
   ]
  },
  {
   "cell_type": "code",
   "execution_count": 8,
   "metadata": {},
   "outputs": [
    {
     "name": "stdout",
     "output_type": "stream",
     "text": [
      "-------------------------- WARNING --------------------------\n",
      "Less than 50 samples for theta are given for Model 1. \n",
      "Consider using more samples for better results. \n",
      "-------------------------------------------------------------\n",
      "-------------------------- WARNING --------------------------\n",
      "Less than 50 samples for theta are given for Model 2. \n",
      "Consider using more samples for better results. \n",
      "-------------------------------------------------------------\n",
      "-------------------------- WARNING --------------------------\n",
      "The amount of inducers is different in the two models.\n",
      "Be carefull on how you configure that. \n",
      "-------------------------------------------------------------\n",
      "\n",
      "----------------------------------------- MODEL GENERATION -----------------------------------------\n",
      "The model has been generated in the directory: \n",
      "                 E:\\UNI\\D_Drive\\PhD\\JULIAlang\\Generalisation_PLacExample\\Examples\\ModelsFunctions\\PLacExample_Model.jl\n",
      "--------------------------------------------------------------------------------------\n",
      "\n",
      "\n",
      "----------------------------------------- MODEL GENERATION -----------------------------------------\n",
      "The model has been generated in the directory: \n",
      "                 E:\\UNI\\D_Drive\\PhD\\JULIAlang\\Generalisation_PLacExample\\Examples\\ModelsFunctions\\TestPLac_M2_Model.jl\n",
      "--------------------------------------------------------------------------------------\n",
      "\n",
      "\n",
      "----------------------------------------- SCRIPTS OED Model Selection -----------------------------------------\n",
      "Utility function script to perform OED for Model Selection has been generated in the directory: \n",
      "E:\\UNI\\D_Drive\\PhD\\JULIAlang\\Generalisation_PLacExample\\Examples\\Results\\PLacExample_VS_TestPLac_M2_2021-01-22\\OEDModelSelectionScripts\\PLacExample_VS_TestPLac_M2_OEDMS.jl\n",
      "--------------------------------------------------------------------------------------\n",
      "\n",
      "\n",
      "---------------------------------------------- OPTIMISATION INFO ----------------------------------------------\n",
      "\n",
      "If you wish to modify any of the settings for the Bayesian Optimisation used (from the package \n",
      "BayesianOptimization.jl) please search the function settingsBayesOpt located in the file ModelOEDSelection.jl \n",
      "that is located in the directory: \n",
      "        C:\\Users\\david\\AppData\\Local\\JuliaPro-1.4.0-1\\Julia-1.4.0\\share\\julia\\stdlib\\v1.4\\BOMBS.jl\\src\n",
      "and change any desired setting (under your own risk). \n",
      "If any irreversible change is made by mistake, just look for the file settingsBayesOptBackUp.jl and copy the\n",
      "contents of the function inside (which are the same as the original except for the function name ;) )\n",
      "\n",
      "---------------------------------------------------------------------------------------------------------------\n",
      "\n"
     ]
    }
   ],
   "source": [
    "# Generate scripts for the ODEs and Utility functions\n",
    "oedms_def = genOptimMSFuncts(oedms_def);"
   ]
  },
  {
   "cell_type": "markdown",
   "metadata": {},
   "source": [
    "#### Now, let's go through the different prints obtained\n",
    "**- WARNING:** Warning indicating that you have introduced a really low number of samples for theta in Model 1. 50 samples have been set arbitrally, but this number is still way too low. <br>\n",
    "**- WARNING:** Warning indicating that you have introduced a really low number of samples for theta in Model 2. 50 samples have been set arbitrally, but this number is still way too low. <br>\n",
    "**- WARNING:** This is just a warning indicating that the number of inducers in the two models is different, so extra care has to be taken when coding things. <br>\n",
    "**- MODEL GENERATION:** Generation of the scripts for model 1 (same as what GenerateModel does). <br>\n",
    "**- MODEL GENERATION:** Generation of the scripts for model 2 (same as what GenerateModel does). <br>\n",
    "**- SCRIPTS OED Model Selection:** Path to the utility function script that has been generated. <br>\n",
    "**- OPTIMISATION INFO:** Information showing the user how to change the settings of the Bayesian Optimisation package since BOMBS only uses some default settings. Also points to a backup file for how the settings in BOMBS are. "
   ]
  },
  {
   "cell_type": "markdown",
   "metadata": {},
   "source": [
    "Here, have a look at how the utility function looks like (to double-check that everything is ok with it)."
   ]
  },
  {
   "cell_type": "code",
   "execution_count": 9,
   "metadata": {},
   "outputs": [
    {
     "name": "stdout",
     "output_type": "stream",
     "text": [
      "\n",
      "        \n",
      "\n",
      "function PLacExample_VS_TestPLac_M2Utility(ins)\n",
      "\n",
      "    # Definition of the inputs for the ODEs\n",
      "    IPTG2,aTc1 = ins;\n",
      "    inputsM1 = [0,IPTG2,0,IPTG2,0,IPTG2];\n",
      "    inputsM2 = [0,aTc1,IPTG2,0,0,aTc1,IPTG2,0,0,aTc1,IPTG2,0];\n",
      "\n",
      "    # Solve ODEs\n",
      "\n",
      "    solM1 = PLacExample_SolveAll(tsMS, pD1MS, spMS, inputsM1, ivss1MS, sampsMS, pre1MS);\n",
      "    solM2 = TestPLac_M2_SolveAll(tsMS, pD2MS, spMS, inputsM2, ivss2MS, sampsMS, pre2MS);\n",
      "\n",
      "    # Extracte wanted vectors (observables) with time reduction\n",
      "    Obs1_M1 = 3 .*solM1[:,4,:]; \n",
      "\n",
      "    Obs1_M2 = 3 .*solM2[:,4,:]; \n",
      "\n",
      "    \n",
      "    mu1_M1 = mean(Obs1_M1, dims=2); \n",
      "\n",
      "    sd1_M1 = cov(Obs1_M1, dims=2).+(0.1*Matrix((Diagonal(ones(size(Obs1_M1)[1]))))); \n",
      "\n",
      "\n",
      "    mu1_M2 = mean(Obs1_M2, dims=2); \n",
      "\n",
      "    sd1_M2 = cov(Obs1_M2, dims=2).+(0.1*Matrix((Diagonal(ones(size(Obs1_M2)[1]))))); \n",
      "\n",
      "\n",
      "    BHD1 = BhattacharyyaDist(mu1_M1[:,1], mu1_M2[:,1], sd1_M1, sd1_M2); \n",
      "\n",
      "\n",
      "    util = mean(BHD1);\n",
      "\n",
      "        \n",
      "\n",
      "    return(util)\n",
      "end\n",
      "\n",
      "    "
     ]
    }
   ],
   "source": [
    "stream = open(raw\"E:\\UNI\\D_Drive\\PhD\\JULIAlang\\Generalisation_PLacExample\\Examples\\Results\\PLacExample_VS_TestPLac_M2_2021-01-11\\OEDModelSelectionScripts\\PLacExample_VS_TestPLac_M2_OEDMS.jl\",\"r\");\n",
    "Model = read(stream,String);\n",
    "close(stream);\n",
    "print(Model)"
   ]
  },
  {
   "cell_type": "markdown",
   "metadata": {},
   "source": [
    "And now, to run the optimisation is as simple as: "
   ]
  },
  {
   "cell_type": "code",
   "execution_count": 10,
   "metadata": {},
   "outputs": [
    {
     "name": "stdout",
     "output_type": "stream",
     "text": [
      "-------------------------- WARNING --------------------------\n",
      "Less than 50 samples for theta are given for Model 1. \n",
      "Consider using more samples for better results. \n",
      "-------------------------------------------------------------\n",
      "-------------------------- WARNING --------------------------\n",
      "Less than 50 samples for theta are given for Model 2. \n",
      "Consider using more samples for better results. \n",
      "-------------------------------------------------------------\n",
      "-------------------------- WARNING --------------------------\n",
      "The amount of inducers is different in the two models.\n",
      "Be carefull on how you configure that. \n",
      "-------------------------------------------------------------\n"
     ]
    },
    {
     "name": "stderr",
     "output_type": "stream",
     "text": [
      "┌ Info: 2021-01-22T14:42:37.29\titeration: 15\tcurrent optimum: 4.246896222266496e11\n",
      "└ @ BayesianOptimization C:\\Users\\david\\.juliapro\\JuliaPro_v1.4.0-1\\packages\\BayesianOptimization\\poykT\\src\\BayesianOptimization.jl:140\n",
      "┌ Info: 2021-01-22T14:42:40.144\titeration: 16\tcurrent optimum: 4.246896222266496e11\n",
      "└ @ BayesianOptimization C:\\Users\\david\\.juliapro\\JuliaPro_v1.4.0-1\\packages\\BayesianOptimization\\poykT\\src\\BayesianOptimization.jl:140\n",
      "┌ Info: 2021-01-22T14:42:40.194\titeration: 17\tcurrent optimum: 4.246896222266496e11\n",
      "└ @ BayesianOptimization C:\\Users\\david\\.juliapro\\JuliaPro_v1.4.0-1\\packages\\BayesianOptimization\\poykT\\src\\BayesianOptimization.jl:140\n",
      "┌ Info: 2021-01-22T14:42:40.244\titeration: 18\tcurrent optimum: 4.246896222266496e11\n",
      "└ @ BayesianOptimization C:\\Users\\david\\.juliapro\\JuliaPro_v1.4.0-1\\packages\\BayesianOptimization\\poykT\\src\\BayesianOptimization.jl:140\n",
      "┌ Info: 2021-01-22T14:42:40.291\titeration: 19\tcurrent optimum: 4.246896222266496e11\n",
      "└ @ BayesianOptimization C:\\Users\\david\\.juliapro\\JuliaPro_v1.4.0-1\\packages\\BayesianOptimization\\poykT\\src\\BayesianOptimization.jl:140\n",
      "┌ Info: 2021-01-22T14:42:40.334\titeration: 20\tcurrent optimum: 4.246896222266496e11\n",
      "└ @ BayesianOptimization C:\\Users\\david\\.juliapro\\JuliaPro_v1.4.0-1\\packages\\BayesianOptimization\\poykT\\src\\BayesianOptimization.jl:140\n",
      "┌ Info: 2021-01-22T14:42:40.382\titeration: 21\tcurrent optimum: 4.246896222266496e11\n",
      "└ @ BayesianOptimization C:\\Users\\david\\.juliapro\\JuliaPro_v1.4.0-1\\packages\\BayesianOptimization\\poykT\\src\\BayesianOptimization.jl:140\n",
      "┌ Info: 2021-01-22T14:42:40.43\titeration: 22\tcurrent optimum: 4.246896222266496e11\n",
      "└ @ BayesianOptimization C:\\Users\\david\\.juliapro\\JuliaPro_v1.4.0-1\\packages\\BayesianOptimization\\poykT\\src\\BayesianOptimization.jl:140\n",
      "┌ Info: 2021-01-22T14:42:40.476\titeration: 23\tcurrent optimum: 4.246896222266496e11\n",
      "└ @ BayesianOptimization C:\\Users\\david\\.juliapro\\JuliaPro_v1.4.0-1\\packages\\BayesianOptimization\\poykT\\src\\BayesianOptimization.jl:140\n",
      "┌ Info: 2021-01-22T14:42:40.524\titeration: 24\tcurrent optimum: 4.246896222266496e11\n",
      "└ @ BayesianOptimization C:\\Users\\david\\.juliapro\\JuliaPro_v1.4.0-1\\packages\\BayesianOptimization\\poykT\\src\\BayesianOptimization.jl:140\n",
      "┌ Info: 2021-01-22T14:42:40.571\titeration: 25\tcurrent optimum: 1.8568580477129045e12\n",
      "└ @ BayesianOptimization C:\\Users\\david\\.juliapro\\JuliaPro_v1.4.0-1\\packages\\BayesianOptimization\\poykT\\src\\BayesianOptimization.jl:140\n",
      "┌ Info: 2021-01-22T14:42:40.616\titeration: 26\tcurrent optimum: 1.8568580477129045e12\n",
      "└ @ BayesianOptimization C:\\Users\\david\\.juliapro\\JuliaPro_v1.4.0-1\\packages\\BayesianOptimization\\poykT\\src\\BayesianOptimization.jl:140\n",
      "┌ Info: 2021-01-22T14:42:40.664\titeration: 27\tcurrent optimum: 1.8568580477129045e12\n",
      "└ @ BayesianOptimization C:\\Users\\david\\.juliapro\\JuliaPro_v1.4.0-1\\packages\\BayesianOptimization\\poykT\\src\\BayesianOptimization.jl:140\n",
      "┌ Info: 2021-01-22T14:42:40.709\titeration: 28\tcurrent optimum: 1.8568580477129045e12\n",
      "└ @ BayesianOptimization C:\\Users\\david\\.juliapro\\JuliaPro_v1.4.0-1\\packages\\BayesianOptimization\\poykT\\src\\BayesianOptimization.jl:140\n",
      "┌ Info: 2021-01-22T14:42:40.76\titeration: 29\tcurrent optimum: 1.8568580477129045e12\n",
      "└ @ BayesianOptimization C:\\Users\\david\\.juliapro\\JuliaPro_v1.4.0-1\\packages\\BayesianOptimization\\poykT\\src\\BayesianOptimization.jl:140\n",
      "┌ Info: 2021-01-22T14:42:40.809\titeration: 30\tcurrent optimum: 1.8568580477129045e12\n",
      "└ @ BayesianOptimization C:\\Users\\david\\.juliapro\\JuliaPro_v1.4.0-1\\packages\\BayesianOptimization\\poykT\\src\\BayesianOptimization.jl:140\n",
      "┌ Info: 2021-01-22T14:42:40.859\titeration: 31\tcurrent optimum: 1.8568580477129045e12\n",
      "└ @ BayesianOptimization C:\\Users\\david\\.juliapro\\JuliaPro_v1.4.0-1\\packages\\BayesianOptimization\\poykT\\src\\BayesianOptimization.jl:140\n",
      "┌ Info: 2021-01-22T14:42:40.904\titeration: 32\tcurrent optimum: 1.8568580477129045e12\n",
      "└ @ BayesianOptimization C:\\Users\\david\\.juliapro\\JuliaPro_v1.4.0-1\\packages\\BayesianOptimization\\poykT\\src\\BayesianOptimization.jl:140\n",
      "┌ Info: 2021-01-22T14:42:41.027\titeration: 33\tcurrent optimum: 1.8568580477129045e12\n",
      "└ @ BayesianOptimization C:\\Users\\david\\.juliapro\\JuliaPro_v1.4.0-1\\packages\\BayesianOptimization\\poykT\\src\\BayesianOptimization.jl:140\n",
      "┌ Info: 2021-01-22T14:42:41.072\titeration: 34\tcurrent optimum: 1.8568580477129045e12\n",
      "└ @ BayesianOptimization C:\\Users\\david\\.juliapro\\JuliaPro_v1.4.0-1\\packages\\BayesianOptimization\\poykT\\src\\BayesianOptimization.jl:140\n",
      "┌ Info: 2021-01-22T14:42:41.117\titeration: 35\tcurrent optimum: 1.8568580477129045e12\n",
      "└ @ BayesianOptimization C:\\Users\\david\\.juliapro\\JuliaPro_v1.4.0-1\\packages\\BayesianOptimization\\poykT\\src\\BayesianOptimization.jl:140\n",
      "┌ Info: 2021-01-22T14:42:41.16\titeration: 36\tcurrent optimum: 1.8568580477129045e12\n",
      "└ @ BayesianOptimization C:\\Users\\david\\.juliapro\\JuliaPro_v1.4.0-1\\packages\\BayesianOptimization\\poykT\\src\\BayesianOptimization.jl:140\n",
      "┌ Info: 2021-01-22T14:42:41.212\titeration: 37\tcurrent optimum: 1.8568580477129045e12\n",
      "└ @ BayesianOptimization C:\\Users\\david\\.juliapro\\JuliaPro_v1.4.0-1\\packages\\BayesianOptimization\\poykT\\src\\BayesianOptimization.jl:140\n",
      "┌ Info: 2021-01-22T14:42:41.258\titeration: 38\tcurrent optimum: 1.8568580477129045e12\n",
      "└ @ BayesianOptimization C:\\Users\\david\\.juliapro\\JuliaPro_v1.4.0-1\\packages\\BayesianOptimization\\poykT\\src\\BayesianOptimization.jl:140\n",
      "┌ Info: 2021-01-22T14:42:41.303\titeration: 39\tcurrent optimum: 1.8568580477129045e12\n",
      "└ @ BayesianOptimization C:\\Users\\david\\.juliapro\\JuliaPro_v1.4.0-1\\packages\\BayesianOptimization\\poykT\\src\\BayesianOptimization.jl:140\n",
      "┌ Info: 2021-01-22T14:42:41.346\titeration: 40\tcurrent optimum: 1.8568580477129045e12\n",
      "└ @ BayesianOptimization C:\\Users\\david\\.juliapro\\JuliaPro_v1.4.0-1\\packages\\BayesianOptimization\\poykT\\src\\BayesianOptimization.jl:140\n",
      "┌ Info: 2021-01-22T14:42:41.39\titeration: 41\tcurrent optimum: 1.8568580477129045e12\n",
      "└ @ BayesianOptimization C:\\Users\\david\\.juliapro\\JuliaPro_v1.4.0-1\\packages\\BayesianOptimization\\poykT\\src\\BayesianOptimization.jl:140\n",
      "┌ Info: 2021-01-22T14:42:41.435\titeration: 42\tcurrent optimum: 1.8568580477129045e12\n",
      "└ @ BayesianOptimization C:\\Users\\david\\.juliapro\\JuliaPro_v1.4.0-1\\packages\\BayesianOptimization\\poykT\\src\\BayesianOptimization.jl:140\n",
      "┌ Info: 2021-01-22T14:42:41.489\titeration: 43\tcurrent optimum: 1.8568580477129045e12\n",
      "└ @ BayesianOptimization C:\\Users\\david\\.juliapro\\JuliaPro_v1.4.0-1\\packages\\BayesianOptimization\\poykT\\src\\BayesianOptimization.jl:140\n",
      "┌ Info: 2021-01-22T14:42:41.532\titeration: 44\tcurrent optimum: 1.8568580477129045e12\n",
      "└ @ BayesianOptimization C:\\Users\\david\\.juliapro\\JuliaPro_v1.4.0-1\\packages\\BayesianOptimization\\poykT\\src\\BayesianOptimization.jl:140\n",
      "┌ Info: 2021-01-22T14:42:41.581\titeration: 45\tcurrent optimum: 1.8568580477129045e12\n",
      "└ @ BayesianOptimization C:\\Users\\david\\.juliapro\\JuliaPro_v1.4.0-1\\packages\\BayesianOptimization\\poykT\\src\\BayesianOptimization.jl:140\n",
      "┌ Info: 2021-01-22T14:42:41.629\titeration: 46\tcurrent optimum: 1.8568580477129045e12\n",
      "└ @ BayesianOptimization C:\\Users\\david\\.juliapro\\JuliaPro_v1.4.0-1\\packages\\BayesianOptimization\\poykT\\src\\BayesianOptimization.jl:140\n",
      "┌ Info: 2021-01-22T14:42:41.676\titeration: 47\tcurrent optimum: 1.8568580477129045e12\n",
      "└ @ BayesianOptimization C:\\Users\\david\\.juliapro\\JuliaPro_v1.4.0-1\\packages\\BayesianOptimization\\poykT\\src\\BayesianOptimization.jl:140\n",
      "┌ Info: 2021-01-22T14:42:41.725\titeration: 48\tcurrent optimum: 1.8568580477129045e12\n",
      "└ @ BayesianOptimization C:\\Users\\david\\.juliapro\\JuliaPro_v1.4.0-1\\packages\\BayesianOptimization\\poykT\\src\\BayesianOptimization.jl:140\n",
      "┌ Info: 2021-01-22T14:42:41.784\titeration: 49\tcurrent optimum: 1.8568580477129045e12\n",
      "└ @ BayesianOptimization C:\\Users\\david\\.juliapro\\JuliaPro_v1.4.0-1\\packages\\BayesianOptimization\\poykT\\src\\BayesianOptimization.jl:140\n",
      "┌ Info:  ──────────────────────────────────────────────────────────────────────────────\n",
      "│                                        Time                   Allocations      \n",
      "│                                ──────────────────────   ───────────────────────\n",
      "│        Tot / % measured:            19.2s / 96.6%           3.26GiB / 98.0%    \n",
      "│ \n",
      "│  Section               ncalls     time   %tot     avg     alloc   %tot      avg\n",
      "│  ──────────────────────────────────────────────────────────────────────────────\n",
      "│  function evaluation       50    13.0s  70.1%   260ms   2.31GiB  72.5%  47.4MiB\n",
      "│  acquisition               36    4.34s  23.4%   121ms    716MiB  21.9%  19.9MiB\n",
      "│  model update              36    667ms  3.59%  18.5ms   96.6MiB  2.95%  2.68MiB\n",
      "│  model hyperparamet...     36    545ms  2.93%  15.1ms   87.2MiB  2.67%  2.42MiB\n",
      "│  ──────────────────────────────────────────────────────────────────────────────\n",
      "└ @ BayesianOptimization C:\\Users\\david\\.juliapro\\JuliaPro_v1.4.0-1\\packages\\BayesianOptimization\\poykT\\src\\BayesianOptimization.jl:154\n"
     ]
    },
    {
     "name": "stdout",
     "output_type": "stream",
     "text": [
      "\n",
      "----------------------------------------- RESULTS -----------------------------------------\n",
      "OED for Model Selection results are saved in the directory: \n",
      "                 E:\\UNI\\D_Drive\\PhD\\JULIAlang\\Generalisation_PLacExample\\Examples\\Results\\PLacExample_VS_TestPLac_M2_2021-01-22\n",
      "Under the name OEDModelSelectResults_testOEDMS1.jld\n",
      "--------------------------------------------------------------------------------------\n",
      "\n",
      "\n",
      "----------------------------------------- PLOTS -----------------------------------------\n",
      "PLOTS are saved in the directory: \n",
      "                 E:\\UNI\\D_Drive\\PhD\\JULIAlang\\Generalisation_PLacExample\\Examples\\Results\\PLacExample_VS_TestPLac_M2_2021-01-22\n",
      "Under the names PlotOEDMSResults_Exp1_testOEDMS1.png and Plot_OEDMSConvergence_testOEDMS1.png\n",
      "--------------------------------------------------------------------------------------\n",
      "\n"
     ]
    }
   ],
   "source": [
    "oedms_res, oedms_def = mainOEDMS(oedms_def);"
   ]
  },
  {
   "cell_type": "markdown",
   "metadata": {},
   "source": [
    "### First, let's have a look at the results structure"
   ]
  },
  {
   "cell_type": "code",
   "execution_count": 11,
   "metadata": {},
   "outputs": [
    {
     "data": {
      "text/plain": [
       "Dict{Any,Any} with 9 entries:\n",
       "  \"BestResOptim\" => (observed_optimum = 1.85686e12, observed_optimizer = [59.95…\n",
       "  \"uInpOpt\"      => Dict{Any,Any}(\"aTc\"=>[0.246753],\"IPTG\"=>Any[0, 59.9541, 98.…\n",
       "  \"ResOptim\"     => Dict{String,Any}(\"modelY\"=>[1.24247e10, 8.97982e9, 5.01717e…\n",
       "  \"Simul_M1\"     => [0.317361 18.8312 11.9507 823.01; 0.317361 18.8312 11.9507 …\n",
       "  \"Simul_M2\"     => [0.0 0.0 0.0 0.0; 2.3932 15.5592 0.465218 32.0381; … ; 53.5…\n",
       "  \"BestUtil\"     => 1.85686e12\n",
       "  \"ConvCurv\"     => [1.0 1.24247e10; 2.0 1.24247e10; … ; 49.0 1.85686e12; 50.0 …\n",
       "  \"SimulObs_M2\"  => [0.0; 96.1144; … ; 416645.0; 416645.0]…\n",
       "  \"SimulObs_M1\"  => [2469.03; 2469.03; … ; 50344.0; 50344.0]…"
      ]
     },
     "execution_count": 11,
     "metadata": {},
     "output_type": "execute_result"
    }
   ],
   "source": [
    "oedms_res"
   ]
  },
  {
   "cell_type": "markdown",
   "metadata": {},
   "source": [
    "**- BestResOptim:** BayesianOptimisation optimisation results (as they come from the package) for the best iteration"
   ]
  },
  {
   "cell_type": "code",
   "execution_count": 12,
   "metadata": {},
   "outputs": [
    {
     "data": {
      "text/plain": [
       "(observed_optimum = 1.8568580477129045e12, observed_optimizer = [59.954101208649355, 98.04623197865885, 0.2467529177493104], model_optimum = 5.714054887290359e10, model_optimizer = [40.27391072282452, 16.589456951101084, 7.520583128887289])"
      ]
     },
     "execution_count": 12,
     "metadata": {},
     "output_type": "execute_result"
    }
   ],
   "source": [
    "oedms_res[\"BestResOptim\"]"
   ]
  },
  {
   "cell_type": "markdown",
   "metadata": {},
   "source": [
    "**- uInpOpt:** Dictionary with an entry for each inducer of the models and the optimised value for each step (if an input is fixed for the whole experiment this will appear only once). <br>\n",
    "If you have steps fixed to a specific value, this will still be included in this results (it will be the actual values for the experiments, not the optimisation results)."
   ]
  },
  {
   "cell_type": "code",
   "execution_count": 13,
   "metadata": {},
   "outputs": [
    {
     "data": {
      "text/plain": [
       "Dict{Any,Any} with 2 entries:\n",
       "  \"aTc\"  => [0.246753]\n",
       "  \"IPTG\" => Any[0, 59.9541, 98.0462]"
      ]
     },
     "execution_count": 13,
     "metadata": {},
     "output_type": "execute_result"
    }
   ],
   "source": [
    "oedms_res[\"uInpOpt\"]"
   ]
  },
  {
   "cell_type": "markdown",
   "metadata": {},
   "source": [
    "**- ResOptim:** The optimisation structure details from Bayesian Optimisation."
   ]
  },
  {
   "cell_type": "code",
   "execution_count": 14,
   "metadata": {},
   "outputs": [
    {
     "data": {
      "text/plain": [
       "Dict{String,Any} with 12 entries:\n",
       "  \"modelY\"             => [1.24247e10, 8.97982e9, 5.01717e10, 2.17998e10, 8.673…\n",
       "  \"modelX\"             => [68.75 93.75 … 5.06857 50.5204; 81.25 6.25 … 66.6399 …\n",
       "  \"acquisitionoptions\" => (method = :LD_LBFGS, restarts = 10, maxeval = 2000)\n",
       "  \"duration\"           => DurationCounter(1.61133e9, Inf, 1.61133e9, Inf)\n",
       "  \"repetitions\"        => 1\n",
       "  \"model_optimum\"      => 5.71405e10\n",
       "  \"sense\"              => Max\n",
       "  \"modeloptimizer\"     => MAPGPOptimizer{NamedTuple{(:domean, :kern, :noise, :l…\n",
       "  \"model_optimizer\"    => [40.2739, 16.5895, 7.52058]\n",
       "  \"upperbounds\"        => [100.0, 100.0, 10.0]\n",
       "  \"observed_optimizer\" => [59.9541, 98.0462, 0.246753]\n",
       "  \"observed_optimum\"   => 1.85686e12"
      ]
     },
     "execution_count": 14,
     "metadata": {},
     "output_type": "execute_result"
    }
   ],
   "source": [
    "oedms_res[\"ResOptim\"]"
   ]
  },
  {
   "cell_type": "markdown",
   "metadata": {},
   "source": [
    "**- Simul_M1:** Simulation of model 1 using the optimum input profile. "
   ]
  },
  {
   "cell_type": "code",
   "execution_count": 15,
   "metadata": {},
   "outputs": [
    {
     "data": {
      "text/plain": [
       "288×4×3 Array{Float64,3}:\n",
       "[:, :, 1] =\n",
       " 0.317361   18.8312   11.9507    823.01\n",
       " 0.317361   18.8312   11.9507    823.01\n",
       " 0.317361   18.8312   11.9507    823.01\n",
       " 0.317361   18.8312   11.9507    823.01\n",
       " 0.317361   18.8312   11.9507    823.01\n",
       " 0.317361   18.8312   11.9507    823.01\n",
       " 0.317361   18.8312   11.9507    823.01\n",
       " 0.317361   18.8312   11.9507    823.01\n",
       " 0.317361   18.8312   11.9507    823.01\n",
       " 0.317361   18.8312   11.9507    823.01\n",
       " 0.317361   18.8312   11.9507    823.01\n",
       " 0.317361   18.8312   11.9507    823.01\n",
       " 0.317361   18.8312   11.9507    823.01\n",
       " ⋮                             \n",
       " 6.47106   383.972   243.677   16781.3\n",
       " 6.47106   383.972   243.677   16781.3\n",
       " 6.47106   383.972   243.677   16781.3\n",
       " 6.47106   383.972   243.677   16781.3\n",
       " 6.47106   383.972   243.677   16781.3\n",
       " 6.47106   383.972   243.677   16781.3\n",
       " 6.47106   383.972   243.677   16781.3\n",
       " 6.47106   383.972   243.677   16781.3\n",
       " 6.47106   383.972   243.677   16781.3\n",
       " 6.47106   383.972   243.677   16781.3\n",
       " 6.47106   383.972   243.677   16781.3\n",
       " 6.47106   383.972   243.677   16781.3\n",
       "\n",
       "[:, :, 2] =\n",
       " 0.317361   18.8312   11.9507    781.859\n",
       " 0.317361   18.8312   11.9507    781.859\n",
       " 0.317361   18.8312   11.9507    781.859\n",
       " 0.317361   18.8312   11.9507    781.859\n",
       " 0.317361   18.8312   11.9507    781.859\n",
       " 0.317361   18.8312   11.9507    781.859\n",
       " 0.317361   18.8312   11.9507    781.859\n",
       " 0.317361   18.8312   11.9507    781.859\n",
       " 0.317361   18.8312   11.9507    781.859\n",
       " 0.317361   18.8312   11.9507    781.859\n",
       " 0.317361   18.8312   11.9507    781.859\n",
       " 0.317361   18.8312   11.9507    781.859\n",
       " 0.317361   18.8312   11.9507    781.859\n",
       " ⋮                             \n",
       " 6.46051   383.345   243.28    15916.2\n",
       " 6.46051   383.345   243.28    15916.2\n",
       " 6.46051   383.345   243.28    15916.2\n",
       " 6.46051   383.345   243.28    15916.2\n",
       " 6.46051   383.345   243.28    15916.2\n",
       " 6.46051   383.345   243.28    15916.2\n",
       " 6.46051   383.345   243.28    15916.2\n",
       " 6.46051   383.345   243.28    15916.2\n",
       " 6.46051   383.345   243.28    15916.2\n",
       " 6.46051   383.345   243.28    15916.3\n",
       " 6.46051   383.345   243.28    15916.3\n",
       " 6.46051   383.345   243.28    15916.3\n",
       "\n",
       "[:, :, 3] =\n",
       " 0.317361   18.8312   11.9507    987.611\n",
       " 0.317361   18.8312   11.9507    987.611\n",
       " 0.317361   18.8312   11.9507    987.611\n",
       " 0.317361   18.8312   11.9507    987.611\n",
       " 0.317361   18.8312   11.9507    987.611\n",
       " 0.317361   18.8312   11.9507    987.611\n",
       " 0.317361   18.8312   11.9507    987.611\n",
       " 0.317361   18.8312   11.9507    987.611\n",
       " 0.317361   18.8312   11.9507    987.611\n",
       " 0.317361   18.8312   11.9507    987.611\n",
       " 0.317361   18.8312   11.9507    987.611\n",
       " 0.317361   18.8312   11.9507    987.611\n",
       " 0.317361   18.8312   11.9507    987.611\n",
       " ⋮                             \n",
       " 6.49916   385.639   244.736   20225.0\n",
       " 6.49916   385.639   244.736   20225.0\n",
       " 6.49916   385.639   244.736   20225.0\n",
       " 6.49916   385.639   244.736   20225.0\n",
       " 6.49916   385.639   244.736   20225.0\n",
       " 6.49916   385.639   244.736   20225.0\n",
       " 6.49916   385.639   244.736   20225.0\n",
       " 6.49916   385.639   244.736   20225.0\n",
       " 6.49916   385.639   244.736   20225.0\n",
       " 6.49916   385.639   244.736   20225.0\n",
       " 6.49916   385.639   244.736   20225.0\n",
       " 6.49916   385.639   244.736   20225.0"
      ]
     },
     "execution_count": 15,
     "metadata": {},
     "output_type": "execute_result"
    }
   ],
   "source": [
    "oedms_res[\"Simul_M1\"]"
   ]
  },
  {
   "cell_type": "markdown",
   "metadata": {},
   "source": [
    "**- Simul_M2:** Simulation of model 2 using the optimum input profile. "
   ]
  },
  {
   "cell_type": "code",
   "execution_count": 16,
   "metadata": {},
   "outputs": [
    {
     "data": {
      "text/plain": [
       "288×4×3 Array{Float64,3}:\n",
       "[:, :, 1] =\n",
       "  0.0         0.0        0.0            0.0\n",
       "  2.3932     15.5592     0.465218      32.0381\n",
       "  4.58487    56.1104     3.32138      228.734\n",
       "  6.59198   114.078     10.0181       689.919\n",
       "  8.43008   183.662     21.2529      1463.62\n",
       " 10.1134    260.453     37.2034      2562.09\n",
       " 11.655     341.125     57.7005      3973.66\n",
       " 13.0667    423.2       82.3548      5671.53\n",
       " 14.3596    504.855    110.649       7620.08\n",
       " 15.5436    584.774    142.004       9779.41\n",
       " 16.6279    662.034    175.824      12108.5\n",
       " 17.6209    736.014    211.529      14567.3\n",
       " 18.5303    806.317    248.572      17118.4\n",
       "  ⋮                                \n",
       " 53.5544   3177.74    2016.65      138881.0\n",
       " 53.5544   3177.74    2016.65      138881.0\n",
       " 53.5544   3177.74    2016.66      138881.0\n",
       " 53.5544   3177.74    2016.66      138881.0\n",
       " 53.5544   3177.74    2016.66      138881.0\n",
       " 53.5544   3177.74    2016.66      138881.0\n",
       " 53.5544   3177.74    2016.66      138881.0\n",
       " 53.5544   3177.74    2016.66      138881.0\n",
       " 53.5544   3177.74    2016.66      138882.0\n",
       " 53.5545   3177.74    2016.66      138882.0\n",
       " 53.5545   3177.74    2016.67      138882.0\n",
       " 53.5545   3177.74    2016.67      138882.0\n",
       "\n",
       "[:, :, 2] =\n",
       "  0.0         0.0        0.0            0.0\n",
       "  2.39839    14.8589     0.422271      27.6265\n",
       "  4.6045     53.8546     3.03166      198.342\n",
       "  6.63374   110.019      9.19423      601.52\n",
       "  8.5003    177.942     19.6089      1282.88\n",
       " 10.2172    253.45      34.5035      2257.35\n",
       " 11.7965    333.345     53.7832      3518.69\n",
       " 13.2491    415.201     77.1405      5046.81\n",
       " 14.5853    497.197    104.138       6813.08\n",
       " 15.8144    577.991    134.267       8784.25\n",
       " 16.9449    656.612    166.993      10925.3\n",
       " 17.9848    732.378    201.781      13201.2\n",
       " 18.9413    804.833    238.12       15578.7\n",
       "  ⋮                                \n",
       " 55.0565   3266.87    2073.21      135637.0\n",
       " 55.0565   3266.87    2073.22      135637.0\n",
       " 55.0566   3266.87    2073.22      135637.0\n",
       " 55.0566   3266.87    2073.22      135638.0\n",
       " 55.0566   3266.87    2073.22      135638.0\n",
       " 55.0566   3266.87    2073.22      135638.0\n",
       " 55.0566   3266.87    2073.23      135638.0\n",
       " 55.0566   3266.88    2073.23      135638.0\n",
       " 55.0566   3266.88    2073.23      135638.0\n",
       " 55.0566   3266.88    2073.23      135638.0\n",
       " 55.0566   3266.88    2073.23      135638.0\n",
       " 55.0566   3266.88    2073.23      135638.0\n",
       "\n",
       "[:, :, 3] =\n",
       "  0.0         0.0        0.0            0.0\n",
       "  2.37257    18.2847     0.654762      54.1098\n",
       "  4.50747    64.6395     4.57177      377.813\n",
       "  6.42849   128.953     13.4947      1115.21\n",
       "  8.15706   203.909     28.0336      2316.71\n",
       "  9.71247   284.271     48.0838      3973.66\n",
       " 11.1121    366.344     73.1171      6042.42\n",
       " 12.3714    447.575    102.381       8460.81\n",
       " 13.5047    526.246    135.032      11159.1\n",
       " 14.5244    601.252    170.22       14067.0\n",
       " 15.4419    671.931    207.143      17118.4\n",
       " 16.2675    737.938    245.076      20253.2\n",
       " 17.0104    799.154    283.386      23419.1\n",
       "  ⋮                                \n",
       " 48.7889   2894.97    1837.21      151828.0\n",
       " 48.7889   2894.97    1837.21      151828.0\n",
       " 48.7889   2894.97    1837.21      151828.0\n",
       " 48.7889   2894.97    1837.22      151828.0\n",
       " 48.7889   2894.97    1837.22      151828.0\n",
       " 48.7889   2894.97    1837.22      151828.0\n",
       " 48.7889   2894.97    1837.22      151828.0\n",
       " 48.7889   2894.98    1837.22      151828.0\n",
       " 48.7889   2894.98    1837.22      151828.0\n",
       " 48.7889   2894.98    1837.22      151828.0\n",
       " 48.7889   2894.98    1837.22      151828.0\n",
       " 48.7889   2894.98    1837.22      151828.0"
      ]
     },
     "execution_count": 16,
     "metadata": {},
     "output_type": "execute_result"
    }
   ],
   "source": [
    "oedms_res[\"Simul_M2\"]"
   ]
  },
  {
   "cell_type": "markdown",
   "metadata": {},
   "source": [
    "**- BestUtil:** Best utility function value"
   ]
  },
  {
   "cell_type": "code",
   "execution_count": 17,
   "metadata": {},
   "outputs": [
    {
     "data": {
      "text/plain": [
       "1.8568580477129045e12"
      ]
     },
     "execution_count": 17,
     "metadata": {},
     "output_type": "execute_result"
    }
   ],
   "source": [
    "oedms_res[\"BestUtil\"]"
   ]
  },
  {
   "cell_type": "markdown",
   "metadata": {},
   "source": [
    "**- ConvCurv:** Convergence curve for the optimisation. First column indicates iteration and second column best utility function so far. "
   ]
  },
  {
   "cell_type": "code",
   "execution_count": 18,
   "metadata": {},
   "outputs": [
    {
     "data": {
      "text/plain": [
       "50×2 Array{Float64,2}:\n",
       "  1.0  1.24247e10\n",
       "  2.0  1.24247e10\n",
       "  3.0  5.01717e10\n",
       "  4.0  5.01717e10\n",
       "  5.0  5.01717e10\n",
       "  6.0  4.2469e11\n",
       "  7.0  4.2469e11\n",
       "  8.0  4.2469e11\n",
       "  9.0  4.2469e11\n",
       " 10.0  4.2469e11\n",
       " 11.0  4.2469e11\n",
       " 12.0  4.2469e11\n",
       " 13.0  4.2469e11\n",
       "  ⋮    \n",
       " 39.0  1.85686e12\n",
       " 40.0  1.85686e12\n",
       " 41.0  1.85686e12\n",
       " 42.0  1.85686e12\n",
       " 43.0  1.85686e12\n",
       " 44.0  1.85686e12\n",
       " 45.0  1.85686e12\n",
       " 46.0  1.85686e12\n",
       " 47.0  1.85686e12\n",
       " 48.0  1.85686e12\n",
       " 49.0  1.85686e12\n",
       " 50.0  1.85686e12"
      ]
     },
     "execution_count": 18,
     "metadata": {},
     "output_type": "execute_result"
    }
   ],
   "source": [
    "oedms_res[\"ConvCurv\"]"
   ]
  },
  {
   "cell_type": "markdown",
   "metadata": {},
   "source": [
    "**- SimulObs_M2:** Simulation of the observables for model 2 using the optimum input profile. "
   ]
  },
  {
   "cell_type": "code",
   "execution_count": 19,
   "metadata": {},
   "outputs": [
    {
     "data": {
      "text/plain": [
       "288×1×3 Array{Float64,3}:\n",
       "[:, :, 1] =\n",
       "      0.0\n",
       "     96.11440586661519\n",
       "    686.2005358459977\n",
       "   2069.7561935895146\n",
       "   4390.869729031015\n",
       "   7686.263988883186\n",
       "  11920.975796114202\n",
       "  17014.581812978075\n",
       "  22860.22910281453\n",
       "  29338.218360105617\n",
       "  36325.48877668236\n",
       "  43702.043285820226\n",
       "  51355.11009325506\n",
       "      ⋮\n",
       " 416642.25676905713\n",
       " 416642.6358747746\n",
       " 416642.9835015974\n",
       " 416643.30225625273\n",
       " 416643.5944990432\n",
       " 416643.86243478855\n",
       " 416644.10805592895\n",
       " 416644.3332162582\n",
       " 416644.5396101035\n",
       " 416644.7287852197\n",
       " 416644.9021819028\n",
       " 416645.0610987039\n",
       "\n",
       "[:, :, 2] =\n",
       "      0.0\n",
       "     82.87947798173977\n",
       "    595.0269219091621\n",
       "   1804.5596830376458\n",
       "   3848.652780583903\n",
       "   6772.038706970321\n",
       "  10556.063511346272\n",
       "  15140.420004377094\n",
       "  20439.225222397494\n",
       "  26352.749995378304\n",
       "  32775.82360928766\n",
       "  39603.71278584974\n",
       "  46736.09628056589\n",
       "      ⋮\n",
       " 406911.4797265365\n",
       " 406911.9206278595\n",
       " 406912.3267785462\n",
       " 406912.70089846395\n",
       " 406913.04547785135\n",
       " 406913.3628383073\n",
       " 406913.6551012166\n",
       " 406913.9242423059\n",
       " 406914.1720735408\n",
       " 406914.4002695088\n",
       " 406914.6103769783\n",
       " 406914.80381649174\n",
       "\n",
       "[:, :, 3] =\n",
       "      0.0\n",
       "    162.32931928842657\n",
       "   1133.4385521878519\n",
       "   3345.627672862249\n",
       "   6950.1242354847745\n",
       "  11920.976069449443\n",
       "  18127.26440087288\n",
       "  25382.44182017532\n",
       "  33477.27355106667\n",
       "  42201.13207482184\n",
       "  51355.1113949372\n",
       "  60759.47725334737\n",
       "  70257.26885118212\n",
       "      ⋮\n",
       " 455483.77138031175\n",
       " 455483.9718221585\n",
       " 455484.1523158213\n",
       " 455484.31478187226\n",
       " 455484.46105047106\n",
       " 455484.5927626075\n",
       " 455484.7112977742\n",
       " 455484.8180424771\n",
       " 455484.914147508\n",
       " 455485.00066144415\n",
       " 455485.0785756727\n",
       " 455485.14871813625"
      ]
     },
     "execution_count": 19,
     "metadata": {},
     "output_type": "execute_result"
    }
   ],
   "source": [
    "oedms_res[\"SimulObs_M2\"]"
   ]
  },
  {
   "cell_type": "markdown",
   "metadata": {},
   "source": [
    "**- SimulObs_M1:** Simulation of the observables for model 1 using the optimum input profile. "
   ]
  },
  {
   "cell_type": "code",
   "execution_count": 20,
   "metadata": {},
   "outputs": [
    {
     "data": {
      "text/plain": [
       "288×1×3 Array{Float64,3}:\n",
       "[:, :, 1] =\n",
       "  2469.0287158650076\n",
       "  2469.0287158650076\n",
       "  2469.0287158650076\n",
       "  2469.0287158650076\n",
       "  2469.0287158650076\n",
       "  2469.0287158650076\n",
       "  2469.0287158650076\n",
       "  2469.0287158650076\n",
       "  2469.0287158650076\n",
       "  2469.0287158650076\n",
       "  2469.0287158650076\n",
       "  2469.0287158650076\n",
       "  2469.0287158650076\n",
       "     ⋮\n",
       " 50343.93485509303\n",
       " 50343.94101625819\n",
       " 50343.9463609918\n",
       " 50343.95099533875\n",
       " 50343.955012537524\n",
       " 50343.958495484025\n",
       " 50343.961516777796\n",
       " 50343.964137823765\n",
       " 50343.966409902896\n",
       " 50343.96837892494\n",
       " 50343.97008585623\n",
       " 50343.971566635446\n",
       "\n",
       "[:, :, 2] =\n",
       "  2345.5772800717577\n",
       "  2345.5772800717577\n",
       "  2345.5772800717577\n",
       "  2345.5772800717577\n",
       "  2345.5772800717577\n",
       "  2345.5772800717577\n",
       "  2345.5772800717577\n",
       "  2345.5772800717577\n",
       "  2345.5772800717577\n",
       "  2345.5772800717577\n",
       "  2345.5772800717577\n",
       "  2345.5772800717577\n",
       "  2345.5772800717577\n",
       "     ⋮\n",
       " 47748.69416493422\n",
       " 47748.70451471857\n",
       " 47748.713556215764\n",
       " 47748.721453868326\n",
       " 47748.72835011931\n",
       " 47748.7343722149\n",
       " 47748.739632481316\n",
       " 47748.744228226686\n",
       " 47748.74824146398\n",
       " 47748.75174514195\n",
       " 47748.754804512224\n",
       " 47748.75747706059\n",
       "\n",
       "[:, :, 3] =\n",
       "  2962.83445903801\n",
       "  2962.83445903801\n",
       "  2962.83445903801\n",
       "  2962.8344590380066\n",
       "  2962.8344590379947\n",
       "  2962.834459037979\n",
       "  2962.8344590379634\n",
       "  2962.834459037952\n",
       "  2962.834459037947\n",
       "  2962.8344590379497\n",
       "  2962.83445903796\n",
       "  2962.8344590379775\n",
       "  2962.834459038001\n",
       "     ⋮\n",
       " 60675.101786924184\n",
       " 60675.102531043274\n",
       " 60675.10315910814\n",
       " 60675.10368947325\n",
       " 60675.10413612058\n",
       " 60675.1045116297\n",
       " 60675.10482737445\n",
       " 60675.105093522885\n",
       " 60675.10531858273\n",
       " 60675.105508330154\n",
       " 60675.10566810201\n",
       " 60675.105802648286"
      ]
     },
     "execution_count": 20,
     "metadata": {},
     "output_type": "execute_result"
    }
   ],
   "source": [
    "oedms_res[\"SimulObs_M1\"]"
   ]
  },
  {
   "cell_type": "markdown",
   "metadata": {},
   "source": [
    "### Now, let's have a look at the plots generated\n",
    "First, the convergence curve <br>\n",
    "Note that to reduce the computational time of the example we used a really low number of iterations, so do not be surprised if the results do not look good. Also, technically, the second model does not make much sense as well. "
   ]
  },
  {
   "cell_type": "code",
   "execution_count": 21,
   "metadata": {},
   "outputs": [],
   "source": [
    "using Images # Package not called in BOMBS, this is just to display the generated PNGs"
   ]
  },
  {
   "cell_type": "code",
   "execution_count": 22,
   "metadata": {},
   "outputs": [
    {
     "data": {
      "image/png": "[encoded data removed]",
      "text/plain": [
       "400×600 Array{RGB{N0f8},2} with eltype RGB{Normed{UInt8,8}}:\n",
       " RGB{N0f8}(1.0,1.0,1.0)  RGB{N0f8}(1.0,1.0,1.0)  …  RGB{N0f8}(1.0,1.0,1.0)\n",
       " RGB{N0f8}(1.0,1.0,1.0)  RGB{N0f8}(1.0,1.0,1.0)     RGB{N0f8}(1.0,1.0,1.0)\n",
       " RGB{N0f8}(1.0,1.0,1.0)  RGB{N0f8}(1.0,1.0,1.0)     RGB{N0f8}(1.0,1.0,1.0)\n",
       " RGB{N0f8}(1.0,1.0,1.0)  RGB{N0f8}(1.0,1.0,1.0)     RGB{N0f8}(1.0,1.0,1.0)\n",
       " RGB{N0f8}(1.0,1.0,1.0)  RGB{N0f8}(1.0,1.0,1.0)     RGB{N0f8}(1.0,1.0,1.0)\n",
       " RGB{N0f8}(1.0,1.0,1.0)  RGB{N0f8}(1.0,1.0,1.0)  …  RGB{N0f8}(1.0,1.0,1.0)\n",
       " RGB{N0f8}(1.0,1.0,1.0)  RGB{N0f8}(1.0,1.0,1.0)     RGB{N0f8}(1.0,1.0,1.0)\n",
       " RGB{N0f8}(1.0,1.0,1.0)  RGB{N0f8}(1.0,1.0,1.0)     RGB{N0f8}(1.0,1.0,1.0)\n",
       " RGB{N0f8}(1.0,1.0,1.0)  RGB{N0f8}(1.0,1.0,1.0)     RGB{N0f8}(1.0,1.0,1.0)\n",
       " RGB{N0f8}(1.0,1.0,1.0)  RGB{N0f8}(1.0,1.0,1.0)     RGB{N0f8}(1.0,1.0,1.0)\n",
       " RGB{N0f8}(1.0,1.0,1.0)  RGB{N0f8}(1.0,1.0,1.0)  …  RGB{N0f8}(1.0,1.0,1.0)\n",
       " RGB{N0f8}(1.0,1.0,1.0)  RGB{N0f8}(1.0,1.0,1.0)     RGB{N0f8}(1.0,1.0,1.0)\n",
       " RGB{N0f8}(1.0,1.0,1.0)  RGB{N0f8}(1.0,1.0,1.0)     RGB{N0f8}(1.0,1.0,1.0)\n",
       " ⋮                                               ⋱  \n",
       " RGB{N0f8}(1.0,1.0,1.0)  RGB{N0f8}(1.0,1.0,1.0)     RGB{N0f8}(1.0,1.0,1.0)\n",
       " RGB{N0f8}(1.0,1.0,1.0)  RGB{N0f8}(1.0,1.0,1.0)     RGB{N0f8}(1.0,1.0,1.0)\n",
       " RGB{N0f8}(1.0,1.0,1.0)  RGB{N0f8}(1.0,1.0,1.0)  …  RGB{N0f8}(1.0,1.0,1.0)\n",
       " RGB{N0f8}(1.0,1.0,1.0)  RGB{N0f8}(1.0,1.0,1.0)     RGB{N0f8}(1.0,1.0,1.0)\n",
       " RGB{N0f8}(1.0,1.0,1.0)  RGB{N0f8}(1.0,1.0,1.0)     RGB{N0f8}(1.0,1.0,1.0)\n",
       " RGB{N0f8}(1.0,1.0,1.0)  RGB{N0f8}(1.0,1.0,1.0)     RGB{N0f8}(1.0,1.0,1.0)\n",
       " RGB{N0f8}(1.0,1.0,1.0)  RGB{N0f8}(1.0,1.0,1.0)     RGB{N0f8}(1.0,1.0,1.0)\n",
       " RGB{N0f8}(1.0,1.0,1.0)  RGB{N0f8}(1.0,1.0,1.0)  …  RGB{N0f8}(1.0,1.0,1.0)\n",
       " RGB{N0f8}(1.0,1.0,1.0)  RGB{N0f8}(1.0,1.0,1.0)     RGB{N0f8}(1.0,1.0,1.0)\n",
       " RGB{N0f8}(1.0,1.0,1.0)  RGB{N0f8}(1.0,1.0,1.0)     RGB{N0f8}(1.0,1.0,1.0)\n",
       " RGB{N0f8}(1.0,1.0,1.0)  RGB{N0f8}(1.0,1.0,1.0)     RGB{N0f8}(1.0,1.0,1.0)\n",
       " RGB{N0f8}(1.0,1.0,1.0)  RGB{N0f8}(1.0,1.0,1.0)     RGB{N0f8}(1.0,1.0,1.0)"
      ]
     },
     "execution_count": 22,
     "metadata": {},
     "output_type": "execute_result"
    }
   ],
   "source": [
    "# Note that none of the curves are at convergence due to the low time allowed for the optimisation. \n",
    "CC1 = load(string(oedms_def[\"savepath\"], \"\\\\Plot_OEDMSConvergence_\",oedms_def[\"flag\"],\".png\"))"
   ]
  },
  {
   "cell_type": "markdown",
   "metadata": {},
   "source": [
    "And now the experiment simulations"
   ]
  },
  {
   "cell_type": "code",
   "execution_count": 23,
   "metadata": {},
   "outputs": [
    {
     "data": {
      "image/png": "[encoded data removed]",
      "text/plain": [
       "1200×2000 Array{RGB{N0f8},2} with eltype RGB{Normed{UInt8,8}}:\n",
       " RGB{N0f8}(1.0,1.0,1.0)  RGB{N0f8}(1.0,1.0,1.0)  …  RGB{N0f8}(1.0,1.0,1.0)\n",
       " RGB{N0f8}(1.0,1.0,1.0)  RGB{N0f8}(1.0,1.0,1.0)     RGB{N0f8}(1.0,1.0,1.0)\n",
       " RGB{N0f8}(1.0,1.0,1.0)  RGB{N0f8}(1.0,1.0,1.0)     RGB{N0f8}(1.0,1.0,1.0)\n",
       " RGB{N0f8}(1.0,1.0,1.0)  RGB{N0f8}(1.0,1.0,1.0)     RGB{N0f8}(1.0,1.0,1.0)\n",
       " RGB{N0f8}(1.0,1.0,1.0)  RGB{N0f8}(1.0,1.0,1.0)     RGB{N0f8}(1.0,1.0,1.0)\n",
       " RGB{N0f8}(1.0,1.0,1.0)  RGB{N0f8}(1.0,1.0,1.0)  …  RGB{N0f8}(1.0,1.0,1.0)\n",
       " RGB{N0f8}(1.0,1.0,1.0)  RGB{N0f8}(1.0,1.0,1.0)     RGB{N0f8}(1.0,1.0,1.0)\n",
       " RGB{N0f8}(1.0,1.0,1.0)  RGB{N0f8}(1.0,1.0,1.0)     RGB{N0f8}(1.0,1.0,1.0)\n",
       " RGB{N0f8}(1.0,1.0,1.0)  RGB{N0f8}(1.0,1.0,1.0)     RGB{N0f8}(1.0,1.0,1.0)\n",
       " RGB{N0f8}(1.0,1.0,1.0)  RGB{N0f8}(1.0,1.0,1.0)     RGB{N0f8}(1.0,1.0,1.0)\n",
       " RGB{N0f8}(1.0,1.0,1.0)  RGB{N0f8}(1.0,1.0,1.0)  …  RGB{N0f8}(1.0,1.0,1.0)\n",
       " RGB{N0f8}(1.0,1.0,1.0)  RGB{N0f8}(1.0,1.0,1.0)     RGB{N0f8}(1.0,1.0,1.0)\n",
       " RGB{N0f8}(1.0,1.0,1.0)  RGB{N0f8}(1.0,1.0,1.0)     RGB{N0f8}(1.0,1.0,1.0)\n",
       " ⋮                                               ⋱  \n",
       " RGB{N0f8}(1.0,1.0,1.0)  RGB{N0f8}(1.0,1.0,1.0)     RGB{N0f8}(1.0,1.0,1.0)\n",
       " RGB{N0f8}(1.0,1.0,1.0)  RGB{N0f8}(1.0,1.0,1.0)     RGB{N0f8}(1.0,1.0,1.0)\n",
       " RGB{N0f8}(1.0,1.0,1.0)  RGB{N0f8}(1.0,1.0,1.0)  …  RGB{N0f8}(1.0,1.0,1.0)\n",
       " RGB{N0f8}(1.0,1.0,1.0)  RGB{N0f8}(1.0,1.0,1.0)     RGB{N0f8}(1.0,1.0,1.0)\n",
       " RGB{N0f8}(1.0,1.0,1.0)  RGB{N0f8}(1.0,1.0,1.0)     RGB{N0f8}(1.0,1.0,1.0)\n",
       " RGB{N0f8}(1.0,1.0,1.0)  RGB{N0f8}(1.0,1.0,1.0)     RGB{N0f8}(1.0,1.0,1.0)\n",
       " RGB{N0f8}(1.0,1.0,1.0)  RGB{N0f8}(1.0,1.0,1.0)     RGB{N0f8}(1.0,1.0,1.0)\n",
       " RGB{N0f8}(1.0,1.0,1.0)  RGB{N0f8}(1.0,1.0,1.0)  …  RGB{N0f8}(1.0,1.0,1.0)\n",
       " RGB{N0f8}(1.0,1.0,1.0)  RGB{N0f8}(1.0,1.0,1.0)     RGB{N0f8}(1.0,1.0,1.0)\n",
       " RGB{N0f8}(1.0,1.0,1.0)  RGB{N0f8}(1.0,1.0,1.0)     RGB{N0f8}(1.0,1.0,1.0)\n",
       " RGB{N0f8}(1.0,1.0,1.0)  RGB{N0f8}(1.0,1.0,1.0)     RGB{N0f8}(1.0,1.0,1.0)\n",
       " RGB{N0f8}(1.0,1.0,1.0)  RGB{N0f8}(1.0,1.0,1.0)     RGB{N0f8}(1.0,1.0,1.0)"
      ]
     },
     "execution_count": 23,
     "metadata": {},
     "output_type": "execute_result"
    }
   ],
   "source": [
    "expMS = load(string(oedms_def[\"savepath\"], \"\\\\PlotOEDMSResults_Exp1_\",oedms_def[\"flag\"],\".png\"))"
   ]
  },
  {
   "cell_type": "markdown",
   "metadata": {},
   "source": [
    "# OED Model Selection Example 2\n",
    "This is a basic example showing how to use the basic elements of the section. <br>\n",
    "<br>\n",
    "Here we are going to design a pulse experiment with only 2 optimised input values. <br>\n",
    "<br>\n",
    "There is no example for this, but if as theta samples for the 2 models you only introduce 1 the script will still proceed using the Euclidean distance. But be careful, since this strategy will not be Bayesian anymore. "
   ]
  },
  {
   "cell_type": "code",
   "execution_count": 24,
   "metadata": {},
   "outputs": [
    {
     "data": {
      "text/plain": [
       "Dict{Any,Any} with 20 entries:\n",
       "  \"Theta_M2\"  => Any[]\n",
       "  \"maxiter\"   => Any[]\n",
       "  \"y0_M2\"     => Any[]\n",
       "  \"fixedStep\" => Any[]\n",
       "  \"preInd_M1\" => Any[]\n",
       "  \"fixedInp\"  => Any[]\n",
       "  \"Model_1\"   => Any[]\n",
       "  \"Obs\"       => Any[]\n",
       "  \"uUpper\"    => Any[]\n",
       "  \"Model_2\"   => Any[]\n",
       "  \"switchT\"   => Any[]\n",
       "  \"preInd_M2\" => Any[]\n",
       "  \"finalTime\" => Any[]\n",
       "  \"y0_M1\"     => Any[]\n",
       "  \"equalStep\" => Any[]\n",
       "  \"Theta_M1\"  => Any[]\n",
       "  \"tsamps\"    => Any[]\n",
       "  \"flag\"      => Any[]\n",
       "  \"plot\"      => Any[]\n",
       "  \"uLower\"    => Any[]"
      ]
     },
     "execution_count": 24,
     "metadata": {},
     "output_type": "execute_result"
    }
   ],
   "source": [
    "oedms_def2 = defODEModelSelectStruct()"
   ]
  },
  {
   "cell_type": "code",
   "execution_count": 25,
   "metadata": {},
   "outputs": [],
   "source": [
    "oedms_def2[\"Model_1\"] = [model_def1]; \n",
    "oedms_def2[\"Model_2\"] = [model_def2]; \n",
    "oedms_def2[\"Obs\"] = [\"3*Cit_AU\"]; \n",
    "oedms_def2[\"Theta_M1\"] = [\"TestThetaPLac.csv\"]; \n",
    "oedms_def2[\"Theta_M2\"] = [\"TestThetaPLac2.csv\"]; \n",
    "\n",
    "oedms_def2[\"y0_M1\"] = [10,10,10,10]; \n",
    "oedms_def2[\"y0_M2\"] = [10,10,10,10];  \n",
    "oedms_def2[\"preInd_M1\"] = [0]; \n",
    "oedms_def2[\"preInd_M2\"] = [0, 0]; \n",
    "oedms_def2[\"finalTime\"] = [1439]; \n",
    "oedms_def2[\"switchT\"] = [[0, 250, 500, 750, 1000, 1200, 1439]];\n",
    "oedms_def2[\"tsamps\"] = [collect(0:5:1439)];\n",
    "oedms_def2[\"fixedInp\"] = []; \n",
    "oedms_def2[\"fixedStep\"] = []; # This does not take into account fixed inputs\n",
    "oedms_def2[\"equalStep\"] = [[2,4,6],[1,3,5]];\n",
    "\n",
    "oedms_def2[\"plot\"] = [true]; \n",
    "oedms_def2[\"flag\"] = [\"testOEDMS2\"];\n",
    "\n",
    "oedms_def2[\"uUpper\"] = [100, 10];\n",
    "oedms_def2[\"uLower\"] = [0, 0];\n",
    "oedms_def2[\"maxiter\"] = [50];"
   ]
  },
  {
   "cell_type": "code",
   "execution_count": 26,
   "metadata": {},
   "outputs": [
    {
     "name": "stdout",
     "output_type": "stream",
     "text": [
      "-------------------------- WARNING --------------------------\n",
      "Less than 50 samples for theta are given for Model 1. \n",
      "Consider using more samples for better results. \n",
      "-------------------------------------------------------------\n",
      "-------------------------- WARNING --------------------------\n",
      "Less than 50 samples for theta are given for Model 2. \n",
      "Consider using more samples for better results. \n",
      "-------------------------------------------------------------\n",
      "-------------------------- WARNING --------------------------\n",
      "The amount of inducers is different in the two models.\n",
      "Be carefull on how you configure that. \n",
      "-------------------------------------------------------------\n",
      "\n",
      "----------------------------------------- MODEL GENERATION -----------------------------------------\n",
      "The model has been generated in the directory: \n",
      "                 E:\\UNI\\D_Drive\\PhD\\JULIAlang\\Generalisation_PLacExample\\Examples\\ModelsFunctions\\PLacExample_Model.jl\n",
      "--------------------------------------------------------------------------------------\n",
      "\n",
      "\n",
      "----------------------------------------- MODEL GENERATION -----------------------------------------\n",
      "The model has been generated in the directory: \n",
      "                 E:\\UNI\\D_Drive\\PhD\\JULIAlang\\Generalisation_PLacExample\\Examples\\ModelsFunctions\\TestPLac_M2_Model.jl\n",
      "--------------------------------------------------------------------------------------\n",
      "\n",
      "\n",
      "----------------------------------------- SCRIPTS OED Model Selection -----------------------------------------\n",
      "Utility function script to perform OED for Model Selection has been generated in the directory: \n",
      "E:\\UNI\\D_Drive\\PhD\\JULIAlang\\Generalisation_PLacExample\\Examples\\Results\\PLacExample_VS_TestPLac_M2_2021-01-22\\OEDModelSelectionScripts\\PLacExample_VS_TestPLac_M2_OEDMS.jl\n",
      "--------------------------------------------------------------------------------------\n",
      "\n",
      "\n",
      "---------------------------------------------- OPTIMISATION INFO ----------------------------------------------\n",
      "\n",
      "If you wish to modify any of the settings for the Bayesian Optimisation used (from the package \n",
      "BayesianOptimization.jl) please search the function settingsBayesOpt located in the file ModelOEDSelection.jl \n",
      "that is located in the directory: \n",
      "        C:\\Users\\david\\AppData\\Local\\JuliaPro-1.4.0-1\\Julia-1.4.0\\share\\julia\\stdlib\\v1.4\\BOMBS.jl\\src\n",
      "and change any desired setting (under your own risk). \n",
      "If any irreversible change is made by mistake, just look for the file settingsBayesOptBackUp.jl and copy the\n",
      "contents of the function inside (which are the same as the original except for the function name ;) )\n",
      "\n",
      "---------------------------------------------------------------------------------------------------------------\n",
      "\n"
     ]
    }
   ],
   "source": [
    "# Generate scripts for the ODEs and Utility functions\n",
    "oedms_def2 = genOptimMSFuncts(oedms_def2);"
   ]
  },
  {
   "cell_type": "code",
   "execution_count": 27,
   "metadata": {
    "scrolled": true
   },
   "outputs": [
    {
     "name": "stdout",
     "output_type": "stream",
     "text": [
      "-------------------------- WARNING --------------------------\n",
      "Less than 50 samples for theta are given for Model 1. \n",
      "Consider using more samples for better results. \n",
      "-------------------------------------------------------------\n",
      "-------------------------- WARNING --------------------------\n",
      "Less than 50 samples for theta are given for Model 2. \n",
      "Consider using more samples for better results. \n",
      "-------------------------------------------------------------\n",
      "-------------------------- WARNING --------------------------\n",
      "The amount of inducers is different in the two models.\n",
      "Be carefull on how you configure that. \n",
      "-------------------------------------------------------------\n"
     ]
    },
    {
     "name": "stderr",
     "output_type": "stream",
     "text": [
      "┌ Info: 2021-01-22T14:43:22.617\titeration: 20\tcurrent optimum: 8.72570332232662e11\n",
      "└ @ BayesianOptimization C:\\Users\\david\\.juliapro\\JuliaPro_v1.4.0-1\\packages\\BayesianOptimization\\poykT\\src\\BayesianOptimization.jl:140\n",
      "┌ Info: 2021-01-22T14:43:24.436\titeration: 21\tcurrent optimum: 8.72570332232662e11\n",
      "└ @ BayesianOptimization C:\\Users\\david\\.juliapro\\JuliaPro_v1.4.0-1\\packages\\BayesianOptimization\\poykT\\src\\BayesianOptimization.jl:140\n",
      "┌ Info: 2021-01-22T14:43:24.793\titeration: 22\tcurrent optimum: 8.72570332232662e11\n",
      "└ @ BayesianOptimization C:\\Users\\david\\.juliapro\\JuliaPro_v1.4.0-1\\packages\\BayesianOptimization\\poykT\\src\\BayesianOptimization.jl:140\n",
      "┌ Info: 2021-01-22T14:43:24.853\titeration: 23\tcurrent optimum: 8.72570332232662e11\n",
      "└ @ BayesianOptimization C:\\Users\\david\\.juliapro\\JuliaPro_v1.4.0-1\\packages\\BayesianOptimization\\poykT\\src\\BayesianOptimization.jl:140\n",
      "┌ Info: 2021-01-22T14:43:24.9\titeration: 24\tcurrent optimum: 8.72570332232662e11\n",
      "└ @ BayesianOptimization C:\\Users\\david\\.juliapro\\JuliaPro_v1.4.0-1\\packages\\BayesianOptimization\\poykT\\src\\BayesianOptimization.jl:140\n",
      "┌ Info: 2021-01-22T14:43:24.952\titeration: 25\tcurrent optimum: 8.72570332232662e11\n",
      "└ @ BayesianOptimization C:\\Users\\david\\.juliapro\\JuliaPro_v1.4.0-1\\packages\\BayesianOptimization\\poykT\\src\\BayesianOptimization.jl:140\n",
      "┌ Info: 2021-01-22T14:43:25.005\titeration: 26\tcurrent optimum: 8.72570332232662e11\n",
      "└ @ BayesianOptimization C:\\Users\\david\\.juliapro\\JuliaPro_v1.4.0-1\\packages\\BayesianOptimization\\poykT\\src\\BayesianOptimization.jl:140\n",
      "┌ Info: 2021-01-22T14:43:25.055\titeration: 27\tcurrent optimum: 8.72570332232662e11\n",
      "└ @ BayesianOptimization C:\\Users\\david\\.juliapro\\JuliaPro_v1.4.0-1\\packages\\BayesianOptimization\\poykT\\src\\BayesianOptimization.jl:140\n",
      "┌ Info: 2021-01-22T14:43:25.103\titeration: 28\tcurrent optimum: 8.72570332232662e11\n",
      "└ @ BayesianOptimization C:\\Users\\david\\.juliapro\\JuliaPro_v1.4.0-1\\packages\\BayesianOptimization\\poykT\\src\\BayesianOptimization.jl:140\n",
      "┌ Info: 2021-01-22T14:43:25.153\titeration: 29\tcurrent optimum: 8.72570332232662e11\n",
      "└ @ BayesianOptimization C:\\Users\\david\\.juliapro\\JuliaPro_v1.4.0-1\\packages\\BayesianOptimization\\poykT\\src\\BayesianOptimization.jl:140\n",
      "┌ Info: 2021-01-22T14:43:25.202\titeration: 30\tcurrent optimum: 8.72570332232662e11\n",
      "└ @ BayesianOptimization C:\\Users\\david\\.juliapro\\JuliaPro_v1.4.0-1\\packages\\BayesianOptimization\\poykT\\src\\BayesianOptimization.jl:140\n",
      "┌ Info: 2021-01-22T14:43:25.265\titeration: 31\tcurrent optimum: 8.72570332232662e11\n",
      "└ @ BayesianOptimization C:\\Users\\david\\.juliapro\\JuliaPro_v1.4.0-1\\packages\\BayesianOptimization\\poykT\\src\\BayesianOptimization.jl:140\n",
      "┌ Info: 2021-01-22T14:43:25.328\titeration: 32\tcurrent optimum: 8.72570332232662e11\n",
      "└ @ BayesianOptimization C:\\Users\\david\\.juliapro\\JuliaPro_v1.4.0-1\\packages\\BayesianOptimization\\poykT\\src\\BayesianOptimization.jl:140\n",
      "┌ Info: 2021-01-22T14:43:25.378\titeration: 33\tcurrent optimum: 8.72570332232662e11\n",
      "└ @ BayesianOptimization C:\\Users\\david\\.juliapro\\JuliaPro_v1.4.0-1\\packages\\BayesianOptimization\\poykT\\src\\BayesianOptimization.jl:140\n",
      "┌ Info: 2021-01-22T14:43:25.439\titeration: 34\tcurrent optimum: 8.72570332232662e11\n",
      "└ @ BayesianOptimization C:\\Users\\david\\.juliapro\\JuliaPro_v1.4.0-1\\packages\\BayesianOptimization\\poykT\\src\\BayesianOptimization.jl:140\n",
      "┌ Info: 2021-01-22T14:43:25.49\titeration: 35\tcurrent optimum: 8.72570332232662e11\n",
      "└ @ BayesianOptimization C:\\Users\\david\\.juliapro\\JuliaPro_v1.4.0-1\\packages\\BayesianOptimization\\poykT\\src\\BayesianOptimization.jl:140\n",
      "┌ Info: 2021-01-22T14:43:25.552\titeration: 36\tcurrent optimum: 8.72570332232662e11\n",
      "└ @ BayesianOptimization C:\\Users\\david\\.juliapro\\JuliaPro_v1.4.0-1\\packages\\BayesianOptimization\\poykT\\src\\BayesianOptimization.jl:140\n",
      "┌ Info: 2021-01-22T14:43:25.603\titeration: 37\tcurrent optimum: 8.72570332232662e11\n",
      "└ @ BayesianOptimization C:\\Users\\david\\.juliapro\\JuliaPro_v1.4.0-1\\packages\\BayesianOptimization\\poykT\\src\\BayesianOptimization.jl:140\n",
      "┌ Info: 2021-01-22T14:43:25.662\titeration: 38\tcurrent optimum: 8.72570332232662e11\n",
      "└ @ BayesianOptimization C:\\Users\\david\\.juliapro\\JuliaPro_v1.4.0-1\\packages\\BayesianOptimization\\poykT\\src\\BayesianOptimization.jl:140\n",
      "┌ Info: 2021-01-22T14:43:25.714\titeration: 39\tcurrent optimum: 8.72570332232662e11\n",
      "└ @ BayesianOptimization C:\\Users\\david\\.juliapro\\JuliaPro_v1.4.0-1\\packages\\BayesianOptimization\\poykT\\src\\BayesianOptimization.jl:140\n",
      "┌ Info: 2021-01-22T14:43:25.766\titeration: 40\tcurrent optimum: 8.72570332232662e11\n",
      "└ @ BayesianOptimization C:\\Users\\david\\.juliapro\\JuliaPro_v1.4.0-1\\packages\\BayesianOptimization\\poykT\\src\\BayesianOptimization.jl:140\n",
      "┌ Info: 2021-01-22T14:43:25.82\titeration: 41\tcurrent optimum: 8.72570332232662e11\n",
      "└ @ BayesianOptimization C:\\Users\\david\\.juliapro\\JuliaPro_v1.4.0-1\\packages\\BayesianOptimization\\poykT\\src\\BayesianOptimization.jl:140\n",
      "┌ Info: 2021-01-22T14:43:25.884\titeration: 42\tcurrent optimum: 1.6556086325300925e12\n",
      "└ @ BayesianOptimization C:\\Users\\david\\.juliapro\\JuliaPro_v1.4.0-1\\packages\\BayesianOptimization\\poykT\\src\\BayesianOptimization.jl:140\n",
      "┌ Info: 2021-01-22T14:43:25.937\titeration: 43\tcurrent optimum: 1.6556086325300925e12\n",
      "└ @ BayesianOptimization C:\\Users\\david\\.juliapro\\JuliaPro_v1.4.0-1\\packages\\BayesianOptimization\\poykT\\src\\BayesianOptimization.jl:140\n",
      "┌ Info: 2021-01-22T14:43:25.997\titeration: 44\tcurrent optimum: 1.6556086325300925e12\n",
      "└ @ BayesianOptimization C:\\Users\\david\\.juliapro\\JuliaPro_v1.4.0-1\\packages\\BayesianOptimization\\poykT\\src\\BayesianOptimization.jl:140\n",
      "┌ Info: 2021-01-22T14:43:26.051\titeration: 45\tcurrent optimum: 1.6556086325300925e12\n",
      "└ @ BayesianOptimization C:\\Users\\david\\.juliapro\\JuliaPro_v1.4.0-1\\packages\\BayesianOptimization\\poykT\\src\\BayesianOptimization.jl:140\n",
      "┌ Info: 2021-01-22T14:43:26.12\titeration: 46\tcurrent optimum: 1.6556086325300925e12\n",
      "└ @ BayesianOptimization C:\\Users\\david\\.juliapro\\JuliaPro_v1.4.0-1\\packages\\BayesianOptimization\\poykT\\src\\BayesianOptimization.jl:140\n",
      "┌ Info: 2021-01-22T14:43:26.177\titeration: 47\tcurrent optimum: 1.6556086325300925e12\n",
      "└ @ BayesianOptimization C:\\Users\\david\\.juliapro\\JuliaPro_v1.4.0-1\\packages\\BayesianOptimization\\poykT\\src\\BayesianOptimization.jl:140\n",
      "┌ Info: 2021-01-22T14:43:26.233\titeration: 48\tcurrent optimum: 1.6556086325300925e12\n",
      "└ @ BayesianOptimization C:\\Users\\david\\.juliapro\\JuliaPro_v1.4.0-1\\packages\\BayesianOptimization\\poykT\\src\\BayesianOptimization.jl:140\n",
      "┌ Info: 2021-01-22T14:43:26.283\titeration: 49\tcurrent optimum: 1.6556086325300925e12\n",
      "└ @ BayesianOptimization C:\\Users\\david\\.juliapro\\JuliaPro_v1.4.0-1\\packages\\BayesianOptimization\\poykT\\src\\BayesianOptimization.jl:140\n",
      "┌ Info:  ──────────────────────────────────────────────────────────────────────────────\n",
      "│                                        Time                   Allocations      \n",
      "│                                ──────────────────────   ───────────────────────\n",
      "│        Tot / % measured:            8.88s / 98.8%           1.53GiB / 100%     \n",
      "│ \n",
      "│  Section               ncalls     time   %tot     avg     alloc   %tot      avg\n",
      "│  ──────────────────────────────────────────────────────────────────────────────\n",
      "│  function evaluation       50    5.25s  59.8%   105ms   0.98GiB  63.8%  20.0MiB\n",
      "│  acquisition               31    3.49s  39.8%   113ms    562MiB  35.9%  18.1MiB\n",
      "│  model update              31   31.0ms  0.35%  1.00ms   5.06MiB  0.32%   167KiB\n",
      "│  model hyperparamet...     31   4.81ms  0.05%   155μs    267KiB  0.02%  8.62KiB\n",
      "│  ──────────────────────────────────────────────────────────────────────────────\n",
      "└ @ BayesianOptimization C:\\Users\\david\\.juliapro\\JuliaPro_v1.4.0-1\\packages\\BayesianOptimization\\poykT\\src\\BayesianOptimization.jl:154\n"
     ]
    },
    {
     "name": "stdout",
     "output_type": "stream",
     "text": [
      "\n",
      "----------------------------------------- RESULTS -----------------------------------------\n",
      "OED for Model Selection results are saved in the directory: \n",
      "                 E:\\UNI\\D_Drive\\PhD\\JULIAlang\\Generalisation_PLacExample\\Examples\\Results\\PLacExample_VS_TestPLac_M2_2021-01-22\n",
      "Under the name OEDModelSelectResults_testOEDMS2.jld\n",
      "--------------------------------------------------------------------------------------\n",
      "\n",
      "\n",
      "----------------------------------------- PLOTS -----------------------------------------\n",
      "PLOTS are saved in the directory: \n",
      "                 E:\\UNI\\D_Drive\\PhD\\JULIAlang\\Generalisation_PLacExample\\Examples\\Results\\PLacExample_VS_TestPLac_M2_2021-01-22\n",
      "Under the names PlotOEDMSResults_Exp1_testOEDMS2.png and Plot_OEDMSConvergence_testOEDMS2.png\n",
      "--------------------------------------------------------------------------------------\n",
      "\n"
     ]
    }
   ],
   "source": [
    "oedms_res2, oedms_def2 = mainOEDMS(oedms_def2);"
   ]
  },
  {
   "cell_type": "markdown",
   "metadata": {},
   "source": [
    "We know what the results structure looks like, so let's go for the plots."
   ]
  },
  {
   "cell_type": "markdown",
   "metadata": {},
   "source": [
    "### Now, let's have a look at the plots generated\n",
    "First, the convergence curve <br>\n",
    "Note that to reduce the computational time of the example we used a really low number of iterations, so do not be surprised if the results do not look good. Also, technically, the second model does not make much sense as well. "
   ]
  },
  {
   "cell_type": "code",
   "execution_count": 28,
   "metadata": {},
   "outputs": [
    {
     "data": {
      "image/png": "[encoded data removed]",
      "text/plain": [
       "400×600 Array{RGB{N0f8},2} with eltype RGB{Normed{UInt8,8}}:\n",
       " RGB{N0f8}(1.0,1.0,1.0)  RGB{N0f8}(1.0,1.0,1.0)  …  RGB{N0f8}(1.0,1.0,1.0)\n",
       " RGB{N0f8}(1.0,1.0,1.0)  RGB{N0f8}(1.0,1.0,1.0)     RGB{N0f8}(1.0,1.0,1.0)\n",
       " RGB{N0f8}(1.0,1.0,1.0)  RGB{N0f8}(1.0,1.0,1.0)     RGB{N0f8}(1.0,1.0,1.0)\n",
       " RGB{N0f8}(1.0,1.0,1.0)  RGB{N0f8}(1.0,1.0,1.0)     RGB{N0f8}(1.0,1.0,1.0)\n",
       " RGB{N0f8}(1.0,1.0,1.0)  RGB{N0f8}(1.0,1.0,1.0)     RGB{N0f8}(1.0,1.0,1.0)\n",
       " RGB{N0f8}(1.0,1.0,1.0)  RGB{N0f8}(1.0,1.0,1.0)  …  RGB{N0f8}(1.0,1.0,1.0)\n",
       " RGB{N0f8}(1.0,1.0,1.0)  RGB{N0f8}(1.0,1.0,1.0)     RGB{N0f8}(1.0,1.0,1.0)\n",
       " RGB{N0f8}(1.0,1.0,1.0)  RGB{N0f8}(1.0,1.0,1.0)     RGB{N0f8}(1.0,1.0,1.0)\n",
       " RGB{N0f8}(1.0,1.0,1.0)  RGB{N0f8}(1.0,1.0,1.0)     RGB{N0f8}(1.0,1.0,1.0)\n",
       " RGB{N0f8}(1.0,1.0,1.0)  RGB{N0f8}(1.0,1.0,1.0)     RGB{N0f8}(1.0,1.0,1.0)\n",
       " RGB{N0f8}(1.0,1.0,1.0)  RGB{N0f8}(1.0,1.0,1.0)  …  RGB{N0f8}(1.0,1.0,1.0)\n",
       " RGB{N0f8}(1.0,1.0,1.0)  RGB{N0f8}(1.0,1.0,1.0)     RGB{N0f8}(1.0,1.0,1.0)\n",
       " RGB{N0f8}(1.0,1.0,1.0)  RGB{N0f8}(1.0,1.0,1.0)     RGB{N0f8}(1.0,1.0,1.0)\n",
       " ⋮                                               ⋱  \n",
       " RGB{N0f8}(1.0,1.0,1.0)  RGB{N0f8}(1.0,1.0,1.0)     RGB{N0f8}(1.0,1.0,1.0)\n",
       " RGB{N0f8}(1.0,1.0,1.0)  RGB{N0f8}(1.0,1.0,1.0)     RGB{N0f8}(1.0,1.0,1.0)\n",
       " RGB{N0f8}(1.0,1.0,1.0)  RGB{N0f8}(1.0,1.0,1.0)  …  RGB{N0f8}(1.0,1.0,1.0)\n",
       " RGB{N0f8}(1.0,1.0,1.0)  RGB{N0f8}(1.0,1.0,1.0)     RGB{N0f8}(1.0,1.0,1.0)\n",
       " RGB{N0f8}(1.0,1.0,1.0)  RGB{N0f8}(1.0,1.0,1.0)     RGB{N0f8}(1.0,1.0,1.0)\n",
       " RGB{N0f8}(1.0,1.0,1.0)  RGB{N0f8}(1.0,1.0,1.0)     RGB{N0f8}(1.0,1.0,1.0)\n",
       " RGB{N0f8}(1.0,1.0,1.0)  RGB{N0f8}(1.0,1.0,1.0)     RGB{N0f8}(1.0,1.0,1.0)\n",
       " RGB{N0f8}(1.0,1.0,1.0)  RGB{N0f8}(1.0,1.0,1.0)  …  RGB{N0f8}(1.0,1.0,1.0)\n",
       " RGB{N0f8}(1.0,1.0,1.0)  RGB{N0f8}(1.0,1.0,1.0)     RGB{N0f8}(1.0,1.0,1.0)\n",
       " RGB{N0f8}(1.0,1.0,1.0)  RGB{N0f8}(1.0,1.0,1.0)     RGB{N0f8}(1.0,1.0,1.0)\n",
       " RGB{N0f8}(1.0,1.0,1.0)  RGB{N0f8}(1.0,1.0,1.0)     RGB{N0f8}(1.0,1.0,1.0)\n",
       " RGB{N0f8}(1.0,1.0,1.0)  RGB{N0f8}(1.0,1.0,1.0)     RGB{N0f8}(1.0,1.0,1.0)"
      ]
     },
     "execution_count": 28,
     "metadata": {},
     "output_type": "execute_result"
    }
   ],
   "source": [
    "# Note that none of the curves are at convergence due to the low time allowed for the optimisation. \n",
    "CC2 = load(string(oedms_def2[\"savepath\"], \"\\\\Plot_OEDMSConvergence_\",oedms_def2[\"flag\"],\".png\"))"
   ]
  },
  {
   "cell_type": "markdown",
   "metadata": {},
   "source": [
    "And now the experiment simulations"
   ]
  },
  {
   "cell_type": "code",
   "execution_count": 29,
   "metadata": {},
   "outputs": [
    {
     "data": {
      "image/png": "[encoded data removed]",
      "text/plain": [
       "1200×2000 Array{RGB{N0f8},2} with eltype RGB{Normed{UInt8,8}}:\n",
       " RGB{N0f8}(1.0,1.0,1.0)  RGB{N0f8}(1.0,1.0,1.0)  …  RGB{N0f8}(1.0,1.0,1.0)\n",
       " RGB{N0f8}(1.0,1.0,1.0)  RGB{N0f8}(1.0,1.0,1.0)     RGB{N0f8}(1.0,1.0,1.0)\n",
       " RGB{N0f8}(1.0,1.0,1.0)  RGB{N0f8}(1.0,1.0,1.0)     RGB{N0f8}(1.0,1.0,1.0)\n",
       " RGB{N0f8}(1.0,1.0,1.0)  RGB{N0f8}(1.0,1.0,1.0)     RGB{N0f8}(1.0,1.0,1.0)\n",
       " RGB{N0f8}(1.0,1.0,1.0)  RGB{N0f8}(1.0,1.0,1.0)     RGB{N0f8}(1.0,1.0,1.0)\n",
       " RGB{N0f8}(1.0,1.0,1.0)  RGB{N0f8}(1.0,1.0,1.0)  …  RGB{N0f8}(1.0,1.0,1.0)\n",
       " RGB{N0f8}(1.0,1.0,1.0)  RGB{N0f8}(1.0,1.0,1.0)     RGB{N0f8}(1.0,1.0,1.0)\n",
       " RGB{N0f8}(1.0,1.0,1.0)  RGB{N0f8}(1.0,1.0,1.0)     RGB{N0f8}(1.0,1.0,1.0)\n",
       " RGB{N0f8}(1.0,1.0,1.0)  RGB{N0f8}(1.0,1.0,1.0)     RGB{N0f8}(1.0,1.0,1.0)\n",
       " RGB{N0f8}(1.0,1.0,1.0)  RGB{N0f8}(1.0,1.0,1.0)     RGB{N0f8}(1.0,1.0,1.0)\n",
       " RGB{N0f8}(1.0,1.0,1.0)  RGB{N0f8}(1.0,1.0,1.0)  …  RGB{N0f8}(1.0,1.0,1.0)\n",
       " RGB{N0f8}(1.0,1.0,1.0)  RGB{N0f8}(1.0,1.0,1.0)     RGB{N0f8}(1.0,1.0,1.0)\n",
       " RGB{N0f8}(1.0,1.0,1.0)  RGB{N0f8}(1.0,1.0,1.0)     RGB{N0f8}(1.0,1.0,1.0)\n",
       " ⋮                                               ⋱  \n",
       " RGB{N0f8}(1.0,1.0,1.0)  RGB{N0f8}(1.0,1.0,1.0)     RGB{N0f8}(1.0,1.0,1.0)\n",
       " RGB{N0f8}(1.0,1.0,1.0)  RGB{N0f8}(1.0,1.0,1.0)     RGB{N0f8}(1.0,1.0,1.0)\n",
       " RGB{N0f8}(1.0,1.0,1.0)  RGB{N0f8}(1.0,1.0,1.0)  …  RGB{N0f8}(1.0,1.0,1.0)\n",
       " RGB{N0f8}(1.0,1.0,1.0)  RGB{N0f8}(1.0,1.0,1.0)     RGB{N0f8}(1.0,1.0,1.0)\n",
       " RGB{N0f8}(1.0,1.0,1.0)  RGB{N0f8}(1.0,1.0,1.0)     RGB{N0f8}(1.0,1.0,1.0)\n",
       " RGB{N0f8}(1.0,1.0,1.0)  RGB{N0f8}(1.0,1.0,1.0)     RGB{N0f8}(1.0,1.0,1.0)\n",
       " RGB{N0f8}(1.0,1.0,1.0)  RGB{N0f8}(1.0,1.0,1.0)     RGB{N0f8}(1.0,1.0,1.0)\n",
       " RGB{N0f8}(1.0,1.0,1.0)  RGB{N0f8}(1.0,1.0,1.0)  …  RGB{N0f8}(1.0,1.0,1.0)\n",
       " RGB{N0f8}(1.0,1.0,1.0)  RGB{N0f8}(1.0,1.0,1.0)     RGB{N0f8}(1.0,1.0,1.0)\n",
       " RGB{N0f8}(1.0,1.0,1.0)  RGB{N0f8}(1.0,1.0,1.0)     RGB{N0f8}(1.0,1.0,1.0)\n",
       " RGB{N0f8}(1.0,1.0,1.0)  RGB{N0f8}(1.0,1.0,1.0)     RGB{N0f8}(1.0,1.0,1.0)\n",
       " RGB{N0f8}(1.0,1.0,1.0)  RGB{N0f8}(1.0,1.0,1.0)     RGB{N0f8}(1.0,1.0,1.0)"
      ]
     },
     "execution_count": 29,
     "metadata": {},
     "output_type": "execute_result"
    }
   ],
   "source": [
    "expMS2 = load(string(oedms_def2[\"savepath\"], \"\\\\PlotOEDMSResults_Exp1_\",oedms_def2[\"flag\"],\".png\"))"
   ]
  },
  {
   "cell_type": "markdown",
   "metadata": {},
   "source": [
    "# OED Model Selection Example 3\n",
    "This is a basic example showing how to use the basic elements of the section. <br>\n",
    "<br>\n",
    "Here we are going to design a pulse experiment with only 2 optimised input values (one for each inducer). In this case when one inducer is up, the other is 0. <br>\n",
    "<br>\n",
    "There is no example for this, but if as theta samples for the 2 models you only introduce 1 the script will still proceed using the Euclidean distance. But be careful, since this strategy will not be Bayesian anymore. "
   ]
  },
  {
   "cell_type": "code",
   "execution_count": 30,
   "metadata": {},
   "outputs": [],
   "source": [
    "oedms_def3 = defODEModelSelectStruct();"
   ]
  },
  {
   "cell_type": "code",
   "execution_count": 31,
   "metadata": {},
   "outputs": [],
   "source": [
    "oedms_def3[\"Model_1\"] = [model_def1]; \n",
    "oedms_def3[\"Model_2\"] = [model_def2]; \n",
    "oedms_def3[\"Obs\"] = [\"3*Cit_AU\"]; \n",
    "oedms_def3[\"Theta_M1\"] = [\"TestThetaPLac.csv\"]; \n",
    "oedms_def3[\"Theta_M2\"] = [\"TestThetaPLac2.csv\"]; \n",
    "\n",
    "oedms_def3[\"y0_M1\"] = [10,10,10,10]; \n",
    "oedms_def3[\"y0_M2\"] = [10,10,10,10];  \n",
    "oedms_def3[\"preInd_M1\"] = [0]; \n",
    "oedms_def3[\"preInd_M2\"] = [0, 0]; \n",
    "oedms_def3[\"finalTime\"] = [1439]; \n",
    "oedms_def3[\"switchT\"] = [[0, 250, 500, 750, 1000, 1200, 1439]];\n",
    "oedms_def3[\"tsamps\"] = [collect(0:5:1439)];\n",
    "oedms_def3[\"fixedInp\"] = []; \n",
    "oedms_def3[\"fixedStep\"] = [(1,[0, Any]), (2,[Any, 0]), (3,[0, Any]), (4,[Any, 0]), (5,[0, Any]), (6,[Any, 0])]; # This does not take into account fixed inputs\n",
    "oedms_def3[\"equalStep\"] = [[1,3,5],[2,4,6]];\n",
    "\n",
    "oedms_def3[\"plot\"] = [true]; \n",
    "oedms_def3[\"flag\"] = [\"testOEDMS3\"];\n",
    "\n",
    "oedms_def3[\"uUpper\"] = [100, 10];\n",
    "oedms_def3[\"uLower\"] = [0, 0];\n",
    "oedms_def3[\"maxiter\"] = [50];"
   ]
  },
  {
   "cell_type": "code",
   "execution_count": 32,
   "metadata": {},
   "outputs": [
    {
     "name": "stdout",
     "output_type": "stream",
     "text": [
      "-------------------------- WARNING --------------------------\n",
      "Less than 50 samples for theta are given for Model 1. \n",
      "Consider using more samples for better results. \n",
      "-------------------------------------------------------------\n",
      "-------------------------- WARNING --------------------------\n",
      "Less than 50 samples for theta are given for Model 2. \n",
      "Consider using more samples for better results. \n",
      "-------------------------------------------------------------\n",
      "-------------------------- WARNING --------------------------\n",
      "The amount of inducers is different in the two models.\n",
      "Be carefull on how you configure that. \n",
      "-------------------------------------------------------------\n",
      "\n",
      "----------------------------------------- MODEL GENERATION -----------------------------------------\n",
      "The model has been generated in the directory: \n",
      "                 E:\\UNI\\D_Drive\\PhD\\JULIAlang\\Generalisation_PLacExample\\Examples\\ModelsFunctions\\PLacExample_Model.jl\n",
      "--------------------------------------------------------------------------------------\n",
      "\n",
      "\n",
      "----------------------------------------- MODEL GENERATION -----------------------------------------\n",
      "The model has been generated in the directory: \n",
      "                 E:\\UNI\\D_Drive\\PhD\\JULIAlang\\Generalisation_PLacExample\\Examples\\ModelsFunctions\\TestPLac_M2_Model.jl\n",
      "--------------------------------------------------------------------------------------\n",
      "\n",
      "\n",
      "----------------------------------------- SCRIPTS OED Model Selection -----------------------------------------\n",
      "Utility function script to perform OED for Model Selection has been generated in the directory: \n",
      "E:\\UNI\\D_Drive\\PhD\\JULIAlang\\Generalisation_PLacExample\\Examples\\Results\\PLacExample_VS_TestPLac_M2_2021-01-22\\OEDModelSelectionScripts\\PLacExample_VS_TestPLac_M2_OEDMS.jl\n",
      "--------------------------------------------------------------------------------------\n",
      "\n",
      "\n",
      "---------------------------------------------- OPTIMISATION INFO ----------------------------------------------\n",
      "\n",
      "If you wish to modify any of the settings for the Bayesian Optimisation used (from the package \n",
      "BayesianOptimization.jl) please search the function settingsBayesOpt located in the file ModelOEDSelection.jl \n",
      "that is located in the directory: \n",
      "        C:\\Users\\david\\AppData\\Local\\JuliaPro-1.4.0-1\\Julia-1.4.0\\share\\julia\\stdlib\\v1.4\\BOMBS.jl\\src\n",
      "and change any desired setting (under your own risk). \n",
      "If any irreversible change is made by mistake, just look for the file settingsBayesOptBackUp.jl and copy the\n",
      "contents of the function inside (which are the same as the original except for the function name ;) )\n",
      "\n",
      "---------------------------------------------------------------------------------------------------------------\n",
      "\n"
     ]
    }
   ],
   "source": [
    "# Generate scripts for the ODEs and Utility functions\n",
    "oedms_def3 = genOptimMSFuncts(oedms_def3);"
   ]
  },
  {
   "cell_type": "code",
   "execution_count": 33,
   "metadata": {
    "scrolled": true
   },
   "outputs": [
    {
     "name": "stdout",
     "output_type": "stream",
     "text": [
      "-------------------------- WARNING --------------------------\n",
      "Less than 50 samples for theta are given for Model 1. \n",
      "Consider using more samples for better results. \n",
      "-------------------------------------------------------------\n",
      "-------------------------- WARNING --------------------------\n",
      "Less than 50 samples for theta are given for Model 2. \n",
      "Consider using more samples for better results. \n",
      "-------------------------------------------------------------\n",
      "-------------------------- WARNING --------------------------\n",
      "The amount of inducers is different in the two models.\n",
      "Be carefull on how you configure that. \n",
      "-------------------------------------------------------------\n"
     ]
    },
    {
     "name": "stderr",
     "output_type": "stream",
     "text": [
      "┌ Info: 2021-01-22T14:43:34.694\titeration: 10\tcurrent optimum: 1.6238283561826168e13\n",
      "└ @ BayesianOptimization C:\\Users\\david\\.juliapro\\JuliaPro_v1.4.0-1\\packages\\BayesianOptimization\\poykT\\src\\BayesianOptimization.jl:140\n",
      "┌ Info: 2021-01-22T14:43:36.653\titeration: 11\tcurrent optimum: 1.6238283561826168e13\n",
      "└ @ BayesianOptimization C:\\Users\\david\\.juliapro\\JuliaPro_v1.4.0-1\\packages\\BayesianOptimization\\poykT\\src\\BayesianOptimization.jl:140\n",
      "┌ Info: 2021-01-22T14:43:36.728\titeration: 12\tcurrent optimum: 1.6238283561826168e13\n",
      "└ @ BayesianOptimization C:\\Users\\david\\.juliapro\\JuliaPro_v1.4.0-1\\packages\\BayesianOptimization\\poykT\\src\\BayesianOptimization.jl:140\n",
      "┌ Info: 2021-01-22T14:43:36.806\titeration: 13\tcurrent optimum: 1.6238283561826168e13\n",
      "└ @ BayesianOptimization C:\\Users\\david\\.juliapro\\JuliaPro_v1.4.0-1\\packages\\BayesianOptimization\\poykT\\src\\BayesianOptimization.jl:140\n",
      "┌ Info: 2021-01-22T14:43:36.882\titeration: 14\tcurrent optimum: 1.6238283561826168e13\n",
      "└ @ BayesianOptimization C:\\Users\\david\\.juliapro\\JuliaPro_v1.4.0-1\\packages\\BayesianOptimization\\poykT\\src\\BayesianOptimization.jl:140\n",
      "┌ Info: 2021-01-22T14:43:36.964\titeration: 15\tcurrent optimum: 1.6238283561826168e13\n",
      "└ @ BayesianOptimization C:\\Users\\david\\.juliapro\\JuliaPro_v1.4.0-1\\packages\\BayesianOptimization\\poykT\\src\\BayesianOptimization.jl:140\n",
      "┌ Info: 2021-01-22T14:43:37.045\titeration: 16\tcurrent optimum: 1.6238283561826168e13\n",
      "└ @ BayesianOptimization C:\\Users\\david\\.juliapro\\JuliaPro_v1.4.0-1\\packages\\BayesianOptimization\\poykT\\src\\BayesianOptimization.jl:140\n",
      "┌ Info: 2021-01-22T14:43:37.44\titeration: 17\tcurrent optimum: 1.6238283561826168e13\n",
      "└ @ BayesianOptimization C:\\Users\\david\\.juliapro\\JuliaPro_v1.4.0-1\\packages\\BayesianOptimization\\poykT\\src\\BayesianOptimization.jl:140\n",
      "┌ Info: 2021-01-22T14:43:37.492\titeration: 18\tcurrent optimum: 1.6238283561826168e13\n",
      "└ @ BayesianOptimization C:\\Users\\david\\.juliapro\\JuliaPro_v1.4.0-1\\packages\\BayesianOptimization\\poykT\\src\\BayesianOptimization.jl:140\n",
      "┌ Info: 2021-01-22T14:43:37.547\titeration: 19\tcurrent optimum: 1.6238283561826168e13\n",
      "└ @ BayesianOptimization C:\\Users\\david\\.juliapro\\JuliaPro_v1.4.0-1\\packages\\BayesianOptimization\\poykT\\src\\BayesianOptimization.jl:140\n",
      "┌ Info: 2021-01-22T14:43:37.602\titeration: 20\tcurrent optimum: 1.6238283561826168e13\n",
      "└ @ BayesianOptimization C:\\Users\\david\\.juliapro\\JuliaPro_v1.4.0-1\\packages\\BayesianOptimization\\poykT\\src\\BayesianOptimization.jl:140\n",
      "┌ Info: 2021-01-22T14:43:37.654\titeration: 21\tcurrent optimum: 1.6238283561826168e13\n",
      "└ @ BayesianOptimization C:\\Users\\david\\.juliapro\\JuliaPro_v1.4.0-1\\packages\\BayesianOptimization\\poykT\\src\\BayesianOptimization.jl:140\n",
      "┌ Info: 2021-01-22T14:43:37.7\titeration: 22\tcurrent optimum: 1.6238283561826168e13\n",
      "└ @ BayesianOptimization C:\\Users\\david\\.juliapro\\JuliaPro_v1.4.0-1\\packages\\BayesianOptimization\\poykT\\src\\BayesianOptimization.jl:140\n",
      "┌ Info: 2021-01-22T14:43:37.749\titeration: 23\tcurrent optimum: 1.6238283561826168e13\n",
      "└ @ BayesianOptimization C:\\Users\\david\\.juliapro\\JuliaPro_v1.4.0-1\\packages\\BayesianOptimization\\poykT\\src\\BayesianOptimization.jl:140\n",
      "┌ Info: 2021-01-22T14:43:37.8\titeration: 24\tcurrent optimum: 1.6238283561826168e13\n",
      "└ @ BayesianOptimization C:\\Users\\david\\.juliapro\\JuliaPro_v1.4.0-1\\packages\\BayesianOptimization\\poykT\\src\\BayesianOptimization.jl:140\n",
      "┌ Info: 2021-01-22T14:43:37.863\titeration: 25\tcurrent optimum: 1.6238283561826168e13\n",
      "└ @ BayesianOptimization C:\\Users\\david\\.juliapro\\JuliaPro_v1.4.0-1\\packages\\BayesianOptimization\\poykT\\src\\BayesianOptimization.jl:140\n",
      "┌ Info: 2021-01-22T14:43:37.917\titeration: 26\tcurrent optimum: 1.6238283561826168e13\n",
      "└ @ BayesianOptimization C:\\Users\\david\\.juliapro\\JuliaPro_v1.4.0-1\\packages\\BayesianOptimization\\poykT\\src\\BayesianOptimization.jl:140\n",
      "┌ Info: 2021-01-22T14:43:37.978\titeration: 27\tcurrent optimum: 1.6238283561826168e13\n",
      "└ @ BayesianOptimization C:\\Users\\david\\.juliapro\\JuliaPro_v1.4.0-1\\packages\\BayesianOptimization\\poykT\\src\\BayesianOptimization.jl:140\n",
      "┌ Info: 2021-01-22T14:43:38.033\titeration: 28\tcurrent optimum: 1.6238283561826168e13\n",
      "└ @ BayesianOptimization C:\\Users\\david\\.juliapro\\JuliaPro_v1.4.0-1\\packages\\BayesianOptimization\\poykT\\src\\BayesianOptimization.jl:140\n",
      "┌ Info: 2021-01-22T14:43:38.098\titeration: 29\tcurrent optimum: 1.6238283561826168e13\n",
      "└ @ BayesianOptimization C:\\Users\\david\\.juliapro\\JuliaPro_v1.4.0-1\\packages\\BayesianOptimization\\poykT\\src\\BayesianOptimization.jl:140\n",
      "┌ Info: 2021-01-22T14:43:38.146\titeration: 30\tcurrent optimum: 1.6238283561826168e13\n",
      "└ @ BayesianOptimization C:\\Users\\david\\.juliapro\\JuliaPro_v1.4.0-1\\packages\\BayesianOptimization\\poykT\\src\\BayesianOptimization.jl:140\n",
      "┌ Info: 2021-01-22T14:43:38.208\titeration: 31\tcurrent optimum: 1.6238283561826168e13\n",
      "└ @ BayesianOptimization C:\\Users\\david\\.juliapro\\JuliaPro_v1.4.0-1\\packages\\BayesianOptimization\\poykT\\src\\BayesianOptimization.jl:140\n",
      "┌ Info: 2021-01-22T14:43:38.26\titeration: 32\tcurrent optimum: 1.6238283561826168e13\n",
      "└ @ BayesianOptimization C:\\Users\\david\\.juliapro\\JuliaPro_v1.4.0-1\\packages\\BayesianOptimization\\poykT\\src\\BayesianOptimization.jl:140\n",
      "┌ Info: 2021-01-22T14:43:38.313\titeration: 33\tcurrent optimum: 1.6238283561826168e13\n",
      "└ @ BayesianOptimization C:\\Users\\david\\.juliapro\\JuliaPro_v1.4.0-1\\packages\\BayesianOptimization\\poykT\\src\\BayesianOptimization.jl:140\n",
      "┌ Info: 2021-01-22T14:43:38.367\titeration: 34\tcurrent optimum: 1.6238283561826168e13\n",
      "└ @ BayesianOptimization C:\\Users\\david\\.juliapro\\JuliaPro_v1.4.0-1\\packages\\BayesianOptimization\\poykT\\src\\BayesianOptimization.jl:140\n",
      "┌ Info: 2021-01-22T14:43:38.426\titeration: 35\tcurrent optimum: 1.6238283561826168e13\n",
      "└ @ BayesianOptimization C:\\Users\\david\\.juliapro\\JuliaPro_v1.4.0-1\\packages\\BayesianOptimization\\poykT\\src\\BayesianOptimization.jl:140\n",
      "┌ Info: 2021-01-22T14:43:38.496\titeration: 36\tcurrent optimum: 1.6238283561826168e13\n",
      "└ @ BayesianOptimization C:\\Users\\david\\.juliapro\\JuliaPro_v1.4.0-1\\packages\\BayesianOptimization\\poykT\\src\\BayesianOptimization.jl:140\n",
      "┌ Info: 2021-01-22T14:43:38.562\titeration: 37\tcurrent optimum: 1.6238283561826168e13\n",
      "└ @ BayesianOptimization C:\\Users\\david\\.juliapro\\JuliaPro_v1.4.0-1\\packages\\BayesianOptimization\\poykT\\src\\BayesianOptimization.jl:140\n",
      "┌ Info: 2021-01-22T14:43:38.618\titeration: 38\tcurrent optimum: 1.6238283561826168e13\n",
      "└ @ BayesianOptimization C:\\Users\\david\\.juliapro\\JuliaPro_v1.4.0-1\\packages\\BayesianOptimization\\poykT\\src\\BayesianOptimization.jl:140\n",
      "┌ Info: 2021-01-22T14:43:38.692\titeration: 39\tcurrent optimum: 1.6238283561826168e13\n",
      "└ @ BayesianOptimization C:\\Users\\david\\.juliapro\\JuliaPro_v1.4.0-1\\packages\\BayesianOptimization\\poykT\\src\\BayesianOptimization.jl:140\n",
      "┌ Info: 2021-01-22T14:43:38.762\titeration: 40\tcurrent optimum: 1.6238283561826168e13\n",
      "└ @ BayesianOptimization C:\\Users\\david\\.juliapro\\JuliaPro_v1.4.0-1\\packages\\BayesianOptimization\\poykT\\src\\BayesianOptimization.jl:140\n",
      "┌ Info: 2021-01-22T14:43:38.843\titeration: 41\tcurrent optimum: 1.6238283561826168e13\n",
      "└ @ BayesianOptimization C:\\Users\\david\\.juliapro\\JuliaPro_v1.4.0-1\\packages\\BayesianOptimization\\poykT\\src\\BayesianOptimization.jl:140\n",
      "┌ Info: 2021-01-22T14:43:38.909\titeration: 42\tcurrent optimum: 1.6238283561826168e13\n",
      "└ @ BayesianOptimization C:\\Users\\david\\.juliapro\\JuliaPro_v1.4.0-1\\packages\\BayesianOptimization\\poykT\\src\\BayesianOptimization.jl:140\n",
      "┌ Info: 2021-01-22T14:43:38.989\titeration: 43\tcurrent optimum: 1.6238283561826168e13\n",
      "└ @ BayesianOptimization C:\\Users\\david\\.juliapro\\JuliaPro_v1.4.0-1\\packages\\BayesianOptimization\\poykT\\src\\BayesianOptimization.jl:140\n",
      "┌ Info: 2021-01-22T14:43:39.058\titeration: 44\tcurrent optimum: 1.6238283561826168e13\n",
      "└ @ BayesianOptimization C:\\Users\\david\\.juliapro\\JuliaPro_v1.4.0-1\\packages\\BayesianOptimization\\poykT\\src\\BayesianOptimization.jl:140\n",
      "┌ Info: 2021-01-22T14:43:39.141\titeration: 45\tcurrent optimum: 1.6238283561826168e13\n",
      "└ @ BayesianOptimization C:\\Users\\david\\.juliapro\\JuliaPro_v1.4.0-1\\packages\\BayesianOptimization\\poykT\\src\\BayesianOptimization.jl:140\n",
      "┌ Info: 2021-01-22T14:43:39.218\titeration: 46\tcurrent optimum: 1.6238283561826168e13\n",
      "└ @ BayesianOptimization C:\\Users\\david\\.juliapro\\JuliaPro_v1.4.0-1\\packages\\BayesianOptimization\\poykT\\src\\BayesianOptimization.jl:140\n",
      "┌ Info: 2021-01-22T14:43:39.297\titeration: 47\tcurrent optimum: 1.6238283561826168e13\n",
      "└ @ BayesianOptimization C:\\Users\\david\\.juliapro\\JuliaPro_v1.4.0-1\\packages\\BayesianOptimization\\poykT\\src\\BayesianOptimization.jl:140\n",
      "┌ Info: 2021-01-22T14:43:39.387\titeration: 48\tcurrent optimum: 1.6238283561826168e13\n",
      "└ @ BayesianOptimization C:\\Users\\david\\.juliapro\\JuliaPro_v1.4.0-1\\packages\\BayesianOptimization\\poykT\\src\\BayesianOptimization.jl:140\n"
     ]
    },
    {
     "name": "stderr",
     "output_type": "stream",
     "text": [
      "┌ Info: 2021-01-22T14:43:39.62\titeration: 49\tcurrent optimum: 1.6238283561826168e13\n",
      "└ @ BayesianOptimization C:\\Users\\david\\.juliapro\\JuliaPro_v1.4.0-1\\packages\\BayesianOptimization\\poykT\\src\\BayesianOptimization.jl:140\n"
     ]
    },
    {
     "name": "stdout",
     "output_type": "stream",
     "text": [
      "\n",
      "----------------------------------------- RESULTS -----------------------------------------\n",
      "OED for Model Selection results are saved in the directory: \n",
      "                 E:\\UNI\\D_Drive\\PhD\\JULIAlang\\Generalisation_PLacExample\\Examples\\Results\\PLacExample_VS_TestPLac_M2_2021-01-22\n",
      "Under the name OEDModelSelectResults_testOEDMS3.jld\n",
      "--------------------------------------------------------------------------------------\n"
     ]
    },
    {
     "name": "stderr",
     "output_type": "stream",
     "text": [
      "┌ Info:  ──────────────────────────────────────────────────────────────────────────────\n",
      "│                                        Time                   Allocations      \n",
      "│                                ──────────────────────   ───────────────────────\n",
      "│        Tot / % measured:            9.02s / 98.6%           1.50GiB / 100%     \n",
      "│ \n",
      "│  Section               ncalls     time   %tot     avg     alloc   %tot      avg\n",
      "│  ──────────────────────────────────────────────────────────────────────────────\n",
      "│  function evaluation       50    5.48s  61.6%   110ms   0.96GiB  64.2%  19.7MiB\n",
      "│  acquisition               41    3.38s  37.9%  82.3ms    545MiB  35.4%  13.3MiB\n",
      "│  model update              41   31.5ms  0.35%   769μs   5.03MiB  0.33%   126KiB\n",
      "│  model hyperparamet...     41   7.05ms  0.08%   172μs    284KiB  0.02%  6.93KiB\n",
      "│  ──────────────────────────────────────────────────────────────────────────────\n",
      "└ @ BayesianOptimization C:\\Users\\david\\.juliapro\\JuliaPro_v1.4.0-1\\packages\\BayesianOptimization\\poykT\\src\\BayesianOptimization.jl:154\n"
     ]
    },
    {
     "name": "stdout",
     "output_type": "stream",
     "text": [
      "\n",
      "\n",
      "----------------------------------------- PLOTS -----------------------------------------\n",
      "PLOTS are saved in the directory: \n",
      "                 E:\\UNI\\D_Drive\\PhD\\JULIAlang\\Generalisation_PLacExample\\Examples\\Results\\PLacExample_VS_TestPLac_M2_2021-01-22\n",
      "Under the names PlotOEDMSResults_Exp1_testOEDMS3.png and Plot_OEDMSConvergence_testOEDMS3.png\n",
      "--------------------------------------------------------------------------------------\n",
      "\n"
     ]
    }
   ],
   "source": [
    "oedms_res3, oedms_def3 = mainOEDMS(oedms_def3);"
   ]
  },
  {
   "cell_type": "markdown",
   "metadata": {},
   "source": [
    "We know what the results structure looks like, so let's go for the plots."
   ]
  },
  {
   "cell_type": "markdown",
   "metadata": {},
   "source": [
    "### Now, let's have a look at the plots generated\n",
    "First, the convergence curve <br>\n",
    "Note that to reduce the computational time of the example we used a really low number of iterations, so do not be surprised if the results do not look good. Also, technically, the second model does not make much sense as well. "
   ]
  },
  {
   "cell_type": "code",
   "execution_count": 34,
   "metadata": {},
   "outputs": [
    {
     "data": {
      "image/png": "[encoded data removed]",
      "text/plain": [
       "400×600 Array{RGB{N0f8},2} with eltype RGB{Normed{UInt8,8}}:\n",
       " RGB{N0f8}(1.0,1.0,1.0)  RGB{N0f8}(1.0,1.0,1.0)  …  RGB{N0f8}(1.0,1.0,1.0)\n",
       " RGB{N0f8}(1.0,1.0,1.0)  RGB{N0f8}(1.0,1.0,1.0)     RGB{N0f8}(1.0,1.0,1.0)\n",
       " RGB{N0f8}(1.0,1.0,1.0)  RGB{N0f8}(1.0,1.0,1.0)     RGB{N0f8}(1.0,1.0,1.0)\n",
       " RGB{N0f8}(1.0,1.0,1.0)  RGB{N0f8}(1.0,1.0,1.0)     RGB{N0f8}(1.0,1.0,1.0)\n",
       " RGB{N0f8}(1.0,1.0,1.0)  RGB{N0f8}(1.0,1.0,1.0)     RGB{N0f8}(1.0,1.0,1.0)\n",
       " RGB{N0f8}(1.0,1.0,1.0)  RGB{N0f8}(1.0,1.0,1.0)  …  RGB{N0f8}(1.0,1.0,1.0)\n",
       " RGB{N0f8}(1.0,1.0,1.0)  RGB{N0f8}(1.0,1.0,1.0)     RGB{N0f8}(1.0,1.0,1.0)\n",
       " RGB{N0f8}(1.0,1.0,1.0)  RGB{N0f8}(1.0,1.0,1.0)     RGB{N0f8}(1.0,1.0,1.0)\n",
       " RGB{N0f8}(1.0,1.0,1.0)  RGB{N0f8}(1.0,1.0,1.0)     RGB{N0f8}(1.0,1.0,1.0)\n",
       " RGB{N0f8}(1.0,1.0,1.0)  RGB{N0f8}(1.0,1.0,1.0)     RGB{N0f8}(1.0,1.0,1.0)\n",
       " RGB{N0f8}(1.0,1.0,1.0)  RGB{N0f8}(1.0,1.0,1.0)  …  RGB{N0f8}(1.0,1.0,1.0)\n",
       " RGB{N0f8}(1.0,1.0,1.0)  RGB{N0f8}(1.0,1.0,1.0)     RGB{N0f8}(1.0,1.0,1.0)\n",
       " RGB{N0f8}(1.0,1.0,1.0)  RGB{N0f8}(1.0,1.0,1.0)     RGB{N0f8}(1.0,1.0,1.0)\n",
       " ⋮                                               ⋱  \n",
       " RGB{N0f8}(1.0,1.0,1.0)  RGB{N0f8}(1.0,1.0,1.0)     RGB{N0f8}(1.0,1.0,1.0)\n",
       " RGB{N0f8}(1.0,1.0,1.0)  RGB{N0f8}(1.0,1.0,1.0)     RGB{N0f8}(1.0,1.0,1.0)\n",
       " RGB{N0f8}(1.0,1.0,1.0)  RGB{N0f8}(1.0,1.0,1.0)  …  RGB{N0f8}(1.0,1.0,1.0)\n",
       " RGB{N0f8}(1.0,1.0,1.0)  RGB{N0f8}(1.0,1.0,1.0)     RGB{N0f8}(1.0,1.0,1.0)\n",
       " RGB{N0f8}(1.0,1.0,1.0)  RGB{N0f8}(1.0,1.0,1.0)     RGB{N0f8}(1.0,1.0,1.0)\n",
       " RGB{N0f8}(1.0,1.0,1.0)  RGB{N0f8}(1.0,1.0,1.0)     RGB{N0f8}(1.0,1.0,1.0)\n",
       " RGB{N0f8}(1.0,1.0,1.0)  RGB{N0f8}(1.0,1.0,1.0)     RGB{N0f8}(1.0,1.0,1.0)\n",
       " RGB{N0f8}(1.0,1.0,1.0)  RGB{N0f8}(1.0,1.0,1.0)  …  RGB{N0f8}(1.0,1.0,1.0)\n",
       " RGB{N0f8}(1.0,1.0,1.0)  RGB{N0f8}(1.0,1.0,1.0)     RGB{N0f8}(1.0,1.0,1.0)\n",
       " RGB{N0f8}(1.0,1.0,1.0)  RGB{N0f8}(1.0,1.0,1.0)     RGB{N0f8}(1.0,1.0,1.0)\n",
       " RGB{N0f8}(1.0,1.0,1.0)  RGB{N0f8}(1.0,1.0,1.0)     RGB{N0f8}(1.0,1.0,1.0)\n",
       " RGB{N0f8}(1.0,1.0,1.0)  RGB{N0f8}(1.0,1.0,1.0)     RGB{N0f8}(1.0,1.0,1.0)"
      ]
     },
     "execution_count": 34,
     "metadata": {},
     "output_type": "execute_result"
    }
   ],
   "source": [
    "# Note that none of the curves are at convergence due to the low time allowed for the optimisation. \n",
    "CC3 = load(string(oedms_def3[\"savepath\"], \"\\\\Plot_OEDMSConvergence_\",oedms_def3[\"flag\"],\".png\"))"
   ]
  },
  {
   "cell_type": "markdown",
   "metadata": {},
   "source": [
    "And now the experiment simulations"
   ]
  },
  {
   "cell_type": "code",
   "execution_count": 35,
   "metadata": {},
   "outputs": [
    {
     "data": {
      "image/png": "[encoded data removed]",
      "text/plain": [
       "1200×2000 Array{RGB{N0f8},2} with eltype RGB{Normed{UInt8,8}}:\n",
       " RGB{N0f8}(1.0,1.0,1.0)  RGB{N0f8}(1.0,1.0,1.0)  …  RGB{N0f8}(1.0,1.0,1.0)\n",
       " RGB{N0f8}(1.0,1.0,1.0)  RGB{N0f8}(1.0,1.0,1.0)     RGB{N0f8}(1.0,1.0,1.0)\n",
       " RGB{N0f8}(1.0,1.0,1.0)  RGB{N0f8}(1.0,1.0,1.0)     RGB{N0f8}(1.0,1.0,1.0)\n",
       " RGB{N0f8}(1.0,1.0,1.0)  RGB{N0f8}(1.0,1.0,1.0)     RGB{N0f8}(1.0,1.0,1.0)\n",
       " RGB{N0f8}(1.0,1.0,1.0)  RGB{N0f8}(1.0,1.0,1.0)     RGB{N0f8}(1.0,1.0,1.0)\n",
       " RGB{N0f8}(1.0,1.0,1.0)  RGB{N0f8}(1.0,1.0,1.0)  …  RGB{N0f8}(1.0,1.0,1.0)\n",
       " RGB{N0f8}(1.0,1.0,1.0)  RGB{N0f8}(1.0,1.0,1.0)     RGB{N0f8}(1.0,1.0,1.0)\n",
       " RGB{N0f8}(1.0,1.0,1.0)  RGB{N0f8}(1.0,1.0,1.0)     RGB{N0f8}(1.0,1.0,1.0)\n",
       " RGB{N0f8}(1.0,1.0,1.0)  RGB{N0f8}(1.0,1.0,1.0)     RGB{N0f8}(1.0,1.0,1.0)\n",
       " RGB{N0f8}(1.0,1.0,1.0)  RGB{N0f8}(1.0,1.0,1.0)     RGB{N0f8}(1.0,1.0,1.0)\n",
       " RGB{N0f8}(1.0,1.0,1.0)  RGB{N0f8}(1.0,1.0,1.0)  …  RGB{N0f8}(1.0,1.0,1.0)\n",
       " RGB{N0f8}(1.0,1.0,1.0)  RGB{N0f8}(1.0,1.0,1.0)     RGB{N0f8}(1.0,1.0,1.0)\n",
       " RGB{N0f8}(1.0,1.0,1.0)  RGB{N0f8}(1.0,1.0,1.0)     RGB{N0f8}(1.0,1.0,1.0)\n",
       " ⋮                                               ⋱  \n",
       " RGB{N0f8}(1.0,1.0,1.0)  RGB{N0f8}(1.0,1.0,1.0)     RGB{N0f8}(1.0,1.0,1.0)\n",
       " RGB{N0f8}(1.0,1.0,1.0)  RGB{N0f8}(1.0,1.0,1.0)     RGB{N0f8}(1.0,1.0,1.0)\n",
       " RGB{N0f8}(1.0,1.0,1.0)  RGB{N0f8}(1.0,1.0,1.0)  …  RGB{N0f8}(1.0,1.0,1.0)\n",
       " RGB{N0f8}(1.0,1.0,1.0)  RGB{N0f8}(1.0,1.0,1.0)     RGB{N0f8}(1.0,1.0,1.0)\n",
       " RGB{N0f8}(1.0,1.0,1.0)  RGB{N0f8}(1.0,1.0,1.0)     RGB{N0f8}(1.0,1.0,1.0)\n",
       " RGB{N0f8}(1.0,1.0,1.0)  RGB{N0f8}(1.0,1.0,1.0)     RGB{N0f8}(1.0,1.0,1.0)\n",
       " RGB{N0f8}(1.0,1.0,1.0)  RGB{N0f8}(1.0,1.0,1.0)     RGB{N0f8}(1.0,1.0,1.0)\n",
       " RGB{N0f8}(1.0,1.0,1.0)  RGB{N0f8}(1.0,1.0,1.0)  …  RGB{N0f8}(1.0,1.0,1.0)\n",
       " RGB{N0f8}(1.0,1.0,1.0)  RGB{N0f8}(1.0,1.0,1.0)     RGB{N0f8}(1.0,1.0,1.0)\n",
       " RGB{N0f8}(1.0,1.0,1.0)  RGB{N0f8}(1.0,1.0,1.0)     RGB{N0f8}(1.0,1.0,1.0)\n",
       " RGB{N0f8}(1.0,1.0,1.0)  RGB{N0f8}(1.0,1.0,1.0)     RGB{N0f8}(1.0,1.0,1.0)\n",
       " RGB{N0f8}(1.0,1.0,1.0)  RGB{N0f8}(1.0,1.0,1.0)     RGB{N0f8}(1.0,1.0,1.0)"
      ]
     },
     "execution_count": 35,
     "metadata": {},
     "output_type": "execute_result"
    }
   ],
   "source": [
    "expMS3 = load(string(oedms_def3[\"savepath\"], \"\\\\PlotOEDMSResults_Exp1_\",oedms_def3[\"flag\"],\".png\"))"
   ]
  },
  {
   "cell_type": "markdown",
   "metadata": {},
   "source": [
    "### This is the end of the section. Look at the cool logo to check the package version ;) \n"
   ]
  },
  {
   "cell_type": "code",
   "execution_count": 36,
   "metadata": {},
   "outputs": [
    {
     "name": "stdout",
     "output_type": "stream",
     "text": [
      "\n",
      "                                                  *\n",
      "                                    **           * *           *                          **\n",
      "                                   * *          *   *         * *                       **  *\n",
      "                                  *  *         *    *        *  **                    **     *\n",
      "                         *       *   *  *   ***     *     ***    **                 **        *      *\n",
      "                        * *     *    * * * *         **  *         **      *      **           *    * *   ***\n",
      "                       *   *   *     **   *            **            **   * * ****              ****   ***   ***\n",
      "                   ** *     ***                                        * *   *                                  *\n",
      "                  *  *                                                  *                                        *\n",
      "                 *            ___________   __________   ___  ___   ___________   __________                      ***\n",
      "                **           /  _____   /  / ______  /  /   \\/   \\  \\   _____  \\  \\  _______\\                        **\n",
      "               *            /  /____/  /  / /     / /  /          \\  \\  \\____\\  \\  \\ \\________                         *\n",
      "             **            /  _____   /  / /     / /  /            \\  \\   _____  \\  \\________ \\                       *\n",
      "           **             /  /    /  /  / /     / /  /   /\\____/\\   \\  \\  \\    \\  \\          \\ \\                    **\n",
      "         **              /  /____/  /  / /_____/ /  /   /        \\   \\  \\  \\____\\  \\   _______\\ \\                 **\n",
      "        *               /__________/  /_________/  /__ /          \\___\\  \\__________\\  \\_________\\ V 0.1.0       **\n",
      "         ****                                                *                                                  *\n",
      "             *                          ***                 * *                                                *\n",
      "              *   ***                  *   *     *         *   *                  *                      **   *\n",
      "               * *   **             ***     *   * ***     *     *   *          *** *           **       *  * *\n",
      "                *      **      *   *         * *    *    *       * * **     ***     *         *  *     *    *\n",
      "                         **   * * *           *     *   *         *    ** **         *       *    *   *\n",
      "                           * *   *                   * *                 *            *     *      * *\n",
      "                            *                         *                                *   *        *\n",
      "                                                                                        * *\n",
      "                                                                                         *\n",
      "    \n"
     ]
    }
   ],
   "source": [
    "versionBOMBS()"
   ]
  }
 ],
 "metadata": {
  "kernelspec": {
   "display_name": "Julia 1.4.0",
   "language": "julia",
   "name": "julia-1.4"
  },
  "language_info": {
   "file_extension": ".jl",
   "mimetype": "application/julia",
   "name": "julia",
   "version": "1.4.0"
  }
 },
 "nbformat": 4,
 "nbformat_minor": 4
}
