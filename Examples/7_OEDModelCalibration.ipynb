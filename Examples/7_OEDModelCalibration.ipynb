{
 "cells": [
  {
   "cell_type": "markdown",
   "metadata": {},
   "source": [
    "# Case 7: Bayesian Optimal Experimental Design (OED) for model calibration"
   ]
  },
  {
   "cell_type": "code",
   "execution_count": 1,
   "metadata": {},
   "outputs": [],
   "source": [
    "using BOMBs"
   ]
  },
  {
   "cell_type": "markdown",
   "metadata": {},
   "source": [
    "### Just to print the nice BOMBS logo\n"
   ]
  },
  {
   "cell_type": "code",
   "execution_count": 2,
   "metadata": {},
   "outputs": [
    {
     "name": "stdout",
     "output_type": "stream",
     "text": [
      "\n",
      "                      ___________   __________   ___  ___   ___________   __________\n",
      "                     /  _____   /  / ______  /  /   \\/   \\  \\   _____  \\  \\  _______\\\r\n",
      "                    /  /____/  /  / /     / /  /          \\  \\  \\____\\  \\  \\ \\________\n",
      "                   /  _____   /  / /     / /  /            \\  \\   _____  \\  \\________ \\\r\n",
      "                  /  /    /  /  / /     / /  /   /\\____/\\   \\  \\  \\    \\  \\          \\ \\\r\n",
      "                 /  /____/  /  / /_____/ /  /   /        \\   \\  \\  \\____\\  \\   _______\\ \\\r\n",
      "                /__________/  /_________/  /__ /          \\___\\  \\__________\\  \\_________\\\r\n",
      "\n",
      "                \n"
     ]
    }
   ],
   "source": [
    "printBOMBsLogo()"
   ]
  },
  {
   "cell_type": "markdown",
   "metadata": {},
   "source": [
    "#### Important!\n",
    "In this case you do not need to generate the model now. Since the utility function also needs to be generated (and requires the experiment specifications) this step will be done later on."
   ]
  },
  {
   "cell_type": "code",
   "execution_count": 3,
   "metadata": {},
   "outputs": [],
   "source": [
    "# Generate the empty dictionary with the model_def structure\n",
    "model_def = defModStruct()\n",
    "\n",
    "# Fill the different elements of the dictionary with your model specifications. See above how ^\n",
    "model_def[\"NameF\"] = [\"PLacExample\"];\n",
    "model_def[\"nStat\"] = [4];\n",
    "model_def[\"nPar\"] = [9];\n",
    "model_def[\"nInp\"] = [1];\n",
    "model_def[\"stName\"] = [\"Cit_mrna\",\"Cit_foldedP\",\"Cit_fluo\",\"Cit_AU\"];\n",
    "\n",
    "model_def[\"inpName\"] = [\"IPTG\"];\n",
    "\n",
    "model_def[\"parName\"] = [\"alpha1\",\"Vm1\",\"h1\",\"Km1\",\"d1\",\n",
    "                            \"alpha2\",\"d2\",\"Kf\",\"sc_molec\"];\n",
    "model_def[\"eqns\"] = [\"dCit_mrna=alpha1+Vm1*(IPTG^h1/(Km1^h1+IPTG^h1))-d1*Cit_mrna\",\n",
    "                    \"dCit_foldedP=alpha2*Cit_mrna-(d2+Kf)*Cit_foldedP\",\n",
    "                    \"dCit_fluo=Kf*Cit_foldedP-d2*Cit_fluo\",\n",
    "                    \"dCit_AU = sc_molec*dCit_fluo\"];\n",
    "\n",
    "model_def[\"Y0eqs\"] = [\"Cit_mrna = (alpha1 + Vm1*(IPTG^h1/(Km1^h1+IPTG^h1)))/d1;\",\n",
    "                      \"Cit_foldedP = (alpha2*Cit_mrna)/(Kf+d2);\",\n",
    "                      \"Cit_fluo = (Kf*Cit_foldedP)/d2;\",\n",
    "                      \"Cit_AU= sc_molec*Cit_fluo;\"]; \n",
    "\n",
    "model_def[\"Y0Sim\"] = [];\n",
    "model_def[\"tols\"] = [1e-9, 1e-9];"
   ]
  },
  {
   "cell_type": "markdown",
   "metadata": {},
   "source": [
    "### This function gives you information about the structure necessary to generate the model and how to call it. \n",
    "If you do not know how to call a specific section, just call the function with no input (infoAll()) to get the information."
   ]
  },
  {
   "cell_type": "code",
   "execution_count": 4,
   "metadata": {},
   "outputs": [
    {
     "name": "stdout",
     "output_type": "stream",
     "text": [
      "\n",
      "\n",
      "                CALL defODEModelCalibrStruct()\n",
      "\n",
      "oedmc_def[\"Model\"] = [];\n",
      "        # Dict with Model. See Model Generation Section.\n",
      "\n",
      "oedmc_def[\"Obs\"] = [];\n",
      "        # States of the model that are observables. This is a vector of strings.These could also be an\n",
      "        # expression combining states (Only +,-,*,/ and ^ will be considered).\n",
      "\n",
      "oedmc_def[\"Theta\"] = [];\n",
      "        # Theta matrix (Bayesian OED) for the model. No single vectors will be allowed.\n",
      "        # Path to file is also allowed.\n",
      "\n",
      "oedmc_def[\"y0\"] = [];\n",
      "        # Array (single simulation) or matrix (multiple simulations) of Y0s for the simulations for each\n",
      "        # experiment. If you are computing the steady-state this vector might not be used, however, you\n",
      "        # still need to introduce it with some random numbers.\n",
      "\n",
      "oedmc_def[\"preInd\"] = [];\n",
      "        # Vector of numbers with the values for the stimuli (inducer) in the over-night. It might be the case\n",
      "        # that this entry is not required since only the y0 vector is considered for the initial point of\n",
      "        # the simulation. However, you still need to introduce a random value for it to avoid future issues.\n",
      "\n",
      "oedmc_def[\"finalTime\"] = [];\n",
      "        # Vector of final times for each simulation (initial time will always be assumed as 0,\n",
      "        # so please consider that).\n",
      "\n",
      "oedmc_def[\"switchT\"] = [];\n",
      "        # Array with the switching times of the inducer in the simulation (time 0 and final\n",
      "        # time need to be considered)\n",
      "\n",
      "oedmc_def[\"tsamps\"] = [];\n",
      "        # Array of sampling time vectors for the experiments.\n",
      "\n",
      "oedmc_def[\"fixedInp\"] = [];\n",
      "        # If more than 1 inducer for the system exists, but only 1 input can be dynamic, give a vector\n",
      "        # of strings indicating which inputs are going to be optimised but as a constant input instead\n",
      "        # of dynamic. If none, just give an empty vector.\n",
      "        # If there is only 1 simuli in the model, this field will be ignored.\n",
      "\n",
      "oedmc_def[\"fixedStep\"] = [];\n",
      "        # If you want any of the steps to be fixed to a value. This has to be an empty array if none is fixed\n",
      "        # or an array of tuples, where each tuple is a step to be fixed. The first entry of the tuple is the\n",
      "        # index of the step (as an Integer), and the second and array of values for each inducer. Note that\n",
      "        # the fixed inputs will be ignored, so do not take them into account here.\n",
      "\n",
      "oedmc_def[\"equalStep\"] = [];\n",
      "        # If you want a series of steps to have the same optimised value (for example if you want to design a\n",
      "        # pulse experiment) you can introduce inside this array different arrays with the indexes of the steps\n",
      "        # that will have the same value. The values introduced in each array need to be integers.\n",
      "\n",
      "oedmc_def[\"plot\"] = [];\n",
      "        # true, flase, \"Yes\", \"yes\", \"No\", \"no\" or []\n",
      "        # indicating if plots with the results will be generated. Default is false.\n",
      "\n",
      "oedmc_def[\"flag\"] = [];\n",
      "        # String to attach a unique flag to the generated files so it is not overwritten.\n",
      "        # If empty, nothing will be added.\n",
      "\n",
      "oedmc_def[\"uUpper\"] = [];\n",
      "        # Vector indicating the upper bounds for the inducers\n",
      "\n",
      "oedmc_def[\"uLower\"] = [];\n",
      "        # Vector indicating the lower bounds for the inducers\n",
      "\n",
      "oedmc_def[\"maxiter\"] = [];\n",
      "        # Maximum number of iterations for the Bayesian Optimisation. If nothing is introduced a default\n",
      "        # of 100 iterations will be taken\n",
      "\n",
      "oedmc_def[\"util\"] = [];\n",
      "        # String indicating entropy or perc (or percentile) as the core of the utility function to\n",
      "        # compute the uncertainty of the model simulations. The default will be to use percentiles.\n",
      "\n"
     ]
    }
   ],
   "source": [
    "infoAll(\"oedmc\")"
   ]
  },
  {
   "cell_type": "markdown",
   "metadata": {},
   "source": [
    "# OED Model Calibration Example 1\n",
    "This is a basic example showing how to use the basic elements of the section. <br>\n",
    "<br>\n",
    "The experiment to be optimised (find the maximum uncertainty in the simulations) is a 3 step experiment where IPTG for the first step is fixed to 0. <br>\n",
    "<br>\n",
    "Since this section is purely based on model uncertainty in simulations, differently from the model selection section, a single theta sample cannot be given since the strategy will not work. <br>\n",
    "<br>\n",
    "In the utility function, to compute the simulation uncertainty you can use entropy or percentiles. In this first example we will use percentiles. "
   ]
  },
  {
   "cell_type": "code",
   "execution_count": 5,
   "metadata": {},
   "outputs": [
    {
     "data": {
      "text/plain": [
       "Dict{Any,Any} with 17 entries:\n",
       "  \"maxiter\"   => Any[]\n",
       "  \"y0\"        => Any[]\n",
       "  \"fixedStep\" => Any[]\n",
       "  \"fixedInp\"  => Any[]\n",
       "  \"Obs\"       => Any[]\n",
       "  \"uUpper\"    => Any[]\n",
       "  \"switchT\"   => Any[]\n",
       "  \"Model\"     => Any[]\n",
       "  \"preInd\"    => Any[]\n",
       "  \"finalTime\" => Any[]\n",
       "  \"uLower\"    => Any[]\n",
       "  \"equalStep\" => Any[]\n",
       "  \"tsamps\"    => Any[]\n",
       "  \"Theta\"     => Any[]\n",
       "  \"flag\"      => Any[]\n",
       "  \"plot\"      => Any[]\n",
       "  \"util\"      => Any[]"
      ]
     },
     "execution_count": 5,
     "metadata": {},
     "output_type": "execute_result"
    }
   ],
   "source": [
    "oedmc_def = defODEModelCalibrStruct()"
   ]
  },
  {
   "cell_type": "code",
   "execution_count": 6,
   "metadata": {},
   "outputs": [],
   "source": [
    "oedmc_def[\"Model\"] = [model_def]; \n",
    "oedmc_def[\"Obs\"] = [\"3*Cit_AU\"];\n",
    "oedmc_def[\"Theta\"] = [\"TestThetaPLac.csv\"]; \n",
    "\n",
    "oedmc_def[\"y0\"] = [10,10,10,10]; \n",
    "oedmc_def[\"preInd\"] = [0]; \n",
    "oedmc_def[\"finalTime\"] = [1439]; \n",
    "oedmc_def[\"switchT\"] = [[0, 500, 1000, 1439]]; \n",
    "oedmc_def[\"tsamps\"] = [collect(0:5:1439)]; \n",
    "oedmc_def[\"fixedInp\"] = []; \n",
    "oedmc_def[\"fixedStep\"] = [(1,[0])];\n",
    "oedmc_def[\"equalStep\"] = [];\n",
    "\n",
    "oedmc_def[\"plot\"] = [true]; \n",
    "oedmc_def[\"flag\"] = [\"testOEDMS\"]; \n",
    "\n",
    "oedmc_def[\"uUpper\"] = [100];\n",
    "oedmc_def[\"uLower\"] = [0]; \n",
    "oedmc_def[\"maxiter\"] = [150];\n",
    "\n",
    "oedmc_def[\"util\"] = [];"
   ]
  },
  {
   "cell_type": "markdown",
   "metadata": {},
   "source": [
    "This is the function that the section uses to generate the model script and the utility function script. "
   ]
  },
  {
   "cell_type": "code",
   "execution_count": 7,
   "metadata": {},
   "outputs": [
    {
     "name": "stdout",
     "output_type": "stream",
     "text": [
      "-------------------------- WARNING --------------------------\n",
      "Less than 50 samples for theta are given for the Model. \n",
      "Consider using more samples for better results. \n",
      "-------------------------------------------------------------\n",
      "\n",
      "----------------------------------------- MODEL GENERATION -----------------------------------------\n",
      "The model has been generated in the directory: \n",
      "                 E:\\UNI\\D_Drive\\PhD\\JULIAlang\\Generalisation_PLacExample\\Examples\\ModelsFunctions\\PLacExample_Model.jl\n",
      "--------------------------------------------------------------------------------------\n",
      "\n",
      "\n",
      "----------------------------------------- SCRIPTS OED Model Calibration -----------------------------------------\n",
      "Utility function script to perform OED for Model Calibration has been generated in the directory: \n",
      "E:\\UNI\\D_Drive\\PhD\\JULIAlang\\Generalisation_PLacExample\\Examples\\Results\\PLacExample_2021-01-22\\OEDModelCalibrationScripts\\PLacExample_OEDMC.jl\n",
      "--------------------------------------------------------------------------------------\n",
      "\n",
      "\n",
      "---------------------------------------------- OPTIMISATION INFO ----------------------------------------------\n",
      "\n",
      "If you wish to modify any of the settings for the Bayesian Optimisation used (from the package \n",
      "BayesianOptimization.jl) please search the function settingsBayesOptMC located in the file ModelOEDCalibration.jl \n",
      "that is located in the directory: \n",
      "        C:\\Users\\david\\AppData\\Local\\JuliaPro-1.4.0-1\\Julia-1.4.0\\share\\julia\\stdlib\\v1.4\\BOMBS.jl\\src\n",
      "and change any desired setting (under your own risk). \n",
      "If any irreversible change is made by mistake, just look for the file settingsBayesOptMCBackUp.jl and copy the\n",
      "contents of the function inside (which are the same as the original except for the function name ;) )\n",
      "\n",
      "---------------------------------------------------------------------------------------------------------------\n",
      "\n"
     ]
    }
   ],
   "source": [
    "oedmc_def =  genOptimMCFuncts(oedmc_def);"
   ]
  },
  {
   "cell_type": "markdown",
   "metadata": {},
   "source": [
    "#### The prints shown above are the same as the ones described in the model selection section, but let's have a quick look at what do they mean\n",
    "**- WARNING:** Warning indicating that you have introduced a really low number of samples for theta in your Model. 50 samples have been set arbitrally, but this number is still way too low. <br>\n",
    "**- MODEL GENERATION:**  Generation of the scripts for the model (same as what GenerateModel does). <br>\n",
    "**- SCRIPTS OED Model Calibration:** Path to the utility function script that has been generated. <br>\n",
    "**- OPTIMISATION INFO:** Information showing the user how to change the settings of the Bayesian Optimisation package since BOMBS only uses some default settings. Also points to a backup file for how the settings in BOMBS are. "
   ]
  },
  {
   "cell_type": "markdown",
   "metadata": {},
   "source": [
    "Here, have a look at how the utility function looks like (to double-check that everything is ok with it)."
   ]
  },
  {
   "cell_type": "code",
   "execution_count": 8,
   "metadata": {},
   "outputs": [
    {
     "name": "stdout",
     "output_type": "stream",
     "text": [
      "\n",
      "        \n",
      "\n",
      "    function PLacExampleUtility(ins)\n",
      "\n",
      "        # Definition of the inputs for the ODEs\n",
      "        if length(ins) == 1\n",
      "            IPTG2,IPTG3 = ins[1];\n",
      "        else\n",
      "            IPTG2,IPTG3 = ins;\n",
      "        end\n",
      "        inputsMC = [0,IPTG2,IPTG3,IPTG2,IPTG3,IPTG2];\n",
      "\n",
      "        # Solve ODEs\n",
      "        solMC = PLacExample_SolveAll(tsMC, pD1MC, spMC, inputsMC, ivss1MC, sampsMC, pre1MC);\n",
      "\n",
      "        # Extracte wanted vectors (observables) with time reduction\n",
      "        Obs1_MC = 3 .*solMC[:,4,:]; \n",
      "\n",
      "\n",
      "    \n",
      "        EntObs1_MC = zeros(size(solMC)[1]); \n",
      "\n",
      "\n",
      "        dists = [Beta, Exponential, LogNormal, Normal, Gamma, Laplace, Pareto, Rayleigh, Cauchy, Uniform];\n",
      "        dists2 = [Exponential, LogNormal, Normal, Gamma, Laplace, Pareto, Rayleigh, Cauchy, Uniform];\n",
      "\n",
      "        names = [\"timePoint\"];\n",
      "\n",
      "        for j in 1:size(solMC)[1]\n",
      "            fitts1 = Dict(); \n",
      "        bestfit1 = Dict(); \n",
      "        bestfitInd1 = zeros(1,1); \n",
      "\n",
      "    \n",
      "            try\n",
      "                fitts1[names[1]] = fit.(dists, Ref(Obs1_MC[j,:]));\n",
      "                bestfitInd1[1] = findmax(loglikelihood.(fitts1[names[1]], Ref(Obs1_MC[j,:])))[2];\n",
      "                bestfit1[names[1]] = fitts1[names[1]][findmax(loglikelihood.(fitts1[names[1]], Ref(Obs1_MC[j,:])))[2]];\n",
      "            catch\n",
      "                fitts1[names[1]] = fit.(dists2, Ref(Obs1_MC[j,:]));\n",
      "                bestfitInd1[1] = findmax(loglikelihood.(fitts1[names[1]], Ref(Obs1_MC[j,:])))[2]+1;\n",
      "                bestfit1[names[1]] = fitts1[names[1]][findmax(loglikelihood.(fitts1[names[1]], Ref(Obs1_MC[j,:])))[2]];\n",
      "            end\n",
      "\n",
      "            EntObs1_MC[j] = entropy(bestfit1[names[1]]); \n",
      "\n",
      "        end\n",
      "\n",
      "        HES = zeros(1,1);\n",
      "        HES[1,1] = sum(EntObs1_MC); \n",
      "\n",
      "        util = sum(HES)\n",
      "    \n",
      "\n",
      "        return(util)\n",
      "    end\n",
      "\n",
      "        "
     ]
    }
   ],
   "source": [
    "stream = open(raw\"E:\\UNI\\D_Drive\\PhD\\JULIAlang\\Generalisation_PLacExample\\Examples\\Results\\PLacExample_2021-01-12\\OEDModelCalibrationScripts\\PLacExample_OEDMC.jl\",\"r\");\n",
    "Model = read(stream,String);\n",
    "close(stream);\n",
    "print(Model)"
   ]
  },
  {
   "cell_type": "markdown",
   "metadata": {},
   "source": [
    "And now, to run the optimisation is as simple as: "
   ]
  },
  {
   "cell_type": "code",
   "execution_count": 9,
   "metadata": {},
   "outputs": [
    {
     "name": "stdout",
     "output_type": "stream",
     "text": [
      "-------------------------- WARNING --------------------------\n",
      "Less than 50 samples for theta are given for the Model. \n",
      "Consider using more samples for better results. \n",
      "-------------------------------------------------------------\n"
     ]
    },
    {
     "name": "stderr",
     "output_type": "stream",
     "text": [
      "┌ Info: 2021-01-22T14:48:06.786\titeration: 10\tcurrent optimum: 178143.24265896628\n",
      "└ @ BayesianOptimization C:\\Users\\david\\.juliapro\\JuliaPro_v1.4.0-1\\packages\\BayesianOptimization\\poykT\\src\\BayesianOptimization.jl:140\n",
      "┌ Info: 2021-01-22T14:48:09.723\titeration: 11\tcurrent optimum: 178143.24265896628\n",
      "└ @ BayesianOptimization C:\\Users\\david\\.juliapro\\JuliaPro_v1.4.0-1\\packages\\BayesianOptimization\\poykT\\src\\BayesianOptimization.jl:140\n",
      "┌ Info: 2021-01-22T14:48:09.727\titeration: 12\tcurrent optimum: 178143.24265896628\n",
      "└ @ BayesianOptimization C:\\Users\\david\\.juliapro\\JuliaPro_v1.4.0-1\\packages\\BayesianOptimization\\poykT\\src\\BayesianOptimization.jl:140\n",
      "┌ Info: 2021-01-22T14:48:09.73\titeration: 13\tcurrent optimum: 178143.24265896628\n",
      "└ @ BayesianOptimization C:\\Users\\david\\.juliapro\\JuliaPro_v1.4.0-1\\packages\\BayesianOptimization\\poykT\\src\\BayesianOptimization.jl:140\n",
      "┌ Info: 2021-01-22T14:48:09.736\titeration: 14\tcurrent optimum: 178143.24265896628\n",
      "└ @ BayesianOptimization C:\\Users\\david\\.juliapro\\JuliaPro_v1.4.0-1\\packages\\BayesianOptimization\\poykT\\src\\BayesianOptimization.jl:140\n",
      "┌ Info: 2021-01-22T14:48:09.75\titeration: 15\tcurrent optimum: 178143.24265896628\n",
      "└ @ BayesianOptimization C:\\Users\\david\\.juliapro\\JuliaPro_v1.4.0-1\\packages\\BayesianOptimization\\poykT\\src\\BayesianOptimization.jl:140\n",
      "┌ Info: 2021-01-22T14:48:09.753\titeration: 16\tcurrent optimum: 178143.24265896628\n",
      "└ @ BayesianOptimization C:\\Users\\david\\.juliapro\\JuliaPro_v1.4.0-1\\packages\\BayesianOptimization\\poykT\\src\\BayesianOptimization.jl:140\n",
      "┌ Info: 2021-01-22T14:48:09.757\titeration: 17\tcurrent optimum: 178143.24265896628\n",
      "└ @ BayesianOptimization C:\\Users\\david\\.juliapro\\JuliaPro_v1.4.0-1\\packages\\BayesianOptimization\\poykT\\src\\BayesianOptimization.jl:140\n",
      "┌ Info: 2021-01-22T14:48:09.772\titeration: 18\tcurrent optimum: 178143.24265896628\n",
      "└ @ BayesianOptimization C:\\Users\\david\\.juliapro\\JuliaPro_v1.4.0-1\\packages\\BayesianOptimization\\poykT\\src\\BayesianOptimization.jl:140\n",
      "┌ Info: 2021-01-22T14:48:09.775\titeration: 19\tcurrent optimum: 178143.24265896628\n",
      "└ @ BayesianOptimization C:\\Users\\david\\.juliapro\\JuliaPro_v1.4.0-1\\packages\\BayesianOptimization\\poykT\\src\\BayesianOptimization.jl:140\n",
      "┌ Info: 2021-01-22T14:48:09.778\titeration: 20\tcurrent optimum: 178143.24265896628\n",
      "└ @ BayesianOptimization C:\\Users\\david\\.juliapro\\JuliaPro_v1.4.0-1\\packages\\BayesianOptimization\\poykT\\src\\BayesianOptimization.jl:140\n",
      "┌ Info: 2021-01-22T14:48:09.782\titeration: 21\tcurrent optimum: 178143.24265896628\n",
      "└ @ BayesianOptimization C:\\Users\\david\\.juliapro\\JuliaPro_v1.4.0-1\\packages\\BayesianOptimization\\poykT\\src\\BayesianOptimization.jl:140\n",
      "┌ Info: 2021-01-22T14:48:09.786\titeration: 22\tcurrent optimum: 178143.24265896628\n",
      "└ @ BayesianOptimization C:\\Users\\david\\.juliapro\\JuliaPro_v1.4.0-1\\packages\\BayesianOptimization\\poykT\\src\\BayesianOptimization.jl:140\n",
      "┌ Info: 2021-01-22T14:48:09.788\titeration: 23\tcurrent optimum: 178143.24265896628\n",
      "└ @ BayesianOptimization C:\\Users\\david\\.juliapro\\JuliaPro_v1.4.0-1\\packages\\BayesianOptimization\\poykT\\src\\BayesianOptimization.jl:140\n",
      "┌ Info: 2021-01-22T14:48:09.792\titeration: 24\tcurrent optimum: 178143.24265896628\n",
      "└ @ BayesianOptimization C:\\Users\\david\\.juliapro\\JuliaPro_v1.4.0-1\\packages\\BayesianOptimization\\poykT\\src\\BayesianOptimization.jl:140\n",
      "┌ Info: 2021-01-22T14:48:09.796\titeration: 25\tcurrent optimum: 178143.24265896628\n",
      "└ @ BayesianOptimization C:\\Users\\david\\.juliapro\\JuliaPro_v1.4.0-1\\packages\\BayesianOptimization\\poykT\\src\\BayesianOptimization.jl:140\n",
      "┌ Info: 2021-01-22T14:48:09.8\titeration: 26\tcurrent optimum: 178143.24265896628\n",
      "└ @ BayesianOptimization C:\\Users\\david\\.juliapro\\JuliaPro_v1.4.0-1\\packages\\BayesianOptimization\\poykT\\src\\BayesianOptimization.jl:140\n",
      "┌ Info: 2021-01-22T14:48:09.804\titeration: 27\tcurrent optimum: 178143.24265896628\n",
      "└ @ BayesianOptimization C:\\Users\\david\\.juliapro\\JuliaPro_v1.4.0-1\\packages\\BayesianOptimization\\poykT\\src\\BayesianOptimization.jl:140\n",
      "┌ Info: 2021-01-22T14:48:09.808\titeration: 28\tcurrent optimum: 178143.24265896628\n",
      "└ @ BayesianOptimization C:\\Users\\david\\.juliapro\\JuliaPro_v1.4.0-1\\packages\\BayesianOptimization\\poykT\\src\\BayesianOptimization.jl:140\n",
      "┌ Info: 2021-01-22T14:48:09.812\titeration: 29\tcurrent optimum: 178143.24265896628\n",
      "└ @ BayesianOptimization C:\\Users\\david\\.juliapro\\JuliaPro_v1.4.0-1\\packages\\BayesianOptimization\\poykT\\src\\BayesianOptimization.jl:140\n",
      "┌ Info: 2021-01-22T14:48:09.817\titeration: 30\tcurrent optimum: 178143.24265896628\n",
      "└ @ BayesianOptimization C:\\Users\\david\\.juliapro\\JuliaPro_v1.4.0-1\\packages\\BayesianOptimization\\poykT\\src\\BayesianOptimization.jl:140\n",
      "┌ Info: 2021-01-22T14:48:09.821\titeration: 31\tcurrent optimum: 178143.24265896628\n",
      "└ @ BayesianOptimization C:\\Users\\david\\.juliapro\\JuliaPro_v1.4.0-1\\packages\\BayesianOptimization\\poykT\\src\\BayesianOptimization.jl:140\n",
      "┌ Info: 2021-01-22T14:48:09.825\titeration: 32\tcurrent optimum: 178143.24265896628\n",
      "└ @ BayesianOptimization C:\\Users\\david\\.juliapro\\JuliaPro_v1.4.0-1\\packages\\BayesianOptimization\\poykT\\src\\BayesianOptimization.jl:140\n",
      "┌ Info: 2021-01-22T14:48:09.84\titeration: 33\tcurrent optimum: 178143.24265896628\n",
      "└ @ BayesianOptimization C:\\Users\\david\\.juliapro\\JuliaPro_v1.4.0-1\\packages\\BayesianOptimization\\poykT\\src\\BayesianOptimization.jl:140\n",
      "┌ Info: 2021-01-22T14:48:09.844\titeration: 34\tcurrent optimum: 178143.24265896628\n",
      "└ @ BayesianOptimization C:\\Users\\david\\.juliapro\\JuliaPro_v1.4.0-1\\packages\\BayesianOptimization\\poykT\\src\\BayesianOptimization.jl:140\n",
      "┌ Info: 2021-01-22T14:48:09.85\titeration: 35\tcurrent optimum: 178143.24265896628\n",
      "└ @ BayesianOptimization C:\\Users\\david\\.juliapro\\JuliaPro_v1.4.0-1\\packages\\BayesianOptimization\\poykT\\src\\BayesianOptimization.jl:140\n",
      "┌ Info: 2021-01-22T14:48:09.866\titeration: 36\tcurrent optimum: 178143.24265896628\n",
      "└ @ BayesianOptimization C:\\Users\\david\\.juliapro\\JuliaPro_v1.4.0-1\\packages\\BayesianOptimization\\poykT\\src\\BayesianOptimization.jl:140\n",
      "┌ Info: 2021-01-22T14:48:09.87\titeration: 37\tcurrent optimum: 178143.24265896628\n",
      "└ @ BayesianOptimization C:\\Users\\david\\.juliapro\\JuliaPro_v1.4.0-1\\packages\\BayesianOptimization\\poykT\\src\\BayesianOptimization.jl:140\n",
      "┌ Info: 2021-01-22T14:48:09.874\titeration: 38\tcurrent optimum: 178143.24265896628\n",
      "└ @ BayesianOptimization C:\\Users\\david\\.juliapro\\JuliaPro_v1.4.0-1\\packages\\BayesianOptimization\\poykT\\src\\BayesianOptimization.jl:140\n",
      "┌ Info: 2021-01-22T14:48:09.879\titeration: 39\tcurrent optimum: 178143.24265896628\n",
      "└ @ BayesianOptimization C:\\Users\\david\\.juliapro\\JuliaPro_v1.4.0-1\\packages\\BayesianOptimization\\poykT\\src\\BayesianOptimization.jl:140\n",
      "┌ Info: 2021-01-22T14:48:09.883\titeration: 40\tcurrent optimum: 178143.24265896628\n",
      "└ @ BayesianOptimization C:\\Users\\david\\.juliapro\\JuliaPro_v1.4.0-1\\packages\\BayesianOptimization\\poykT\\src\\BayesianOptimization.jl:140\n",
      "┌ Info: 2021-01-22T14:48:09.887\titeration: 41\tcurrent optimum: 178143.24265896628\n",
      "└ @ BayesianOptimization C:\\Users\\david\\.juliapro\\JuliaPro_v1.4.0-1\\packages\\BayesianOptimization\\poykT\\src\\BayesianOptimization.jl:140\n",
      "┌ Info: 2021-01-22T14:48:09.902\titeration: 42\tcurrent optimum: 178143.24265896628\n",
      "└ @ BayesianOptimization C:\\Users\\david\\.juliapro\\JuliaPro_v1.4.0-1\\packages\\BayesianOptimization\\poykT\\src\\BayesianOptimization.jl:140\n",
      "┌ Info: 2021-01-22T14:48:09.906\titeration: 43\tcurrent optimum: 178143.24265896628\n",
      "└ @ BayesianOptimization C:\\Users\\david\\.juliapro\\JuliaPro_v1.4.0-1\\packages\\BayesianOptimization\\poykT\\src\\BayesianOptimization.jl:140\n",
      "┌ Info: 2021-01-22T14:48:09.91\titeration: 44\tcurrent optimum: 178143.24265896628\n",
      "└ @ BayesianOptimization C:\\Users\\david\\.juliapro\\JuliaPro_v1.4.0-1\\packages\\BayesianOptimization\\poykT\\src\\BayesianOptimization.jl:140\n",
      "┌ Info: 2021-01-22T14:48:09.914\titeration: 45\tcurrent optimum: 178143.24265896628\n",
      "└ @ BayesianOptimization C:\\Users\\david\\.juliapro\\JuliaPro_v1.4.0-1\\packages\\BayesianOptimization\\poykT\\src\\BayesianOptimization.jl:140\n",
      "┌ Info: 2021-01-22T14:48:09.918\titeration: 46\tcurrent optimum: 178143.24265896628\n",
      "└ @ BayesianOptimization C:\\Users\\david\\.juliapro\\JuliaPro_v1.4.0-1\\packages\\BayesianOptimization\\poykT\\src\\BayesianOptimization.jl:140\n",
      "┌ Info: 2021-01-22T14:48:09.923\titeration: 47\tcurrent optimum: 178143.24265896628\n",
      "└ @ BayesianOptimization C:\\Users\\david\\.juliapro\\JuliaPro_v1.4.0-1\\packages\\BayesianOptimization\\poykT\\src\\BayesianOptimization.jl:140\n",
      "┌ Info: 2021-01-22T14:48:09.928\titeration: 48\tcurrent optimum: 178143.24265896628\n",
      "└ @ BayesianOptimization C:\\Users\\david\\.juliapro\\JuliaPro_v1.4.0-1\\packages\\BayesianOptimization\\poykT\\src\\BayesianOptimization.jl:140\n",
      "┌ Info: 2021-01-22T14:48:09.933\titeration: 49\tcurrent optimum: 178143.24265896628\n",
      "└ @ BayesianOptimization C:\\Users\\david\\.juliapro\\JuliaPro_v1.4.0-1\\packages\\BayesianOptimization\\poykT\\src\\BayesianOptimization.jl:140\n",
      "┌ Info: 2021-01-22T14:48:09.937\titeration: 50\tcurrent optimum: 178143.24265896628\n",
      "└ @ BayesianOptimization C:\\Users\\david\\.juliapro\\JuliaPro_v1.4.0-1\\packages\\BayesianOptimization\\poykT\\src\\BayesianOptimization.jl:140\n",
      "┌ Info: 2021-01-22T14:48:09.941\titeration: 51\tcurrent optimum: 178143.24265896628\n",
      "└ @ BayesianOptimization C:\\Users\\david\\.juliapro\\JuliaPro_v1.4.0-1\\packages\\BayesianOptimization\\poykT\\src\\BayesianOptimization.jl:140\n",
      "┌ Info: 2021-01-22T14:48:09.946\titeration: 52\tcurrent optimum: 178143.24265896628\n",
      "└ @ BayesianOptimization C:\\Users\\david\\.juliapro\\JuliaPro_v1.4.0-1\\packages\\BayesianOptimization\\poykT\\src\\BayesianOptimization.jl:140\n",
      "┌ Info: 2021-01-22T14:48:09.95\titeration: 53\tcurrent optimum: 178143.24265896628\n",
      "└ @ BayesianOptimization C:\\Users\\david\\.juliapro\\JuliaPro_v1.4.0-1\\packages\\BayesianOptimization\\poykT\\src\\BayesianOptimization.jl:140\n",
      "┌ Info: 2021-01-22T14:48:09.954\titeration: 54\tcurrent optimum: 178143.24265896628\n",
      "└ @ BayesianOptimization C:\\Users\\david\\.juliapro\\JuliaPro_v1.4.0-1\\packages\\BayesianOptimization\\poykT\\src\\BayesianOptimization.jl:140\n",
      "┌ Info: 2021-01-22T14:48:09.958\titeration: 55\tcurrent optimum: 178143.24265896628\n",
      "└ @ BayesianOptimization C:\\Users\\david\\.juliapro\\JuliaPro_v1.4.0-1\\packages\\BayesianOptimization\\poykT\\src\\BayesianOptimization.jl:140\n",
      "┌ Info: 2021-01-22T14:48:10.011\titeration: 56\tcurrent optimum: 178143.24265896628\n",
      "└ @ BayesianOptimization C:\\Users\\david\\.juliapro\\JuliaPro_v1.4.0-1\\packages\\BayesianOptimization\\poykT\\src\\BayesianOptimization.jl:140\n"
     ]
    },
    {
     "name": "stderr",
     "output_type": "stream",
     "text": [
      "┌ Info: 2021-01-22T14:48:10.027\titeration: 57\tcurrent optimum: 178143.24265896628\n",
      "└ @ BayesianOptimization C:\\Users\\david\\.juliapro\\JuliaPro_v1.4.0-1\\packages\\BayesianOptimization\\poykT\\src\\BayesianOptimization.jl:140\n",
      "┌ Info: 2021-01-22T14:48:10.03\titeration: 58\tcurrent optimum: 178143.24265896628\n",
      "└ @ BayesianOptimization C:\\Users\\david\\.juliapro\\JuliaPro_v1.4.0-1\\packages\\BayesianOptimization\\poykT\\src\\BayesianOptimization.jl:140\n",
      "┌ Info: 2021-01-22T14:48:10.038\titeration: 59\tcurrent optimum: 178143.24265896628\n",
      "└ @ BayesianOptimization C:\\Users\\david\\.juliapro\\JuliaPro_v1.4.0-1\\packages\\BayesianOptimization\\poykT\\src\\BayesianOptimization.jl:140\n",
      "┌ Info: 2021-01-22T14:48:10.066\titeration: 60\tcurrent optimum: 178143.24265896628\n",
      "└ @ BayesianOptimization C:\\Users\\david\\.juliapro\\JuliaPro_v1.4.0-1\\packages\\BayesianOptimization\\poykT\\src\\BayesianOptimization.jl:140\n",
      "┌ Info: 2021-01-22T14:48:10.07\titeration: 61\tcurrent optimum: 178143.24265896628\n",
      "└ @ BayesianOptimization C:\\Users\\david\\.juliapro\\JuliaPro_v1.4.0-1\\packages\\BayesianOptimization\\poykT\\src\\BayesianOptimization.jl:140\n",
      "┌ Info: 2021-01-22T14:48:10.075\titeration: 62\tcurrent optimum: 178143.24265896628\n",
      "└ @ BayesianOptimization C:\\Users\\david\\.juliapro\\JuliaPro_v1.4.0-1\\packages\\BayesianOptimization\\poykT\\src\\BayesianOptimization.jl:140\n",
      "┌ Info: 2021-01-22T14:48:10.079\titeration: 63\tcurrent optimum: 178143.24265896628\n",
      "└ @ BayesianOptimization C:\\Users\\david\\.juliapro\\JuliaPro_v1.4.0-1\\packages\\BayesianOptimization\\poykT\\src\\BayesianOptimization.jl:140\n",
      "┌ Info: 2021-01-22T14:48:10.094\titeration: 64\tcurrent optimum: 178143.24265896628\n",
      "└ @ BayesianOptimization C:\\Users\\david\\.juliapro\\JuliaPro_v1.4.0-1\\packages\\BayesianOptimization\\poykT\\src\\BayesianOptimization.jl:140\n",
      "┌ Info: 2021-01-22T14:48:10.098\titeration: 65\tcurrent optimum: 178143.24265896628\n",
      "└ @ BayesianOptimization C:\\Users\\david\\.juliapro\\JuliaPro_v1.4.0-1\\packages\\BayesianOptimization\\poykT\\src\\BayesianOptimization.jl:140\n",
      "┌ Info: 2021-01-22T14:48:10.102\titeration: 66\tcurrent optimum: 178143.24265896628\n",
      "└ @ BayesianOptimization C:\\Users\\david\\.juliapro\\JuliaPro_v1.4.0-1\\packages\\BayesianOptimization\\poykT\\src\\BayesianOptimization.jl:140\n",
      "┌ Info: 2021-01-22T14:48:10.107\titeration: 67\tcurrent optimum: 178143.24265896628\n",
      "└ @ BayesianOptimization C:\\Users\\david\\.juliapro\\JuliaPro_v1.4.0-1\\packages\\BayesianOptimization\\poykT\\src\\BayesianOptimization.jl:140\n",
      "┌ Info: 2021-01-22T14:48:10.111\titeration: 68\tcurrent optimum: 178143.24265896628\n",
      "└ @ BayesianOptimization C:\\Users\\david\\.juliapro\\JuliaPro_v1.4.0-1\\packages\\BayesianOptimization\\poykT\\src\\BayesianOptimization.jl:140\n",
      "┌ Info: 2021-01-22T14:48:10.116\titeration: 69\tcurrent optimum: 178143.24265896628\n",
      "└ @ BayesianOptimization C:\\Users\\david\\.juliapro\\JuliaPro_v1.4.0-1\\packages\\BayesianOptimization\\poykT\\src\\BayesianOptimization.jl:140\n",
      "┌ Info: 2021-01-22T14:48:10.12\titeration: 70\tcurrent optimum: 178143.24265896628\n",
      "└ @ BayesianOptimization C:\\Users\\david\\.juliapro\\JuliaPro_v1.4.0-1\\packages\\BayesianOptimization\\poykT\\src\\BayesianOptimization.jl:140\n",
      "┌ Info: 2021-01-22T14:48:10.125\titeration: 71\tcurrent optimum: 178143.24265896628\n",
      "└ @ BayesianOptimization C:\\Users\\david\\.juliapro\\JuliaPro_v1.4.0-1\\packages\\BayesianOptimization\\poykT\\src\\BayesianOptimization.jl:140\n",
      "┌ Info: 2021-01-22T14:48:10.13\titeration: 72\tcurrent optimum: 178143.24265896628\n",
      "└ @ BayesianOptimization C:\\Users\\david\\.juliapro\\JuliaPro_v1.4.0-1\\packages\\BayesianOptimization\\poykT\\src\\BayesianOptimization.jl:140\n",
      "┌ Info: 2021-01-22T14:48:10.135\titeration: 73\tcurrent optimum: 178143.24265896628\n",
      "└ @ BayesianOptimization C:\\Users\\david\\.juliapro\\JuliaPro_v1.4.0-1\\packages\\BayesianOptimization\\poykT\\src\\BayesianOptimization.jl:140\n",
      "┌ Info: 2021-01-22T14:48:10.14\titeration: 74\tcurrent optimum: 178143.24265896628\n",
      "└ @ BayesianOptimization C:\\Users\\david\\.juliapro\\JuliaPro_v1.4.0-1\\packages\\BayesianOptimization\\poykT\\src\\BayesianOptimization.jl:140\n",
      "┌ Info: 2021-01-22T14:48:10.144\titeration: 75\tcurrent optimum: 178143.24265896628\n",
      "└ @ BayesianOptimization C:\\Users\\david\\.juliapro\\JuliaPro_v1.4.0-1\\packages\\BayesianOptimization\\poykT\\src\\BayesianOptimization.jl:140\n",
      "┌ Info: 2021-01-22T14:48:10.149\titeration: 76\tcurrent optimum: 178143.24265896628\n",
      "└ @ BayesianOptimization C:\\Users\\david\\.juliapro\\JuliaPro_v1.4.0-1\\packages\\BayesianOptimization\\poykT\\src\\BayesianOptimization.jl:140\n",
      "┌ Info: 2021-01-22T14:48:10.154\titeration: 77\tcurrent optimum: 178209.30588999786\n",
      "└ @ BayesianOptimization C:\\Users\\david\\.juliapro\\JuliaPro_v1.4.0-1\\packages\\BayesianOptimization\\poykT\\src\\BayesianOptimization.jl:140\n",
      "┌ Info: 2021-01-22T14:48:10.159\titeration: 78\tcurrent optimum: 178209.30588999786\n",
      "└ @ BayesianOptimization C:\\Users\\david\\.juliapro\\JuliaPro_v1.4.0-1\\packages\\BayesianOptimization\\poykT\\src\\BayesianOptimization.jl:140\n",
      "┌ Info: 2021-01-22T14:48:10.164\titeration: 79\tcurrent optimum: 178209.30588999786\n",
      "└ @ BayesianOptimization C:\\Users\\david\\.juliapro\\JuliaPro_v1.4.0-1\\packages\\BayesianOptimization\\poykT\\src\\BayesianOptimization.jl:140\n",
      "┌ Info: 2021-01-22T14:48:10.168\titeration: 80\tcurrent optimum: 178209.30588999786\n",
      "└ @ BayesianOptimization C:\\Users\\david\\.juliapro\\JuliaPro_v1.4.0-1\\packages\\BayesianOptimization\\poykT\\src\\BayesianOptimization.jl:140\n",
      "┌ Info: 2021-01-22T14:48:10.173\titeration: 81\tcurrent optimum: 178209.30588999786\n",
      "└ @ BayesianOptimization C:\\Users\\david\\.juliapro\\JuliaPro_v1.4.0-1\\packages\\BayesianOptimization\\poykT\\src\\BayesianOptimization.jl:140\n",
      "┌ Info: 2021-01-22T14:48:10.177\titeration: 82\tcurrent optimum: 178209.30588999786\n",
      "└ @ BayesianOptimization C:\\Users\\david\\.juliapro\\JuliaPro_v1.4.0-1\\packages\\BayesianOptimization\\poykT\\src\\BayesianOptimization.jl:140\n",
      "┌ Info: 2021-01-22T14:48:10.182\titeration: 83\tcurrent optimum: 178209.30588999786\n",
      "└ @ BayesianOptimization C:\\Users\\david\\.juliapro\\JuliaPro_v1.4.0-1\\packages\\BayesianOptimization\\poykT\\src\\BayesianOptimization.jl:140\n",
      "┌ Info: 2021-01-22T14:48:10.187\titeration: 84\tcurrent optimum: 178209.30588999786\n",
      "└ @ BayesianOptimization C:\\Users\\david\\.juliapro\\JuliaPro_v1.4.0-1\\packages\\BayesianOptimization\\poykT\\src\\BayesianOptimization.jl:140\n",
      "┌ Info: 2021-01-22T14:48:10.191\titeration: 85\tcurrent optimum: 178209.30588999786\n",
      "└ @ BayesianOptimization C:\\Users\\david\\.juliapro\\JuliaPro_v1.4.0-1\\packages\\BayesianOptimization\\poykT\\src\\BayesianOptimization.jl:140\n",
      "┌ Info: 2021-01-22T14:48:10.197\titeration: 86\tcurrent optimum: 178209.30588999786\n",
      "└ @ BayesianOptimization C:\\Users\\david\\.juliapro\\JuliaPro_v1.4.0-1\\packages\\BayesianOptimization\\poykT\\src\\BayesianOptimization.jl:140\n",
      "┌ Info: 2021-01-22T14:48:10.202\titeration: 87\tcurrent optimum: 178209.30588999786\n",
      "└ @ BayesianOptimization C:\\Users\\david\\.juliapro\\JuliaPro_v1.4.0-1\\packages\\BayesianOptimization\\poykT\\src\\BayesianOptimization.jl:140\n",
      "┌ Info: 2021-01-22T14:48:10.207\titeration: 88\tcurrent optimum: 178209.30588999786\n",
      "└ @ BayesianOptimization C:\\Users\\david\\.juliapro\\JuliaPro_v1.4.0-1\\packages\\BayesianOptimization\\poykT\\src\\BayesianOptimization.jl:140\n",
      "┌ Info: 2021-01-22T14:48:10.212\titeration: 89\tcurrent optimum: 178209.30588999786\n",
      "└ @ BayesianOptimization C:\\Users\\david\\.juliapro\\JuliaPro_v1.4.0-1\\packages\\BayesianOptimization\\poykT\\src\\BayesianOptimization.jl:140\n",
      "┌ Info: 2021-01-22T14:48:10.217\titeration: 90\tcurrent optimum: 178209.30588999786\n",
      "└ @ BayesianOptimization C:\\Users\\david\\.juliapro\\JuliaPro_v1.4.0-1\\packages\\BayesianOptimization\\poykT\\src\\BayesianOptimization.jl:140\n",
      "┌ Info: 2021-01-22T14:48:10.222\titeration: 91\tcurrent optimum: 178209.30588999786\n",
      "└ @ BayesianOptimization C:\\Users\\david\\.juliapro\\JuliaPro_v1.4.0-1\\packages\\BayesianOptimization\\poykT\\src\\BayesianOptimization.jl:140\n",
      "┌ Info: 2021-01-22T14:48:10.227\titeration: 92\tcurrent optimum: 178209.30588999786\n",
      "└ @ BayesianOptimization C:\\Users\\david\\.juliapro\\JuliaPro_v1.4.0-1\\packages\\BayesianOptimization\\poykT\\src\\BayesianOptimization.jl:140\n",
      "┌ Info: 2021-01-22T14:48:10.232\titeration: 93\tcurrent optimum: 178209.30588999786\n",
      "└ @ BayesianOptimization C:\\Users\\david\\.juliapro\\JuliaPro_v1.4.0-1\\packages\\BayesianOptimization\\poykT\\src\\BayesianOptimization.jl:140\n",
      "┌ Info: 2021-01-22T14:48:10.238\titeration: 94\tcurrent optimum: 178254.4917140989\n",
      "└ @ BayesianOptimization C:\\Users\\david\\.juliapro\\JuliaPro_v1.4.0-1\\packages\\BayesianOptimization\\poykT\\src\\BayesianOptimization.jl:140\n",
      "┌ Info: 2021-01-22T14:48:10.243\titeration: 95\tcurrent optimum: 178254.4917140989\n",
      "└ @ BayesianOptimization C:\\Users\\david\\.juliapro\\JuliaPro_v1.4.0-1\\packages\\BayesianOptimization\\poykT\\src\\BayesianOptimization.jl:140\n",
      "┌ Info: 2021-01-22T14:48:10.248\titeration: 96\tcurrent optimum: 178254.4917140989\n",
      "└ @ BayesianOptimization C:\\Users\\david\\.juliapro\\JuliaPro_v1.4.0-1\\packages\\BayesianOptimization\\poykT\\src\\BayesianOptimization.jl:140\n",
      "┌ Info: 2021-01-22T14:48:10.253\titeration: 97\tcurrent optimum: 178254.4917140989\n",
      "└ @ BayesianOptimization C:\\Users\\david\\.juliapro\\JuliaPro_v1.4.0-1\\packages\\BayesianOptimization\\poykT\\src\\BayesianOptimization.jl:140\n",
      "┌ Info: 2021-01-22T14:48:10.258\titeration: 98\tcurrent optimum: 178254.4917140989\n",
      "└ @ BayesianOptimization C:\\Users\\david\\.juliapro\\JuliaPro_v1.4.0-1\\packages\\BayesianOptimization\\poykT\\src\\BayesianOptimization.jl:140\n",
      "┌ Info: 2021-01-22T14:48:10.264\titeration: 99\tcurrent optimum: 178254.4917140989\n",
      "└ @ BayesianOptimization C:\\Users\\david\\.juliapro\\JuliaPro_v1.4.0-1\\packages\\BayesianOptimization\\poykT\\src\\BayesianOptimization.jl:140\n",
      "┌ Info: 2021-01-22T14:48:10.269\titeration: 100\tcurrent optimum: 178254.4917140989\n",
      "└ @ BayesianOptimization C:\\Users\\david\\.juliapro\\JuliaPro_v1.4.0-1\\packages\\BayesianOptimization\\poykT\\src\\BayesianOptimization.jl:140\n",
      "┌ Info: 2021-01-22T14:48:10.274\titeration: 101\tcurrent optimum: 178254.4917140989\n",
      "└ @ BayesianOptimization C:\\Users\\david\\.juliapro\\JuliaPro_v1.4.0-1\\packages\\BayesianOptimization\\poykT\\src\\BayesianOptimization.jl:140\n",
      "┌ Info: 2021-01-22T14:48:10.28\titeration: 102\tcurrent optimum: 178254.4917140989\n",
      "└ @ BayesianOptimization C:\\Users\\david\\.juliapro\\JuliaPro_v1.4.0-1\\packages\\BayesianOptimization\\poykT\\src\\BayesianOptimization.jl:140\n",
      "┌ Info: 2021-01-22T14:48:10.285\titeration: 103\tcurrent optimum: 178254.4917140989\n",
      "└ @ BayesianOptimization C:\\Users\\david\\.juliapro\\JuliaPro_v1.4.0-1\\packages\\BayesianOptimization\\poykT\\src\\BayesianOptimization.jl:140\n",
      "┌ Info: 2021-01-22T14:48:10.29\titeration: 104\tcurrent optimum: 178254.4917140989\n",
      "└ @ BayesianOptimization C:\\Users\\david\\.juliapro\\JuliaPro_v1.4.0-1\\packages\\BayesianOptimization\\poykT\\src\\BayesianOptimization.jl:140\n",
      "┌ Info: 2021-01-22T14:48:10.296\titeration: 105\tcurrent optimum: 178254.4917140989\n",
      "└ @ BayesianOptimization C:\\Users\\david\\.juliapro\\JuliaPro_v1.4.0-1\\packages\\BayesianOptimization\\poykT\\src\\BayesianOptimization.jl:140\n",
      "┌ Info: 2021-01-22T14:48:10.302\titeration: 106\tcurrent optimum: 178254.4917140989\n",
      "└ @ BayesianOptimization C:\\Users\\david\\.juliapro\\JuliaPro_v1.4.0-1\\packages\\BayesianOptimization\\poykT\\src\\BayesianOptimization.jl:140\n",
      "┌ Info: 2021-01-22T14:48:10.307\titeration: 107\tcurrent optimum: 178254.4917140989\n",
      "└ @ BayesianOptimization C:\\Users\\david\\.juliapro\\JuliaPro_v1.4.0-1\\packages\\BayesianOptimization\\poykT\\src\\BayesianOptimization.jl:140\n",
      "┌ Info: 2021-01-22T14:48:10.312\titeration: 108\tcurrent optimum: 178254.4917140989\n",
      "└ @ BayesianOptimization C:\\Users\\david\\.juliapro\\JuliaPro_v1.4.0-1\\packages\\BayesianOptimization\\poykT\\src\\BayesianOptimization.jl:140\n"
     ]
    },
    {
     "name": "stderr",
     "output_type": "stream",
     "text": [
      "┌ Info: 2021-01-22T14:48:10.318\titeration: 109\tcurrent optimum: 178254.4917140989\n",
      "└ @ BayesianOptimization C:\\Users\\david\\.juliapro\\JuliaPro_v1.4.0-1\\packages\\BayesianOptimization\\poykT\\src\\BayesianOptimization.jl:140\n",
      "┌ Info: 2021-01-22T14:48:10.38\titeration: 110\tcurrent optimum: 178254.4917140989\n",
      "└ @ BayesianOptimization C:\\Users\\david\\.juliapro\\JuliaPro_v1.4.0-1\\packages\\BayesianOptimization\\poykT\\src\\BayesianOptimization.jl:140\n",
      "┌ Info: 2021-01-22T14:48:10.387\titeration: 111\tcurrent optimum: 178254.4917140989\n",
      "└ @ BayesianOptimization C:\\Users\\david\\.juliapro\\JuliaPro_v1.4.0-1\\packages\\BayesianOptimization\\poykT\\src\\BayesianOptimization.jl:140\n",
      "┌ Info: 2021-01-22T14:48:10.392\titeration: 112\tcurrent optimum: 178254.4917140989\n",
      "└ @ BayesianOptimization C:\\Users\\david\\.juliapro\\JuliaPro_v1.4.0-1\\packages\\BayesianOptimization\\poykT\\src\\BayesianOptimization.jl:140\n",
      "┌ Info: 2021-01-22T14:48:10.399\titeration: 113\tcurrent optimum: 178254.4917140989\n",
      "└ @ BayesianOptimization C:\\Users\\david\\.juliapro\\JuliaPro_v1.4.0-1\\packages\\BayesianOptimization\\poykT\\src\\BayesianOptimization.jl:140\n",
      "┌ Info: 2021-01-22T14:48:10.405\titeration: 114\tcurrent optimum: 178254.4917140989\n",
      "└ @ BayesianOptimization C:\\Users\\david\\.juliapro\\JuliaPro_v1.4.0-1\\packages\\BayesianOptimization\\poykT\\src\\BayesianOptimization.jl:140\n",
      "┌ Info: 2021-01-22T14:48:10.411\titeration: 115\tcurrent optimum: 178254.4917140989\n",
      "└ @ BayesianOptimization C:\\Users\\david\\.juliapro\\JuliaPro_v1.4.0-1\\packages\\BayesianOptimization\\poykT\\src\\BayesianOptimization.jl:140\n",
      "┌ Info: 2021-01-22T14:48:10.428\titeration: 116\tcurrent optimum: 178254.4917140989\n",
      "└ @ BayesianOptimization C:\\Users\\david\\.juliapro\\JuliaPro_v1.4.0-1\\packages\\BayesianOptimization\\poykT\\src\\BayesianOptimization.jl:140\n",
      "┌ Info: 2021-01-22T14:48:10.434\titeration: 117\tcurrent optimum: 178254.4917140989\n",
      "└ @ BayesianOptimization C:\\Users\\david\\.juliapro\\JuliaPro_v1.4.0-1\\packages\\BayesianOptimization\\poykT\\src\\BayesianOptimization.jl:140\n",
      "┌ Info: 2021-01-22T14:48:10.441\titeration: 118\tcurrent optimum: 178254.4917140989\n",
      "└ @ BayesianOptimization C:\\Users\\david\\.juliapro\\JuliaPro_v1.4.0-1\\packages\\BayesianOptimization\\poykT\\src\\BayesianOptimization.jl:140\n",
      "┌ Info: 2021-01-22T14:48:10.447\titeration: 119\tcurrent optimum: 178254.4917140989\n",
      "└ @ BayesianOptimization C:\\Users\\david\\.juliapro\\JuliaPro_v1.4.0-1\\packages\\BayesianOptimization\\poykT\\src\\BayesianOptimization.jl:140\n",
      "┌ Info: 2021-01-22T14:48:10.453\titeration: 120\tcurrent optimum: 178254.4917140989\n",
      "└ @ BayesianOptimization C:\\Users\\david\\.juliapro\\JuliaPro_v1.4.0-1\\packages\\BayesianOptimization\\poykT\\src\\BayesianOptimization.jl:140\n",
      "┌ Info: 2021-01-22T14:48:10.459\titeration: 121\tcurrent optimum: 178254.4917140989\n",
      "└ @ BayesianOptimization C:\\Users\\david\\.juliapro\\JuliaPro_v1.4.0-1\\packages\\BayesianOptimization\\poykT\\src\\BayesianOptimization.jl:140\n",
      "┌ Info: 2021-01-22T14:48:10.465\titeration: 122\tcurrent optimum: 178254.4917140989\n",
      "└ @ BayesianOptimization C:\\Users\\david\\.juliapro\\JuliaPro_v1.4.0-1\\packages\\BayesianOptimization\\poykT\\src\\BayesianOptimization.jl:140\n",
      "┌ Info: 2021-01-22T14:48:10.472\titeration: 123\tcurrent optimum: 178254.4917140989\n",
      "└ @ BayesianOptimization C:\\Users\\david\\.juliapro\\JuliaPro_v1.4.0-1\\packages\\BayesianOptimization\\poykT\\src\\BayesianOptimization.jl:140\n",
      "┌ Info: 2021-01-22T14:48:10.478\titeration: 124\tcurrent optimum: 178254.4917140989\n",
      "└ @ BayesianOptimization C:\\Users\\david\\.juliapro\\JuliaPro_v1.4.0-1\\packages\\BayesianOptimization\\poykT\\src\\BayesianOptimization.jl:140\n",
      "┌ Info: 2021-01-22T14:48:10.484\titeration: 125\tcurrent optimum: 178254.4917140989\n",
      "└ @ BayesianOptimization C:\\Users\\david\\.juliapro\\JuliaPro_v1.4.0-1\\packages\\BayesianOptimization\\poykT\\src\\BayesianOptimization.jl:140\n",
      "┌ Info: 2021-01-22T14:48:10.49\titeration: 126\tcurrent optimum: 178254.4917140989\n",
      "└ @ BayesianOptimization C:\\Users\\david\\.juliapro\\JuliaPro_v1.4.0-1\\packages\\BayesianOptimization\\poykT\\src\\BayesianOptimization.jl:140\n",
      "┌ Info: 2021-01-22T14:48:10.497\titeration: 127\tcurrent optimum: 178254.4917140989\n",
      "└ @ BayesianOptimization C:\\Users\\david\\.juliapro\\JuliaPro_v1.4.0-1\\packages\\BayesianOptimization\\poykT\\src\\BayesianOptimization.jl:140\n",
      "┌ Info: 2021-01-22T14:48:10.503\titeration: 128\tcurrent optimum: 178254.4917140989\n",
      "└ @ BayesianOptimization C:\\Users\\david\\.juliapro\\JuliaPro_v1.4.0-1\\packages\\BayesianOptimization\\poykT\\src\\BayesianOptimization.jl:140\n",
      "┌ Info: 2021-01-22T14:48:10.508\titeration: 129\tcurrent optimum: 178254.4917140989\n",
      "└ @ BayesianOptimization C:\\Users\\david\\.juliapro\\JuliaPro_v1.4.0-1\\packages\\BayesianOptimization\\poykT\\src\\BayesianOptimization.jl:140\n",
      "┌ Info: 2021-01-22T14:48:10.515\titeration: 130\tcurrent optimum: 178254.4917140989\n",
      "└ @ BayesianOptimization C:\\Users\\david\\.juliapro\\JuliaPro_v1.4.0-1\\packages\\BayesianOptimization\\poykT\\src\\BayesianOptimization.jl:140\n",
      "┌ Info: 2021-01-22T14:48:10.522\titeration: 131\tcurrent optimum: 178254.4917140989\n",
      "└ @ BayesianOptimization C:\\Users\\david\\.juliapro\\JuliaPro_v1.4.0-1\\packages\\BayesianOptimization\\poykT\\src\\BayesianOptimization.jl:140\n",
      "┌ Info: 2021-01-22T14:48:10.528\titeration: 132\tcurrent optimum: 178254.4917140989\n",
      "└ @ BayesianOptimization C:\\Users\\david\\.juliapro\\JuliaPro_v1.4.0-1\\packages\\BayesianOptimization\\poykT\\src\\BayesianOptimization.jl:140\n",
      "┌ Info: 2021-01-22T14:48:10.535\titeration: 133\tcurrent optimum: 178254.4917140989\n",
      "└ @ BayesianOptimization C:\\Users\\david\\.juliapro\\JuliaPro_v1.4.0-1\\packages\\BayesianOptimization\\poykT\\src\\BayesianOptimization.jl:140\n",
      "┌ Info: 2021-01-22T14:48:10.541\titeration: 134\tcurrent optimum: 178254.4917140989\n",
      "└ @ BayesianOptimization C:\\Users\\david\\.juliapro\\JuliaPro_v1.4.0-1\\packages\\BayesianOptimization\\poykT\\src\\BayesianOptimization.jl:140\n",
      "┌ Info: 2021-01-22T14:48:10.546\titeration: 135\tcurrent optimum: 178254.4917140989\n",
      "└ @ BayesianOptimization C:\\Users\\david\\.juliapro\\JuliaPro_v1.4.0-1\\packages\\BayesianOptimization\\poykT\\src\\BayesianOptimization.jl:140\n",
      "┌ Info: 2021-01-22T14:48:10.592\titeration: 136\tcurrent optimum: 178254.4917140989\n",
      "└ @ BayesianOptimization C:\\Users\\david\\.juliapro\\JuliaPro_v1.4.0-1\\packages\\BayesianOptimization\\poykT\\src\\BayesianOptimization.jl:140\n",
      "┌ Info: 2021-01-22T14:48:10.604\titeration: 137\tcurrent optimum: 178254.4917140989\n",
      "└ @ BayesianOptimization C:\\Users\\david\\.juliapro\\JuliaPro_v1.4.0-1\\packages\\BayesianOptimization\\poykT\\src\\BayesianOptimization.jl:140\n",
      "┌ Info: 2021-01-22T14:48:10.617\titeration: 138\tcurrent optimum: 178254.4917140989\n",
      "└ @ BayesianOptimization C:\\Users\\david\\.juliapro\\JuliaPro_v1.4.0-1\\packages\\BayesianOptimization\\poykT\\src\\BayesianOptimization.jl:140\n",
      "┌ Info: 2021-01-22T14:48:10.625\titeration: 139\tcurrent optimum: 178254.4917140989\n",
      "└ @ BayesianOptimization C:\\Users\\david\\.juliapro\\JuliaPro_v1.4.0-1\\packages\\BayesianOptimization\\poykT\\src\\BayesianOptimization.jl:140\n",
      "┌ Info: 2021-01-22T14:48:10.635\titeration: 140\tcurrent optimum: 178254.4917140989\n",
      "└ @ BayesianOptimization C:\\Users\\david\\.juliapro\\JuliaPro_v1.4.0-1\\packages\\BayesianOptimization\\poykT\\src\\BayesianOptimization.jl:140\n",
      "┌ Info: 2021-01-22T14:48:10.645\titeration: 141\tcurrent optimum: 178254.4917140989\n",
      "└ @ BayesianOptimization C:\\Users\\david\\.juliapro\\JuliaPro_v1.4.0-1\\packages\\BayesianOptimization\\poykT\\src\\BayesianOptimization.jl:140\n",
      "┌ Info: 2021-01-22T14:48:10.654\titeration: 142\tcurrent optimum: 178254.4917140989\n",
      "└ @ BayesianOptimization C:\\Users\\david\\.juliapro\\JuliaPro_v1.4.0-1\\packages\\BayesianOptimization\\poykT\\src\\BayesianOptimization.jl:140\n",
      "┌ Info: 2021-01-22T14:48:10.66\titeration: 143\tcurrent optimum: 178254.4917140989\n",
      "└ @ BayesianOptimization C:\\Users\\david\\.juliapro\\JuliaPro_v1.4.0-1\\packages\\BayesianOptimization\\poykT\\src\\BayesianOptimization.jl:140\n",
      "┌ Info: 2021-01-22T14:48:10.667\titeration: 144\tcurrent optimum: 178254.4917140989\n",
      "└ @ BayesianOptimization C:\\Users\\david\\.juliapro\\JuliaPro_v1.4.0-1\\packages\\BayesianOptimization\\poykT\\src\\BayesianOptimization.jl:140\n",
      "┌ Info: 2021-01-22T14:48:10.674\titeration: 145\tcurrent optimum: 178254.4917140989\n",
      "└ @ BayesianOptimization C:\\Users\\david\\.juliapro\\JuliaPro_v1.4.0-1\\packages\\BayesianOptimization\\poykT\\src\\BayesianOptimization.jl:140\n",
      "┌ Info: 2021-01-22T14:48:10.684\titeration: 146\tcurrent optimum: 178254.4917140989\n",
      "└ @ BayesianOptimization C:\\Users\\david\\.juliapro\\JuliaPro_v1.4.0-1\\packages\\BayesianOptimization\\poykT\\src\\BayesianOptimization.jl:140\n",
      "┌ Info: 2021-01-22T14:48:10.694\titeration: 147\tcurrent optimum: 178254.4917140989\n",
      "└ @ BayesianOptimization C:\\Users\\david\\.juliapro\\JuliaPro_v1.4.0-1\\packages\\BayesianOptimization\\poykT\\src\\BayesianOptimization.jl:140\n",
      "┌ Info: 2021-01-22T14:48:10.704\titeration: 148\tcurrent optimum: 178254.4917140989\n",
      "└ @ BayesianOptimization C:\\Users\\david\\.juliapro\\JuliaPro_v1.4.0-1\\packages\\BayesianOptimization\\poykT\\src\\BayesianOptimization.jl:140\n"
     ]
    },
    {
     "name": "stderr",
     "output_type": "stream",
     "text": [
      "┌ Info: 2021-01-22T14:48:10.712\titeration: 149\tcurrent optimum: 178254.4917140989\n",
      "└ @ BayesianOptimization C:\\Users\\david\\.juliapro\\JuliaPro_v1.4.0-1\\packages\\BayesianOptimization\\poykT\\src\\BayesianOptimization.jl:140\n",
      "┌ Info:  ──────────────────────────────────────────────────────────────────────────────\n",
      "│                                        Time                   Allocations      \n",
      "│                                ──────────────────────   ───────────────────────\n",
      "│        Tot / % measured:            20.5s / 96.3%           2.51GiB / 97.4%    \n",
      "│ \n",
      "│  Section               ncalls     time   %tot     avg     alloc   %tot      avg\n",
      "│  ──────────────────────────────────────────────────────────────────────────────\n",
      "│  function evaluation      150    13.4s  68.2%  89.6ms   1.39GiB  56.8%  9.48MiB\n",
      "│  acquisition              141    4.91s  24.9%  34.8ms    886MiB  35.4%  6.28MiB\n",
      "│  model update             141    694ms  3.52%  4.92ms   97.9MiB  3.91%   711KiB\n",
      "│  model hyperparamet...    141    663ms  3.36%  4.70ms    100MiB  3.98%   725KiB\n",
      "│  ──────────────────────────────────────────────────────────────────────────────\n",
      "└ @ BayesianOptimization C:\\Users\\david\\.juliapro\\JuliaPro_v1.4.0-1\\packages\\BayesianOptimization\\poykT\\src\\BayesianOptimization.jl:154\n"
     ]
    },
    {
     "name": "stdout",
     "output_type": "stream",
     "text": [
      "\n",
      "----------------------------------------- RESULTS -----------------------------------------\n",
      "OED for Model Calibration results are saved in the directory: \n",
      "                 E:\\UNI\\D_Drive\\PhD\\JULIAlang\\Generalisation_PLacExample\\Examples\\Results\\PLacExample_2021-01-22\n",
      "Under the name OEDModelCalibrationResults_testOEDMS.jld\n",
      "--------------------------------------------------------------------------------------\n",
      "\n",
      "\n",
      "----------------------------------------- PLOTS -----------------------------------------\n",
      "PLOTS are saved in the directory: \n",
      "                 E:\\UNI\\D_Drive\\PhD\\JULIAlang\\Generalisation_PLacExample\\Examples\\Results\\PLacExample_2021-01-22\n",
      "Under the names PlotOEDMCResults_Exp1_testOEDMS.png and Plot_OEDMCConvergence_testOEDMS.png\n",
      "--------------------------------------------------------------------------------------\n",
      "\n"
     ]
    }
   ],
   "source": [
    "oedmc_res, oedmc_def = mainOEDMC(oedmc_def);"
   ]
  },
  {
   "cell_type": "markdown",
   "metadata": {},
   "source": [
    "### First let's have a look at the results structure\n"
   ]
  },
  {
   "cell_type": "code",
   "execution_count": 10,
   "metadata": {},
   "outputs": [
    {
     "data": {
      "text/plain": [
       "Dict{Any,Any} with 7 entries:\n",
       "  \"BestResOptim\" => (observed_optimum = 178254.0, observed_optimizer = [50.3265…\n",
       "  \"uInpOpt\"      => Dict{Any,Any}(\"IPTG\"=>Any[0, 50.3265, 54.8133])\n",
       "  \"ResOptim\"     => Dict{String,Any}(\"modelY\"=>[177986.0, 137602.0, 178143.0, 1…\n",
       "  \"BestUtil\"     => 178254.0\n",
       "  \"ConvCurv\"     => [1.0 177986.0; 2.0 177986.0; … ; 149.0 178254.0; 150.0 1782…\n",
       "  \"Simul_MC\"     => [0.317361 18.8312 11.9507 823.01; 0.317361 18.8312 11.9507 …\n",
       "  \"SimulObs_MC\"  => [2469.03; 2469.03; … ; 49639.3; 49639.3]…"
      ]
     },
     "execution_count": 10,
     "metadata": {},
     "output_type": "execute_result"
    }
   ],
   "source": [
    "oedmc_res"
   ]
  },
  {
   "cell_type": "markdown",
   "metadata": {},
   "source": [
    "**- BestResOptim:** BayesianOptimisation optimisation results (as they come from the package) for the best iteration"
   ]
  },
  {
   "cell_type": "code",
   "execution_count": 11,
   "metadata": {},
   "outputs": [
    {
     "data": {
      "text/plain": [
       "(observed_optimum = 178254.4917140989, observed_optimizer = [50.326507688580236, 54.81331661283942], model_optimum = 179281.65611076754, model_optimizer = [79.37183716225283, 92.43828576226132])"
      ]
     },
     "execution_count": 11,
     "metadata": {},
     "output_type": "execute_result"
    }
   ],
   "source": [
    "oedmc_res[\"BestResOptim\"]"
   ]
  },
  {
   "cell_type": "markdown",
   "metadata": {},
   "source": [
    "**- uInpOpt:** Dictionary with an entry for each inducer of the models and the optimised value for each step (if an input is fixed for the whole experiment this will appear only once). <br>\n",
    "If you have steps fixed to a specific value, this will still be included in this results (it will be the actual values for the experiments, not the optimisation results)."
   ]
  },
  {
   "cell_type": "code",
   "execution_count": 12,
   "metadata": {},
   "outputs": [
    {
     "data": {
      "text/plain": [
       "Dict{Any,Any} with 1 entry:\n",
       "  \"IPTG\" => Any[0, 50.3265, 54.8133]"
      ]
     },
     "execution_count": 12,
     "metadata": {},
     "output_type": "execute_result"
    }
   ],
   "source": [
    "oedmc_res[\"uInpOpt\"]"
   ]
  },
  {
   "cell_type": "markdown",
   "metadata": {},
   "source": [
    "**- ResOptim:** The optimisation structure details from Bayesian Optimisation."
   ]
  },
  {
   "cell_type": "code",
   "execution_count": 13,
   "metadata": {},
   "outputs": [
    {
     "data": {
      "text/plain": [
       "Dict{String,Any} with 12 entries:\n",
       "  \"modelY\"             => [177986.0, 137602.0, 178143.0, 169704.0, 177894.0, 17…\n",
       "  \"modelX\"             => [68.75 93.75 … 58.2427 26.2789; 81.25 6.25 … 58.5752 …\n",
       "  \"acquisitionoptions\" => (method = :LD_LBFGS, restarts = 10, maxeval = 2000)\n",
       "  \"duration\"           => DurationCounter(1.61133e9, Inf, 1.61133e9, Inf)\n",
       "  \"repetitions\"        => 1\n",
       "  \"model_optimum\"      => 179282.0\n",
       "  \"sense\"              => Max\n",
       "  \"modeloptimizer\"     => MAPGPOptimizer{NamedTuple{(:domean, :kern, :noise, :l…\n",
       "  \"model_optimizer\"    => [79.3718, 92.4383]\n",
       "  \"upperbounds\"        => [100.0, 100.0]\n",
       "  \"observed_optimizer\" => [50.3265, 54.8133]\n",
       "  \"observed_optimum\"   => 178254.0"
      ]
     },
     "execution_count": 13,
     "metadata": {},
     "output_type": "execute_result"
    }
   ],
   "source": [
    "oedmc_res[\"ResOptim\"]"
   ]
  },
  {
   "cell_type": "markdown",
   "metadata": {},
   "source": [
    "**- Simul_MC:** Simulation of the model using the optimum input profile. "
   ]
  },
  {
   "cell_type": "code",
   "execution_count": 14,
   "metadata": {},
   "outputs": [
    {
     "data": {
      "text/plain": [
       "288×4×3 Array{Float64,3}:\n",
       "[:, :, 1] =\n",
       " 0.317361   18.8312   11.9507    823.01\n",
       " 0.317361   18.8312   11.9507    823.01\n",
       " 0.317361   18.8312   11.9507    823.01\n",
       " 0.317361   18.8312   11.9507    823.01\n",
       " 0.317361   18.8312   11.9507    823.01\n",
       " 0.317361   18.8312   11.9507    823.01\n",
       " 0.317361   18.8312   11.9507    823.01\n",
       " 0.317361   18.8312   11.9507    823.01\n",
       " 0.317361   18.8312   11.9507    823.01\n",
       " 0.317361   18.8312   11.9507    823.01\n",
       " 0.317361   18.8312   11.9507    823.01\n",
       " 0.317361   18.8312   11.9507    823.01\n",
       " 0.317361   18.8312   11.9507    823.01\n",
       " ⋮                             \n",
       " 6.38048   378.597   240.266   16546.4\n",
       " 6.38048   378.597   240.266   16546.4\n",
       " 6.38048   378.597   240.266   16546.4\n",
       " 6.38048   378.597   240.266   16546.4\n",
       " 6.38048   378.597   240.266   16546.4\n",
       " 6.38048   378.597   240.266   16546.4\n",
       " 6.38048   378.597   240.266   16546.4\n",
       " 6.38048   378.597   240.266   16546.4\n",
       " 6.38048   378.597   240.266   16546.4\n",
       " 6.38048   378.597   240.266   16546.4\n",
       " 6.38048   378.597   240.266   16546.4\n",
       " 6.38048   378.597   240.266   16546.4\n",
       "\n",
       "[:, :, 2] =\n",
       " 0.317361   18.8312   11.9507    781.859\n",
       " 0.317361   18.8312   11.9507    781.859\n",
       " 0.317361   18.8312   11.9507    781.859\n",
       " 0.317361   18.8312   11.9507    781.859\n",
       " 0.317361   18.8312   11.9507    781.859\n",
       " 0.317361   18.8312   11.9507    781.859\n",
       " 0.317361   18.8312   11.9507    781.859\n",
       " 0.317361   18.8312   11.9507    781.859\n",
       " 0.317361   18.8312   11.9507    781.859\n",
       " 0.317361   18.8312   11.9507    781.859\n",
       " 0.317361   18.8312   11.9507    781.859\n",
       " 0.317361   18.8312   11.9507    781.859\n",
       " 0.317361   18.8312   11.9507    781.859\n",
       " ⋮                             \n",
       " 6.36318   377.57    239.615   15676.5\n",
       " 6.36318   377.57    239.615   15676.5\n",
       " 6.36318   377.57    239.615   15676.5\n",
       " 6.36318   377.57    239.615   15676.5\n",
       " 6.36318   377.57    239.615   15676.5\n",
       " 6.36318   377.57    239.615   15676.5\n",
       " 6.36318   377.57    239.615   15676.5\n",
       " 6.36318   377.57    239.615   15676.5\n",
       " 6.36318   377.57    239.615   15676.5\n",
       " 6.36318   377.57    239.615   15676.5\n",
       " 6.36318   377.57    239.615   15676.5\n",
       " 6.36318   377.57    239.615   15676.5\n",
       "\n",
       "[:, :, 3] =\n",
       " 0.317361   18.8312   11.9507    987.611\n",
       " 0.317361   18.8312   11.9507    987.611\n",
       " 0.317361   18.8312   11.9507    987.611\n",
       " 0.317361   18.8312   11.9507    987.611\n",
       " 0.317361   18.8312   11.9507    987.611\n",
       " 0.317361   18.8312   11.9507    987.611\n",
       " 0.317361   18.8312   11.9507    987.611\n",
       " 0.317361   18.8312   11.9507    987.611\n",
       " 0.317361   18.8312   11.9507    987.611\n",
       " 0.317361   18.8312   11.9507    987.611\n",
       " 0.317361   18.8312   11.9507    987.611\n",
       " 0.317361   18.8312   11.9507    987.611\n",
       " 0.317361   18.8312   11.9507    987.611\n",
       " ⋮                             \n",
       " 6.43052   381.566   242.151   20011.4\n",
       " 6.43052   381.566   242.151   20011.4\n",
       " 6.43052   381.566   242.151   20011.4\n",
       " 6.43052   381.566   242.151   20011.4\n",
       " 6.43052   381.566   242.151   20011.4\n",
       " 6.43052   381.566   242.151   20011.4\n",
       " 6.43052   381.566   242.151   20011.4\n",
       " 6.43052   381.566   242.151   20011.4\n",
       " 6.43052   381.566   242.151   20011.4\n",
       " 6.43052   381.566   242.151   20011.4\n",
       " 6.43052   381.566   242.151   20011.4\n",
       " 6.43052   381.566   242.151   20011.4"
      ]
     },
     "execution_count": 14,
     "metadata": {},
     "output_type": "execute_result"
    }
   ],
   "source": [
    "oedmc_res[\"Simul_MC\"]"
   ]
  },
  {
   "cell_type": "markdown",
   "metadata": {},
   "source": [
    "**- BestUtil:** Best utility function value"
   ]
  },
  {
   "cell_type": "code",
   "execution_count": 15,
   "metadata": {},
   "outputs": [
    {
     "data": {
      "text/plain": [
       "178254.4917140989"
      ]
     },
     "execution_count": 15,
     "metadata": {},
     "output_type": "execute_result"
    }
   ],
   "source": [
    "oedmc_res[\"BestUtil\"]"
   ]
  },
  {
   "cell_type": "markdown",
   "metadata": {},
   "source": [
    "**- ConvCurv:** Convergence curve for the optimisation. First column indicates iteration and second column best utility function so far. "
   ]
  },
  {
   "cell_type": "code",
   "execution_count": 16,
   "metadata": {},
   "outputs": [
    {
     "data": {
      "text/plain": [
       "150×2 Array{Float64,2}:\n",
       "   1.0  177986.0\n",
       "   2.0  177986.0\n",
       "   3.0  178143.0\n",
       "   4.0  178143.0\n",
       "   5.0  178143.0\n",
       "   6.0  178143.0\n",
       "   7.0  178143.0\n",
       "   8.0  178143.0\n",
       "   9.0  178143.0\n",
       "  10.0  178143.0\n",
       "  11.0  178143.0\n",
       "  12.0  178143.0\n",
       "  13.0  178143.0\n",
       "   ⋮    \n",
       " 139.0  178254.0\n",
       " 140.0  178254.0\n",
       " 141.0  178254.0\n",
       " 142.0  178254.0\n",
       " 143.0  178254.0\n",
       " 144.0  178254.0\n",
       " 145.0  178254.0\n",
       " 146.0  178254.0\n",
       " 147.0  178254.0\n",
       " 148.0  178254.0\n",
       " 149.0  178254.0\n",
       " 150.0  178254.0"
      ]
     },
     "execution_count": 16,
     "metadata": {},
     "output_type": "execute_result"
    }
   ],
   "source": [
    "oedmc_res[\"ConvCurv\"]"
   ]
  },
  {
   "cell_type": "markdown",
   "metadata": {},
   "source": [
    "**- SimulObs_MC:** Simulation of the observables for the model using the optimum input profile. "
   ]
  },
  {
   "cell_type": "code",
   "execution_count": 17,
   "metadata": {},
   "outputs": [
    {
     "data": {
      "text/plain": [
       "288×1×3 Array{Float64,3}:\n",
       "[:, :, 1] =\n",
       "  2469.0287158650076\n",
       "  2469.0287158650076\n",
       "  2469.0287158650076\n",
       "  2469.0287158650076\n",
       "  2469.0287158650076\n",
       "  2469.0287158650076\n",
       "  2469.0287158650076\n",
       "  2469.0287158650076\n",
       "  2469.0287158650076\n",
       "  2469.0287158650076\n",
       "  2469.0287158650076\n",
       "  2469.0287158650076\n",
       "  2469.0287158650076\n",
       "     ⋮\n",
       " 49639.2398850115\n",
       " 49639.24171429684\n",
       " 49639.24330034957\n",
       " 49639.244674736474\n",
       " 49639.24586584912\n",
       " 49639.246898903846\n",
       " 49639.24779580768\n",
       " 49639.248574007855\n",
       " 49639.24924833384\n",
       " 49639.249832325106\n",
       " 49639.25033824249\n",
       " 49639.250777068344\n",
       "\n",
       "[:, :, 2] =\n",
       "  2345.5772800717577\n",
       "  2345.5772800717577\n",
       "  2345.5772800717577\n",
       "  2345.5772800717577\n",
       "  2345.5772800717577\n",
       "  2345.5772800717577\n",
       "  2345.5772800717577\n",
       "  2345.5772800717577\n",
       "  2345.5772800717577\n",
       "  2345.5772800717577\n",
       "  2345.5772800717577\n",
       "  2345.5772800717577\n",
       "  2345.5772800717577\n",
       "     ⋮\n",
       " 47029.42352631064\n",
       " 47029.426510920166\n",
       " 47029.4291184356\n",
       " 47029.431397188106\n",
       " 47029.43338725343\n",
       " 47029.43512439647\n",
       " 47029.43664087761\n",
       " 47029.43796545272\n",
       " 47029.439123059215\n",
       " 47029.44013414941\n",
       " 47029.44101695562\n",
       " 47029.44178780902\n",
       "\n",
       "[:, :, 3] =\n",
       "  2962.83445903801\n",
       "  2962.83445903801\n",
       "  2962.83445903801\n",
       "  2962.8344590380066\n",
       "  2962.8344590379947\n",
       "  2962.834459037979\n",
       "  2962.8344590379634\n",
       "  2962.834459037952\n",
       "  2962.834459037947\n",
       "  2962.8344590379497\n",
       "  2962.83445903796\n",
       "  2962.8344590379775\n",
       "  2962.834459038001\n",
       "     ⋮\n",
       " 60034.28465041958\n",
       " 60034.28489786727\n",
       " 60034.28510694248\n",
       " 60034.285282871955\n",
       " 60034.28543051961\n",
       " 60034.28555438999\n",
       " 60034.28565862833\n",
       " 60034.28574697762\n",
       " 60034.28582173931\n",
       " 60034.285884711586\n",
       " 60034.285937700326\n",
       " 60034.28598231022"
      ]
     },
     "execution_count": 17,
     "metadata": {},
     "output_type": "execute_result"
    }
   ],
   "source": [
    "oedmc_res[\"SimulObs_MC\"]"
   ]
  },
  {
   "cell_type": "markdown",
   "metadata": {},
   "source": [
    "### Now, let's have a look at the plots generated\n",
    "First, the convergence curve <br>\n",
    "Note that to reduce the computational time of the example we used a really low number of iterations, so do not be surprised if the results do not look good."
   ]
  },
  {
   "cell_type": "code",
   "execution_count": 18,
   "metadata": {},
   "outputs": [],
   "source": [
    "using Images # Package not called in BOMBS, this is just to display the generated PNGs"
   ]
  },
  {
   "cell_type": "code",
   "execution_count": 19,
   "metadata": {},
   "outputs": [
    {
     "data": {
      "image/png": "[encoded data removed]",
      "text/plain": [
       "400×600 Array{RGB{N0f8},2} with eltype RGB{Normed{UInt8,8}}:\n",
       " RGB{N0f8}(1.0,1.0,1.0)  RGB{N0f8}(1.0,1.0,1.0)  …  RGB{N0f8}(1.0,1.0,1.0)\n",
       " RGB{N0f8}(1.0,1.0,1.0)  RGB{N0f8}(1.0,1.0,1.0)     RGB{N0f8}(1.0,1.0,1.0)\n",
       " RGB{N0f8}(1.0,1.0,1.0)  RGB{N0f8}(1.0,1.0,1.0)     RGB{N0f8}(1.0,1.0,1.0)\n",
       " RGB{N0f8}(1.0,1.0,1.0)  RGB{N0f8}(1.0,1.0,1.0)     RGB{N0f8}(1.0,1.0,1.0)\n",
       " RGB{N0f8}(1.0,1.0,1.0)  RGB{N0f8}(1.0,1.0,1.0)     RGB{N0f8}(1.0,1.0,1.0)\n",
       " RGB{N0f8}(1.0,1.0,1.0)  RGB{N0f8}(1.0,1.0,1.0)  …  RGB{N0f8}(1.0,1.0,1.0)\n",
       " RGB{N0f8}(1.0,1.0,1.0)  RGB{N0f8}(1.0,1.0,1.0)     RGB{N0f8}(1.0,1.0,1.0)\n",
       " RGB{N0f8}(1.0,1.0,1.0)  RGB{N0f8}(1.0,1.0,1.0)     RGB{N0f8}(1.0,1.0,1.0)\n",
       " RGB{N0f8}(1.0,1.0,1.0)  RGB{N0f8}(1.0,1.0,1.0)     RGB{N0f8}(1.0,1.0,1.0)\n",
       " RGB{N0f8}(1.0,1.0,1.0)  RGB{N0f8}(1.0,1.0,1.0)     RGB{N0f8}(1.0,1.0,1.0)\n",
       " RGB{N0f8}(1.0,1.0,1.0)  RGB{N0f8}(1.0,1.0,1.0)  …  RGB{N0f8}(1.0,1.0,1.0)\n",
       " RGB{N0f8}(1.0,1.0,1.0)  RGB{N0f8}(1.0,1.0,1.0)     RGB{N0f8}(1.0,1.0,1.0)\n",
       " RGB{N0f8}(1.0,1.0,1.0)  RGB{N0f8}(1.0,1.0,1.0)     RGB{N0f8}(1.0,1.0,1.0)\n",
       " ⋮                                               ⋱  \n",
       " RGB{N0f8}(1.0,1.0,1.0)  RGB{N0f8}(1.0,1.0,1.0)     RGB{N0f8}(1.0,1.0,1.0)\n",
       " RGB{N0f8}(1.0,1.0,1.0)  RGB{N0f8}(1.0,1.0,1.0)     RGB{N0f8}(1.0,1.0,1.0)\n",
       " RGB{N0f8}(1.0,1.0,1.0)  RGB{N0f8}(1.0,1.0,1.0)  …  RGB{N0f8}(1.0,1.0,1.0)\n",
       " RGB{N0f8}(1.0,1.0,1.0)  RGB{N0f8}(1.0,1.0,1.0)     RGB{N0f8}(1.0,1.0,1.0)\n",
       " RGB{N0f8}(1.0,1.0,1.0)  RGB{N0f8}(1.0,1.0,1.0)     RGB{N0f8}(1.0,1.0,1.0)\n",
       " RGB{N0f8}(1.0,1.0,1.0)  RGB{N0f8}(1.0,1.0,1.0)     RGB{N0f8}(1.0,1.0,1.0)\n",
       " RGB{N0f8}(1.0,1.0,1.0)  RGB{N0f8}(1.0,1.0,1.0)     RGB{N0f8}(1.0,1.0,1.0)\n",
       " RGB{N0f8}(1.0,1.0,1.0)  RGB{N0f8}(1.0,1.0,1.0)  …  RGB{N0f8}(1.0,1.0,1.0)\n",
       " RGB{N0f8}(1.0,1.0,1.0)  RGB{N0f8}(1.0,1.0,1.0)     RGB{N0f8}(1.0,1.0,1.0)\n",
       " RGB{N0f8}(1.0,1.0,1.0)  RGB{N0f8}(1.0,1.0,1.0)     RGB{N0f8}(1.0,1.0,1.0)\n",
       " RGB{N0f8}(1.0,1.0,1.0)  RGB{N0f8}(1.0,1.0,1.0)     RGB{N0f8}(1.0,1.0,1.0)\n",
       " RGB{N0f8}(1.0,1.0,1.0)  RGB{N0f8}(1.0,1.0,1.0)     RGB{N0f8}(1.0,1.0,1.0)"
      ]
     },
     "execution_count": 19,
     "metadata": {},
     "output_type": "execute_result"
    }
   ],
   "source": [
    "# Note that none of the curves are at convergence due to the low time allowed for the optimisation. \n",
    "CC1 = load(string(oedmc_def[\"savepath\"], \"\\\\Plot_OEDMCConvergence_\",oedmc_def[\"flag\"],\".png\"))"
   ]
  },
  {
   "cell_type": "markdown",
   "metadata": {},
   "source": [
    "And now the experiment simulations"
   ]
  },
  {
   "cell_type": "code",
   "execution_count": 20,
   "metadata": {},
   "outputs": [
    {
     "data": {
      "image/png": "[encoded data removed]",
      "text/plain": [
       "1200×2000 Array{RGB{N0f8},2} with eltype RGB{Normed{UInt8,8}}:\n",
       " RGB{N0f8}(1.0,1.0,1.0)  RGB{N0f8}(1.0,1.0,1.0)  …  RGB{N0f8}(1.0,1.0,1.0)\n",
       " RGB{N0f8}(1.0,1.0,1.0)  RGB{N0f8}(1.0,1.0,1.0)     RGB{N0f8}(1.0,1.0,1.0)\n",
       " RGB{N0f8}(1.0,1.0,1.0)  RGB{N0f8}(1.0,1.0,1.0)     RGB{N0f8}(1.0,1.0,1.0)\n",
       " RGB{N0f8}(1.0,1.0,1.0)  RGB{N0f8}(1.0,1.0,1.0)     RGB{N0f8}(1.0,1.0,1.0)\n",
       " RGB{N0f8}(1.0,1.0,1.0)  RGB{N0f8}(1.0,1.0,1.0)     RGB{N0f8}(1.0,1.0,1.0)\n",
       " RGB{N0f8}(1.0,1.0,1.0)  RGB{N0f8}(1.0,1.0,1.0)  …  RGB{N0f8}(1.0,1.0,1.0)\n",
       " RGB{N0f8}(1.0,1.0,1.0)  RGB{N0f8}(1.0,1.0,1.0)     RGB{N0f8}(1.0,1.0,1.0)\n",
       " RGB{N0f8}(1.0,1.0,1.0)  RGB{N0f8}(1.0,1.0,1.0)     RGB{N0f8}(1.0,1.0,1.0)\n",
       " RGB{N0f8}(1.0,1.0,1.0)  RGB{N0f8}(1.0,1.0,1.0)     RGB{N0f8}(1.0,1.0,1.0)\n",
       " RGB{N0f8}(1.0,1.0,1.0)  RGB{N0f8}(1.0,1.0,1.0)     RGB{N0f8}(1.0,1.0,1.0)\n",
       " RGB{N0f8}(1.0,1.0,1.0)  RGB{N0f8}(1.0,1.0,1.0)  …  RGB{N0f8}(1.0,1.0,1.0)\n",
       " RGB{N0f8}(1.0,1.0,1.0)  RGB{N0f8}(1.0,1.0,1.0)     RGB{N0f8}(1.0,1.0,1.0)\n",
       " RGB{N0f8}(1.0,1.0,1.0)  RGB{N0f8}(1.0,1.0,1.0)     RGB{N0f8}(1.0,1.0,1.0)\n",
       " ⋮                                               ⋱  \n",
       " RGB{N0f8}(1.0,1.0,1.0)  RGB{N0f8}(1.0,1.0,1.0)     RGB{N0f8}(1.0,1.0,1.0)\n",
       " RGB{N0f8}(1.0,1.0,1.0)  RGB{N0f8}(1.0,1.0,1.0)     RGB{N0f8}(1.0,1.0,1.0)\n",
       " RGB{N0f8}(1.0,1.0,1.0)  RGB{N0f8}(1.0,1.0,1.0)  …  RGB{N0f8}(1.0,1.0,1.0)\n",
       " RGB{N0f8}(1.0,1.0,1.0)  RGB{N0f8}(1.0,1.0,1.0)     RGB{N0f8}(1.0,1.0,1.0)\n",
       " RGB{N0f8}(1.0,1.0,1.0)  RGB{N0f8}(1.0,1.0,1.0)     RGB{N0f8}(1.0,1.0,1.0)\n",
       " RGB{N0f8}(1.0,1.0,1.0)  RGB{N0f8}(1.0,1.0,1.0)     RGB{N0f8}(1.0,1.0,1.0)\n",
       " RGB{N0f8}(1.0,1.0,1.0)  RGB{N0f8}(1.0,1.0,1.0)     RGB{N0f8}(1.0,1.0,1.0)\n",
       " RGB{N0f8}(1.0,1.0,1.0)  RGB{N0f8}(1.0,1.0,1.0)  …  RGB{N0f8}(1.0,1.0,1.0)\n",
       " RGB{N0f8}(1.0,1.0,1.0)  RGB{N0f8}(1.0,1.0,1.0)     RGB{N0f8}(1.0,1.0,1.0)\n",
       " RGB{N0f8}(1.0,1.0,1.0)  RGB{N0f8}(1.0,1.0,1.0)     RGB{N0f8}(1.0,1.0,1.0)\n",
       " RGB{N0f8}(1.0,1.0,1.0)  RGB{N0f8}(1.0,1.0,1.0)     RGB{N0f8}(1.0,1.0,1.0)\n",
       " RGB{N0f8}(1.0,1.0,1.0)  RGB{N0f8}(1.0,1.0,1.0)     RGB{N0f8}(1.0,1.0,1.0)"
      ]
     },
     "execution_count": 20,
     "metadata": {},
     "output_type": "execute_result"
    }
   ],
   "source": [
    "expMC = load(string(oedmc_def[\"savepath\"], \"\\\\PlotOEDMCResults_Exp1_\",oedmc_def[\"flag\"],\".png\"))"
   ]
  },
  {
   "cell_type": "markdown",
   "metadata": {},
   "source": [
    "# OED Model Calibration Example 2\n",
    "This is a basic example showing how to use the basic elements of the section. <br>\n",
    "<br>\n",
    "The experiment to be optimised (find the maximum uncertainty in the simulations) is a pulse experiment where IPTG for the first step is fixed to 0. <br>\n",
    "<br>\n",
    "Since this section is purely based on model uncertainty in simulations, differently from the model selection section, a single theta sample cannot be given since the strategy will not work. <br>\n",
    "<br>\n",
    "In the utility function, to compute the simulation uncertainty you can use entropy or percentiles. In this first example we will use entropy. "
   ]
  },
  {
   "cell_type": "code",
   "execution_count": 21,
   "metadata": {},
   "outputs": [
    {
     "data": {
      "text/plain": [
       "Dict{Any,Any} with 17 entries:\n",
       "  \"maxiter\"   => Any[]\n",
       "  \"y0\"        => Any[]\n",
       "  \"fixedStep\" => Any[]\n",
       "  \"fixedInp\"  => Any[]\n",
       "  \"Obs\"       => Any[]\n",
       "  \"uUpper\"    => Any[]\n",
       "  \"switchT\"   => Any[]\n",
       "  \"Model\"     => Any[]\n",
       "  \"preInd\"    => Any[]\n",
       "  \"finalTime\" => Any[]\n",
       "  \"uLower\"    => Any[]\n",
       "  \"equalStep\" => Any[]\n",
       "  \"tsamps\"    => Any[]\n",
       "  \"Theta\"     => Any[]\n",
       "  \"flag\"      => Any[]\n",
       "  \"plot\"      => Any[]\n",
       "  \"util\"      => Any[]"
      ]
     },
     "execution_count": 21,
     "metadata": {},
     "output_type": "execute_result"
    }
   ],
   "source": [
    "oedmc_def2 = defODEModelCalibrStruct()"
   ]
  },
  {
   "cell_type": "code",
   "execution_count": 22,
   "metadata": {},
   "outputs": [],
   "source": [
    "oedmc_def2[\"Model\"] = [model_def]; \n",
    "oedmc_def2[\"Obs\"] = [\"3*Cit_AU\"];\n",
    "oedmc_def2[\"Theta\"] = [\"TestThetaPLac.csv\"]; \n",
    "\n",
    "oedmc_def2[\"y0\"] = [10,10,10,10]; \n",
    "oedmc_def2[\"preInd\"] = [0]; \n",
    "oedmc_def2[\"finalTime\"] = [1439]; \n",
    "oedmc_def2[\"switchT\"] = [[0, 250, 500, 750, 1000, 1200, 1439]]; \n",
    "oedmc_def2[\"tsamps\"] = [collect(0:5:1439)]; \n",
    "oedmc_def2[\"fixedInp\"] = []; \n",
    "oedmc_def2[\"fixedStep\"] = [(1,[0])]; # If you had more inducers, you coud set some of them as Any to optimise them while you fix the others\n",
    "oedmc_def2[\"equalStep\"] = [[2,4,6],[3,5]];\n",
    "\n",
    "oedmc_def2[\"plot\"] = [true]; \n",
    "oedmc_def2[\"flag\"] = [\"testOEDMS2\"]; \n",
    "\n",
    "oedmc_def2[\"uUpper\"] = [100];\n",
    "oedmc_def2[\"uLower\"] = [0]; \n",
    "oedmc_def2[\"maxiter\"] = [150];\n",
    "\n",
    "oedmc_def2[\"util\"] = [\"entropy\"];"
   ]
  },
  {
   "cell_type": "markdown",
   "metadata": {},
   "source": [
    "This is the function that the section uses to generate the model script and the utility function script. "
   ]
  },
  {
   "cell_type": "code",
   "execution_count": 23,
   "metadata": {},
   "outputs": [
    {
     "name": "stdout",
     "output_type": "stream",
     "text": [
      "-------------------------- WARNING --------------------------\n",
      "Less than 50 samples for theta are given for the Model. \n",
      "Consider using more samples for better results. \n",
      "-------------------------------------------------------------\n",
      "\n",
      "----------------------------------------- MODEL GENERATION -----------------------------------------\n",
      "The model has been generated in the directory: \n",
      "                 E:\\UNI\\D_Drive\\PhD\\JULIAlang\\Generalisation_PLacExample\\Examples\\ModelsFunctions\\PLacExample_Model.jl\n",
      "--------------------------------------------------------------------------------------\n",
      "\n",
      "\n",
      "----------------------------------------- SCRIPTS OED Model Calibration -----------------------------------------\n",
      "Utility function script to perform OED for Model Calibration has been generated in the directory: \n",
      "E:\\UNI\\D_Drive\\PhD\\JULIAlang\\Generalisation_PLacExample\\Examples\\Results\\PLacExample_2021-01-22\\OEDModelCalibrationScripts\\PLacExample_OEDMC.jl\n",
      "--------------------------------------------------------------------------------------\n",
      "\n",
      "\n",
      "---------------------------------------------- OPTIMISATION INFO ----------------------------------------------\n",
      "\n",
      "If you wish to modify any of the settings for the Bayesian Optimisation used (from the package \n",
      "BayesianOptimization.jl) please search the function settingsBayesOptMC located in the file ModelOEDCalibration.jl \n",
      "that is located in the directory: \n",
      "        C:\\Users\\david\\AppData\\Local\\JuliaPro-1.4.0-1\\Julia-1.4.0\\share\\julia\\stdlib\\v1.4\\BOMBS.jl\\src\n",
      "and change any desired setting (under your own risk). \n",
      "If any irreversible change is made by mistake, just look for the file settingsBayesOptMCBackUp.jl and copy the\n",
      "contents of the function inside (which are the same as the original except for the function name ;) )\n",
      "\n",
      "---------------------------------------------------------------------------------------------------------------\n",
      "\n"
     ]
    }
   ],
   "source": [
    "oedmc_def2 =  genOptimMCFuncts(oedmc_def2);"
   ]
  },
  {
   "cell_type": "markdown",
   "metadata": {},
   "source": [
    "Here, have a look at how the utility function looks like (to double-check that everything is ok with it)."
   ]
  },
  {
   "cell_type": "code",
   "execution_count": 24,
   "metadata": {},
   "outputs": [
    {
     "name": "stdout",
     "output_type": "stream",
     "text": [
      "\n",
      "        \n",
      "\n",
      "    function PLacExampleUtility(ins)\n",
      "\n",
      "        # Definition of the inputs for the ODEs\n",
      "        if length(ins) == 1\n",
      "            IPTG2,IPTG3 = ins[1];\n",
      "        else\n",
      "            IPTG2,IPTG3 = ins;\n",
      "        end\n",
      "        inputsMC = [0,IPTG2,IPTG3,IPTG2,IPTG3,IPTG2];\n",
      "\n",
      "        # Solve ODEs\n",
      "        solMC = PLacExample_SolveAll(tsMC, pD1MC, spMC, inputsMC, ivss1MC, sampsMC, pre1MC);\n",
      "\n",
      "        # Extracte wanted vectors (observables) with time reduction\n",
      "        Obs1_MC = 3 .*solMC[:,4,:]; \n",
      "\n",
      "\n",
      "    \n",
      "        EntObs1_MC = zeros(size(solMC)[1]); \n",
      "\n",
      "\n",
      "        dists = [Beta, Exponential, LogNormal, Normal, Gamma, Laplace, Pareto, Rayleigh, Cauchy, Uniform];\n",
      "        dists2 = [Exponential, LogNormal, Normal, Gamma, Laplace, Pareto, Rayleigh, Cauchy, Uniform];\n",
      "\n",
      "        names = [\"timePoint\"];\n",
      "\n",
      "        for j in 1:size(solMC)[1]\n",
      "            fitts1 = Dict(); \n",
      "        bestfit1 = Dict(); \n",
      "        bestfitInd1 = zeros(1,1); \n",
      "\n",
      "    \n",
      "            try\n",
      "                fitts1[names[1]] = fit.(dists, Ref(Obs1_MC[j,:]));\n",
      "                bestfitInd1[1] = findmax(loglikelihood.(fitts1[names[1]], Ref(Obs1_MC[j,:])))[2];\n",
      "                bestfit1[names[1]] = fitts1[names[1]][findmax(loglikelihood.(fitts1[names[1]], Ref(Obs1_MC[j,:])))[2]];\n",
      "            catch\n",
      "                fitts1[names[1]] = fit.(dists2, Ref(Obs1_MC[j,:]));\n",
      "                bestfitInd1[1] = findmax(loglikelihood.(fitts1[names[1]], Ref(Obs1_MC[j,:])))[2]+1;\n",
      "                bestfit1[names[1]] = fitts1[names[1]][findmax(loglikelihood.(fitts1[names[1]], Ref(Obs1_MC[j,:])))[2]];\n",
      "            end\n",
      "\n",
      "            EntObs1_MC[j] = entropy(bestfit1[names[1]]); \n",
      "\n",
      "        end\n",
      "\n",
      "        HES = zeros(1,1);\n",
      "        HES[1,1] = sum(EntObs1_MC); \n",
      "\n",
      "        util = sum(HES)\n",
      "    \n",
      "\n",
      "        return(util)\n",
      "    end\n",
      "\n",
      "        "
     ]
    }
   ],
   "source": [
    "stream = open(raw\"E:\\UNI\\D_Drive\\PhD\\JULIAlang\\Generalisation_PLacExample\\Examples\\Results\\PLacExample_2021-01-12\\OEDModelCalibrationScripts\\PLacExample_OEDMC.jl\",\"r\");\n",
    "Model = read(stream,String);\n",
    "close(stream);\n",
    "print(Model)"
   ]
  },
  {
   "cell_type": "markdown",
   "metadata": {},
   "source": [
    "And now, to run the optimisation is as simple as: "
   ]
  },
  {
   "cell_type": "code",
   "execution_count": 25,
   "metadata": {},
   "outputs": [
    {
     "name": "stdout",
     "output_type": "stream",
     "text": [
      "-------------------------- WARNING --------------------------\n",
      "Less than 50 samples for theta are given for the Model. \n",
      "Consider using more samples for better results. \n",
      "-------------------------------------------------------------\n"
     ]
    },
    {
     "name": "stderr",
     "output_type": "stream",
     "text": [
      "┌ Info: 2021-01-22T14:48:51.983\titeration: 10\tcurrent optimum: 2566.6240827378306\n",
      "└ @ BayesianOptimization C:\\Users\\david\\.juliapro\\JuliaPro_v1.4.0-1\\packages\\BayesianOptimization\\poykT\\src\\BayesianOptimization.jl:140\n",
      "┌ Info: 2021-01-22T14:48:52.008\titeration: 11\tcurrent optimum: 2566.6240827378306\n",
      "└ @ BayesianOptimization C:\\Users\\david\\.juliapro\\JuliaPro_v1.4.0-1\\packages\\BayesianOptimization\\poykT\\src\\BayesianOptimization.jl:140\n",
      "┌ Info: 2021-01-22T14:48:52.02\titeration: 12\tcurrent optimum: 2566.6240827378306\n",
      "└ @ BayesianOptimization C:\\Users\\david\\.juliapro\\JuliaPro_v1.4.0-1\\packages\\BayesianOptimization\\poykT\\src\\BayesianOptimization.jl:140\n",
      "┌ Info: 2021-01-22T14:48:52.034\titeration: 13\tcurrent optimum: 2566.6240827378306\n",
      "└ @ BayesianOptimization C:\\Users\\david\\.juliapro\\JuliaPro_v1.4.0-1\\packages\\BayesianOptimization\\poykT\\src\\BayesianOptimization.jl:140\n",
      "┌ Info: 2021-01-22T14:48:52.048\titeration: 14\tcurrent optimum: 2566.6240827378306\n",
      "└ @ BayesianOptimization C:\\Users\\david\\.juliapro\\JuliaPro_v1.4.0-1\\packages\\BayesianOptimization\\poykT\\src\\BayesianOptimization.jl:140\n",
      "┌ Info: 2021-01-22T14:48:52.062\titeration: 15\tcurrent optimum: 2566.6240827378306\n",
      "└ @ BayesianOptimization C:\\Users\\david\\.juliapro\\JuliaPro_v1.4.0-1\\packages\\BayesianOptimization\\poykT\\src\\BayesianOptimization.jl:140\n",
      "┌ Info: 2021-01-22T14:48:52.076\titeration: 16\tcurrent optimum: 2566.6240827378306\n",
      "└ @ BayesianOptimization C:\\Users\\david\\.juliapro\\JuliaPro_v1.4.0-1\\packages\\BayesianOptimization\\poykT\\src\\BayesianOptimization.jl:140\n",
      "┌ Info: 2021-01-22T14:48:52.09\titeration: 17\tcurrent optimum: 2566.6240827378306\n",
      "└ @ BayesianOptimization C:\\Users\\david\\.juliapro\\JuliaPro_v1.4.0-1\\packages\\BayesianOptimization\\poykT\\src\\BayesianOptimization.jl:140\n",
      "┌ Info: 2021-01-22T14:48:52.116\titeration: 18\tcurrent optimum: 2566.6240827378306\n",
      "└ @ BayesianOptimization C:\\Users\\david\\.juliapro\\JuliaPro_v1.4.0-1\\packages\\BayesianOptimization\\poykT\\src\\BayesianOptimization.jl:140\n",
      "┌ Info: 2021-01-22T14:48:52.13\titeration: 19\tcurrent optimum: 2566.6240827378306\n",
      "└ @ BayesianOptimization C:\\Users\\david\\.juliapro\\JuliaPro_v1.4.0-1\\packages\\BayesianOptimization\\poykT\\src\\BayesianOptimization.jl:140\n",
      "┌ Info: 2021-01-22T14:48:52.144\titeration: 20\tcurrent optimum: 2566.6240827378306\n",
      "└ @ BayesianOptimization C:\\Users\\david\\.juliapro\\JuliaPro_v1.4.0-1\\packages\\BayesianOptimization\\poykT\\src\\BayesianOptimization.jl:140\n",
      "┌ Info: 2021-01-22T14:48:52.178\titeration: 21\tcurrent optimum: 2566.6240827378306\n",
      "└ @ BayesianOptimization C:\\Users\\david\\.juliapro\\JuliaPro_v1.4.0-1\\packages\\BayesianOptimization\\poykT\\src\\BayesianOptimization.jl:140\n",
      "┌ Info: 2021-01-22T14:48:52.191\titeration: 22\tcurrent optimum: 2566.6240827378306\n",
      "└ @ BayesianOptimization C:\\Users\\david\\.juliapro\\JuliaPro_v1.4.0-1\\packages\\BayesianOptimization\\poykT\\src\\BayesianOptimization.jl:140\n",
      "┌ Info: 2021-01-22T14:48:52.205\titeration: 23\tcurrent optimum: 2566.6240827378306\n",
      "└ @ BayesianOptimization C:\\Users\\david\\.juliapro\\JuliaPro_v1.4.0-1\\packages\\BayesianOptimization\\poykT\\src\\BayesianOptimization.jl:140\n",
      "┌ Info: 2021-01-22T14:48:52.22\titeration: 24\tcurrent optimum: 2566.6240827378306\n",
      "└ @ BayesianOptimization C:\\Users\\david\\.juliapro\\JuliaPro_v1.4.0-1\\packages\\BayesianOptimization\\poykT\\src\\BayesianOptimization.jl:140\n",
      "┌ Info: 2021-01-22T14:48:52.234\titeration: 25\tcurrent optimum: 2566.6240827378306\n",
      "└ @ BayesianOptimization C:\\Users\\david\\.juliapro\\JuliaPro_v1.4.0-1\\packages\\BayesianOptimization\\poykT\\src\\BayesianOptimization.jl:140\n",
      "┌ Info: 2021-01-22T14:48:52.248\titeration: 26\tcurrent optimum: 2566.6240827378306\n",
      "└ @ BayesianOptimization C:\\Users\\david\\.juliapro\\JuliaPro_v1.4.0-1\\packages\\BayesianOptimization\\poykT\\src\\BayesianOptimization.jl:140\n",
      "┌ Info: 2021-01-22T14:48:52.262\titeration: 27\tcurrent optimum: 2566.6240827378306\n",
      "└ @ BayesianOptimization C:\\Users\\david\\.juliapro\\JuliaPro_v1.4.0-1\\packages\\BayesianOptimization\\poykT\\src\\BayesianOptimization.jl:140\n",
      "┌ Info: 2021-01-22T14:48:52.276\titeration: 28\tcurrent optimum: 2566.6240827378306\n",
      "└ @ BayesianOptimization C:\\Users\\david\\.juliapro\\JuliaPro_v1.4.0-1\\packages\\BayesianOptimization\\poykT\\src\\BayesianOptimization.jl:140\n",
      "┌ Info: 2021-01-22T14:48:52.291\titeration: 29\tcurrent optimum: 2566.6240827378306\n",
      "└ @ BayesianOptimization C:\\Users\\david\\.juliapro\\JuliaPro_v1.4.0-1\\packages\\BayesianOptimization\\poykT\\src\\BayesianOptimization.jl:140\n",
      "┌ Info: 2021-01-22T14:48:52.306\titeration: 30\tcurrent optimum: 2566.6240827378306\n",
      "└ @ BayesianOptimization C:\\Users\\david\\.juliapro\\JuliaPro_v1.4.0-1\\packages\\BayesianOptimization\\poykT\\src\\BayesianOptimization.jl:140\n",
      "┌ Info: 2021-01-22T14:48:52.32\titeration: 31\tcurrent optimum: 2566.6240827378306\n",
      "└ @ BayesianOptimization C:\\Users\\david\\.juliapro\\JuliaPro_v1.4.0-1\\packages\\BayesianOptimization\\poykT\\src\\BayesianOptimization.jl:140\n",
      "┌ Info: 2021-01-22T14:48:52.334\titeration: 32\tcurrent optimum: 2566.6240827378306\n",
      "└ @ BayesianOptimization C:\\Users\\david\\.juliapro\\JuliaPro_v1.4.0-1\\packages\\BayesianOptimization\\poykT\\src\\BayesianOptimization.jl:140\n",
      "┌ Info: 2021-01-22T14:48:52.349\titeration: 33\tcurrent optimum: 2566.6240827378306\n",
      "└ @ BayesianOptimization C:\\Users\\david\\.juliapro\\JuliaPro_v1.4.0-1\\packages\\BayesianOptimization\\poykT\\src\\BayesianOptimization.jl:140\n",
      "┌ Info: 2021-01-22T14:48:52.364\titeration: 34\tcurrent optimum: 2566.6240827378306\n",
      "└ @ BayesianOptimization C:\\Users\\david\\.juliapro\\JuliaPro_v1.4.0-1\\packages\\BayesianOptimization\\poykT\\src\\BayesianOptimization.jl:140\n",
      "┌ Info: 2021-01-22T14:48:52.378\titeration: 35\tcurrent optimum: 2566.6240827378306\n",
      "└ @ BayesianOptimization C:\\Users\\david\\.juliapro\\JuliaPro_v1.4.0-1\\packages\\BayesianOptimization\\poykT\\src\\BayesianOptimization.jl:140\n",
      "┌ Info: 2021-01-22T14:48:52.402\titeration: 36\tcurrent optimum: 2566.6240827378306\n",
      "└ @ BayesianOptimization C:\\Users\\david\\.juliapro\\JuliaPro_v1.4.0-1\\packages\\BayesianOptimization\\poykT\\src\\BayesianOptimization.jl:140\n",
      "┌ Info: 2021-01-22T14:48:52.419\titeration: 37\tcurrent optimum: 2566.6240827378306\n",
      "└ @ BayesianOptimization C:\\Users\\david\\.juliapro\\JuliaPro_v1.4.0-1\\packages\\BayesianOptimization\\poykT\\src\\BayesianOptimization.jl:140\n",
      "┌ Info: 2021-01-22T14:48:52.433\titeration: 38\tcurrent optimum: 2566.6240827378306\n",
      "└ @ BayesianOptimization C:\\Users\\david\\.juliapro\\JuliaPro_v1.4.0-1\\packages\\BayesianOptimization\\poykT\\src\\BayesianOptimization.jl:140\n",
      "┌ Info: 2021-01-22T14:48:52.448\titeration: 39\tcurrent optimum: 2566.6240827378306\n",
      "└ @ BayesianOptimization C:\\Users\\david\\.juliapro\\JuliaPro_v1.4.0-1\\packages\\BayesianOptimization\\poykT\\src\\BayesianOptimization.jl:140\n",
      "┌ Info: 2021-01-22T14:48:52.463\titeration: 40\tcurrent optimum: 2566.6240827378306\n",
      "└ @ BayesianOptimization C:\\Users\\david\\.juliapro\\JuliaPro_v1.4.0-1\\packages\\BayesianOptimization\\poykT\\src\\BayesianOptimization.jl:140\n",
      "┌ Info: 2021-01-22T14:48:52.478\titeration: 41\tcurrent optimum: 2566.6240827378306\n",
      "└ @ BayesianOptimization C:\\Users\\david\\.juliapro\\JuliaPro_v1.4.0-1\\packages\\BayesianOptimization\\poykT\\src\\BayesianOptimization.jl:140\n",
      "┌ Info: 2021-01-22T14:48:52.502\titeration: 42\tcurrent optimum: 2566.6240827378306\n",
      "└ @ BayesianOptimization C:\\Users\\david\\.juliapro\\JuliaPro_v1.4.0-1\\packages\\BayesianOptimization\\poykT\\src\\BayesianOptimization.jl:140\n",
      "┌ Info: 2021-01-22T14:48:52.517\titeration: 43\tcurrent optimum: 2566.6240827378306\n",
      "└ @ BayesianOptimization C:\\Users\\david\\.juliapro\\JuliaPro_v1.4.0-1\\packages\\BayesianOptimization\\poykT\\src\\BayesianOptimization.jl:140\n",
      "┌ Info: 2021-01-22T14:48:52.534\titeration: 44\tcurrent optimum: 2566.6240827378306\n",
      "└ @ BayesianOptimization C:\\Users\\david\\.juliapro\\JuliaPro_v1.4.0-1\\packages\\BayesianOptimization\\poykT\\src\\BayesianOptimization.jl:140\n",
      "┌ Info: 2021-01-22T14:48:52.55\titeration: 45\tcurrent optimum: 2566.6240827378306\n",
      "└ @ BayesianOptimization C:\\Users\\david\\.juliapro\\JuliaPro_v1.4.0-1\\packages\\BayesianOptimization\\poykT\\src\\BayesianOptimization.jl:140\n",
      "┌ Info: 2021-01-22T14:48:52.565\titeration: 46\tcurrent optimum: 2566.6240827378306\n",
      "└ @ BayesianOptimization C:\\Users\\david\\.juliapro\\JuliaPro_v1.4.0-1\\packages\\BayesianOptimization\\poykT\\src\\BayesianOptimization.jl:140\n",
      "┌ Info: 2021-01-22T14:48:52.586\titeration: 47\tcurrent optimum: 2566.6240827378306\n",
      "└ @ BayesianOptimization C:\\Users\\david\\.juliapro\\JuliaPro_v1.4.0-1\\packages\\BayesianOptimization\\poykT\\src\\BayesianOptimization.jl:140\n"
     ]
    },
    {
     "name": "stderr",
     "output_type": "stream",
     "text": [
      "┌ Info: 2021-01-22T14:48:52.602\titeration: 48\tcurrent optimum: 2566.6240827378306\n",
      "└ @ BayesianOptimization C:\\Users\\david\\.juliapro\\JuliaPro_v1.4.0-1\\packages\\BayesianOptimization\\poykT\\src\\BayesianOptimization.jl:140\n",
      "┌ Info: 2021-01-22T14:48:52.668\titeration: 49\tcurrent optimum: 2566.6240827378306\n",
      "└ @ BayesianOptimization C:\\Users\\david\\.juliapro\\JuliaPro_v1.4.0-1\\packages\\BayesianOptimization\\poykT\\src\\BayesianOptimization.jl:140\n",
      "┌ Info: 2021-01-22T14:48:52.683\titeration: 50\tcurrent optimum: 2566.6240827378306\n",
      "└ @ BayesianOptimization C:\\Users\\david\\.juliapro\\JuliaPro_v1.4.0-1\\packages\\BayesianOptimization\\poykT\\src\\BayesianOptimization.jl:140\n",
      "┌ Info: 2021-01-22T14:48:52.698\titeration: 51\tcurrent optimum: 2566.6240827378306\n",
      "└ @ BayesianOptimization C:\\Users\\david\\.juliapro\\JuliaPro_v1.4.0-1\\packages\\BayesianOptimization\\poykT\\src\\BayesianOptimization.jl:140\n",
      "┌ Info: 2021-01-22T14:48:52.713\titeration: 52\tcurrent optimum: 2566.6240827378306\n",
      "└ @ BayesianOptimization C:\\Users\\david\\.juliapro\\JuliaPro_v1.4.0-1\\packages\\BayesianOptimization\\poykT\\src\\BayesianOptimization.jl:140\n",
      "┌ Info: 2021-01-22T14:48:52.727\titeration: 53\tcurrent optimum: 2566.6240827378306\n",
      "└ @ BayesianOptimization C:\\Users\\david\\.juliapro\\JuliaPro_v1.4.0-1\\packages\\BayesianOptimization\\poykT\\src\\BayesianOptimization.jl:140\n",
      "┌ Info: 2021-01-22T14:48:52.741\titeration: 54\tcurrent optimum: 2566.6240827378306\n",
      "└ @ BayesianOptimization C:\\Users\\david\\.juliapro\\JuliaPro_v1.4.0-1\\packages\\BayesianOptimization\\poykT\\src\\BayesianOptimization.jl:140\n",
      "┌ Info: 2021-01-22T14:48:52.754\titeration: 55\tcurrent optimum: 2566.6240827378306\n",
      "└ @ BayesianOptimization C:\\Users\\david\\.juliapro\\JuliaPro_v1.4.0-1\\packages\\BayesianOptimization\\poykT\\src\\BayesianOptimization.jl:140\n",
      "┌ Info: 2021-01-22T14:48:52.768\titeration: 56\tcurrent optimum: 2566.6240827378306\n",
      "└ @ BayesianOptimization C:\\Users\\david\\.juliapro\\JuliaPro_v1.4.0-1\\packages\\BayesianOptimization\\poykT\\src\\BayesianOptimization.jl:140\n",
      "┌ Info: 2021-01-22T14:48:52.786\titeration: 57\tcurrent optimum: 2566.6240827378306\n",
      "└ @ BayesianOptimization C:\\Users\\david\\.juliapro\\JuliaPro_v1.4.0-1\\packages\\BayesianOptimization\\poykT\\src\\BayesianOptimization.jl:140\n",
      "┌ Info: 2021-01-22T14:48:52.801\titeration: 58\tcurrent optimum: 2566.6240827378306\n",
      "└ @ BayesianOptimization C:\\Users\\david\\.juliapro\\JuliaPro_v1.4.0-1\\packages\\BayesianOptimization\\poykT\\src\\BayesianOptimization.jl:140\n",
      "┌ Info: 2021-01-22T14:48:52.816\titeration: 59\tcurrent optimum: 2566.6240827378306\n",
      "└ @ BayesianOptimization C:\\Users\\david\\.juliapro\\JuliaPro_v1.4.0-1\\packages\\BayesianOptimization\\poykT\\src\\BayesianOptimization.jl:140\n",
      "┌ Info: 2021-01-22T14:48:52.86\titeration: 60\tcurrent optimum: 2566.6240827378306\n",
      "└ @ BayesianOptimization C:\\Users\\david\\.juliapro\\JuliaPro_v1.4.0-1\\packages\\BayesianOptimization\\poykT\\src\\BayesianOptimization.jl:140\n",
      "┌ Info: 2021-01-22T14:48:52.877\titeration: 61\tcurrent optimum: 2566.6240827378306\n",
      "└ @ BayesianOptimization C:\\Users\\david\\.juliapro\\JuliaPro_v1.4.0-1\\packages\\BayesianOptimization\\poykT\\src\\BayesianOptimization.jl:140\n",
      "┌ Info: 2021-01-22T14:48:52.894\titeration: 62\tcurrent optimum: 2566.6240827378306\n",
      "└ @ BayesianOptimization C:\\Users\\david\\.juliapro\\JuliaPro_v1.4.0-1\\packages\\BayesianOptimization\\poykT\\src\\BayesianOptimization.jl:140\n",
      "┌ Info: 2021-01-22T14:48:52.913\titeration: 63\tcurrent optimum: 2566.6240827378306\n",
      "└ @ BayesianOptimization C:\\Users\\david\\.juliapro\\JuliaPro_v1.4.0-1\\packages\\BayesianOptimization\\poykT\\src\\BayesianOptimization.jl:140\n",
      "┌ Info: 2021-01-22T14:48:52.929\titeration: 64\tcurrent optimum: 2566.6240827378306\n",
      "└ @ BayesianOptimization C:\\Users\\david\\.juliapro\\JuliaPro_v1.4.0-1\\packages\\BayesianOptimization\\poykT\\src\\BayesianOptimization.jl:140\n",
      "┌ Info: 2021-01-22T14:48:52.944\titeration: 65\tcurrent optimum: 2566.6240827378306\n",
      "└ @ BayesianOptimization C:\\Users\\david\\.juliapro\\JuliaPro_v1.4.0-1\\packages\\BayesianOptimization\\poykT\\src\\BayesianOptimization.jl:140\n",
      "┌ Info: 2021-01-22T14:48:52.96\titeration: 66\tcurrent optimum: 2566.6240827378306\n",
      "└ @ BayesianOptimization C:\\Users\\david\\.juliapro\\JuliaPro_v1.4.0-1\\packages\\BayesianOptimization\\poykT\\src\\BayesianOptimization.jl:140\n",
      "┌ Info: 2021-01-22T14:48:52.98\titeration: 67\tcurrent optimum: 2566.6240827378306\n",
      "└ @ BayesianOptimization C:\\Users\\david\\.juliapro\\JuliaPro_v1.4.0-1\\packages\\BayesianOptimization\\poykT\\src\\BayesianOptimization.jl:140\n",
      "┌ Info: 2021-01-22T14:48:52.997\titeration: 68\tcurrent optimum: 2566.6240827378306\n",
      "└ @ BayesianOptimization C:\\Users\\david\\.juliapro\\JuliaPro_v1.4.0-1\\packages\\BayesianOptimization\\poykT\\src\\BayesianOptimization.jl:140\n",
      "┌ Info: 2021-01-22T14:48:53.014\titeration: 69\tcurrent optimum: 2566.6240827378306\n",
      "└ @ BayesianOptimization C:\\Users\\david\\.juliapro\\JuliaPro_v1.4.0-1\\packages\\BayesianOptimization\\poykT\\src\\BayesianOptimization.jl:140\n",
      "┌ Info: 2021-01-22T14:48:53.032\titeration: 70\tcurrent optimum: 2566.6240827378306\n",
      "└ @ BayesianOptimization C:\\Users\\david\\.juliapro\\JuliaPro_v1.4.0-1\\packages\\BayesianOptimization\\poykT\\src\\BayesianOptimization.jl:140\n",
      "┌ Info: 2021-01-22T14:48:53.049\titeration: 71\tcurrent optimum: 2566.6240827378306\n",
      "└ @ BayesianOptimization C:\\Users\\david\\.juliapro\\JuliaPro_v1.4.0-1\\packages\\BayesianOptimization\\poykT\\src\\BayesianOptimization.jl:140\n",
      "┌ Info: 2021-01-22T14:48:53.067\titeration: 72\tcurrent optimum: 2566.6240827378306\n",
      "└ @ BayesianOptimization C:\\Users\\david\\.juliapro\\JuliaPro_v1.4.0-1\\packages\\BayesianOptimization\\poykT\\src\\BayesianOptimization.jl:140\n",
      "┌ Info: 2021-01-22T14:48:53.085\titeration: 73\tcurrent optimum: 2566.6240827378306\n",
      "└ @ BayesianOptimization C:\\Users\\david\\.juliapro\\JuliaPro_v1.4.0-1\\packages\\BayesianOptimization\\poykT\\src\\BayesianOptimization.jl:140\n",
      "┌ Info: 2021-01-22T14:48:53.101\titeration: 74\tcurrent optimum: 2566.6240827378306\n",
      "└ @ BayesianOptimization C:\\Users\\david\\.juliapro\\JuliaPro_v1.4.0-1\\packages\\BayesianOptimization\\poykT\\src\\BayesianOptimization.jl:140\n",
      "┌ Info: 2021-01-22T14:48:53.119\titeration: 75\tcurrent optimum: 2566.6240827378306\n",
      "└ @ BayesianOptimization C:\\Users\\david\\.juliapro\\JuliaPro_v1.4.0-1\\packages\\BayesianOptimization\\poykT\\src\\BayesianOptimization.jl:140\n",
      "┌ Info: 2021-01-22T14:48:53.139\titeration: 76\tcurrent optimum: 2566.6240827378306\n",
      "└ @ BayesianOptimization C:\\Users\\david\\.juliapro\\JuliaPro_v1.4.0-1\\packages\\BayesianOptimization\\poykT\\src\\BayesianOptimization.jl:140\n",
      "┌ Info: 2021-01-22T14:48:53.169\titeration: 77\tcurrent optimum: 2566.6240827378306\n",
      "└ @ BayesianOptimization C:\\Users\\david\\.juliapro\\JuliaPro_v1.4.0-1\\packages\\BayesianOptimization\\poykT\\src\\BayesianOptimization.jl:140\n",
      "┌ Info: 2021-01-22T14:48:53.191\titeration: 78\tcurrent optimum: 2566.6240827378306\n",
      "└ @ BayesianOptimization C:\\Users\\david\\.juliapro\\JuliaPro_v1.4.0-1\\packages\\BayesianOptimization\\poykT\\src\\BayesianOptimization.jl:140\n",
      "┌ Info: 2021-01-22T14:48:53.208\titeration: 79\tcurrent optimum: 2566.6240827378306\n",
      "└ @ BayesianOptimization C:\\Users\\david\\.juliapro\\JuliaPro_v1.4.0-1\\packages\\BayesianOptimization\\poykT\\src\\BayesianOptimization.jl:140\n",
      "┌ Info: 2021-01-22T14:48:53.227\titeration: 80\tcurrent optimum: 2566.6240827378306\n",
      "└ @ BayesianOptimization C:\\Users\\david\\.juliapro\\JuliaPro_v1.4.0-1\\packages\\BayesianOptimization\\poykT\\src\\BayesianOptimization.jl:140\n",
      "┌ Info: 2021-01-22T14:48:53.25\titeration: 81\tcurrent optimum: 2566.6240827378306\n",
      "└ @ BayesianOptimization C:\\Users\\david\\.juliapro\\JuliaPro_v1.4.0-1\\packages\\BayesianOptimization\\poykT\\src\\BayesianOptimization.jl:140\n",
      "┌ Info: 2021-01-22T14:48:53.272\titeration: 82\tcurrent optimum: 2566.6240827378306\n",
      "└ @ BayesianOptimization C:\\Users\\david\\.juliapro\\JuliaPro_v1.4.0-1\\packages\\BayesianOptimization\\poykT\\src\\BayesianOptimization.jl:140\n",
      "┌ Info: 2021-01-22T14:48:53.296\titeration: 83\tcurrent optimum: 2566.6240827378306\n",
      "└ @ BayesianOptimization C:\\Users\\david\\.juliapro\\JuliaPro_v1.4.0-1\\packages\\BayesianOptimization\\poykT\\src\\BayesianOptimization.jl:140\n",
      "┌ Info: 2021-01-22T14:48:53.314\titeration: 84\tcurrent optimum: 2566.6240827378306\n",
      "└ @ BayesianOptimization C:\\Users\\david\\.juliapro\\JuliaPro_v1.4.0-1\\packages\\BayesianOptimization\\poykT\\src\\BayesianOptimization.jl:140\n",
      "┌ Info: 2021-01-22T14:48:53.332\titeration: 85\tcurrent optimum: 2566.6240827378306\n",
      "└ @ BayesianOptimization C:\\Users\\david\\.juliapro\\JuliaPro_v1.4.0-1\\packages\\BayesianOptimization\\poykT\\src\\BayesianOptimization.jl:140\n",
      "┌ Info: 2021-01-22T14:48:53.353\titeration: 86\tcurrent optimum: 2566.6240827378306\n",
      "└ @ BayesianOptimization C:\\Users\\david\\.juliapro\\JuliaPro_v1.4.0-1\\packages\\BayesianOptimization\\poykT\\src\\BayesianOptimization.jl:140\n",
      "┌ Info: 2021-01-22T14:48:53.371\titeration: 87\tcurrent optimum: 2566.6240827378306\n",
      "└ @ BayesianOptimization C:\\Users\\david\\.juliapro\\JuliaPro_v1.4.0-1\\packages\\BayesianOptimization\\poykT\\src\\BayesianOptimization.jl:140\n",
      "┌ Info: 2021-01-22T14:48:53.387\titeration: 88\tcurrent optimum: 2566.6240827378306\n",
      "└ @ BayesianOptimization C:\\Users\\david\\.juliapro\\JuliaPro_v1.4.0-1\\packages\\BayesianOptimization\\poykT\\src\\BayesianOptimization.jl:140\n"
     ]
    },
    {
     "name": "stderr",
     "output_type": "stream",
     "text": [
      "┌ Info: 2021-01-22T14:48:53.409\titeration: 89\tcurrent optimum: 2566.6240827378306\n",
      "└ @ BayesianOptimization C:\\Users\\david\\.juliapro\\JuliaPro_v1.4.0-1\\packages\\BayesianOptimization\\poykT\\src\\BayesianOptimization.jl:140\n",
      "┌ Info: 2021-01-22T14:48:53.429\titeration: 90\tcurrent optimum: 2566.6240827378306\n",
      "└ @ BayesianOptimization C:\\Users\\david\\.juliapro\\JuliaPro_v1.4.0-1\\packages\\BayesianOptimization\\poykT\\src\\BayesianOptimization.jl:140\n",
      "┌ Info: 2021-01-22T14:48:53.452\titeration: 91\tcurrent optimum: 2566.6240827378306\n",
      "└ @ BayesianOptimization C:\\Users\\david\\.juliapro\\JuliaPro_v1.4.0-1\\packages\\BayesianOptimization\\poykT\\src\\BayesianOptimization.jl:140\n",
      "┌ Info: 2021-01-22T14:48:53.471\titeration: 92\tcurrent optimum: 2566.6240827378306\n",
      "└ @ BayesianOptimization C:\\Users\\david\\.juliapro\\JuliaPro_v1.4.0-1\\packages\\BayesianOptimization\\poykT\\src\\BayesianOptimization.jl:140\n",
      "┌ Info: 2021-01-22T14:48:53.488\titeration: 93\tcurrent optimum: 2566.6240827378306\n",
      "└ @ BayesianOptimization C:\\Users\\david\\.juliapro\\JuliaPro_v1.4.0-1\\packages\\BayesianOptimization\\poykT\\src\\BayesianOptimization.jl:140\n",
      "┌ Info: 2021-01-22T14:48:53.51\titeration: 94\tcurrent optimum: 2566.6240827378306\n",
      "└ @ BayesianOptimization C:\\Users\\david\\.juliapro\\JuliaPro_v1.4.0-1\\packages\\BayesianOptimization\\poykT\\src\\BayesianOptimization.jl:140\n",
      "┌ Info: 2021-01-22T14:48:53.53\titeration: 95\tcurrent optimum: 2566.6240827378306\n",
      "└ @ BayesianOptimization C:\\Users\\david\\.juliapro\\JuliaPro_v1.4.0-1\\packages\\BayesianOptimization\\poykT\\src\\BayesianOptimization.jl:140\n",
      "┌ Info: 2021-01-22T14:48:53.55\titeration: 96\tcurrent optimum: 2566.6240827378306\n",
      "└ @ BayesianOptimization C:\\Users\\david\\.juliapro\\JuliaPro_v1.4.0-1\\packages\\BayesianOptimization\\poykT\\src\\BayesianOptimization.jl:140\n",
      "┌ Info: 2021-01-22T14:48:53.571\titeration: 97\tcurrent optimum: 2566.6803869242167\n",
      "└ @ BayesianOptimization C:\\Users\\david\\.juliapro\\JuliaPro_v1.4.0-1\\packages\\BayesianOptimization\\poykT\\src\\BayesianOptimization.jl:140\n",
      "┌ Info: 2021-01-22T14:48:53.591\titeration: 98\tcurrent optimum: 2566.6803869242167\n",
      "└ @ BayesianOptimization C:\\Users\\david\\.juliapro\\JuliaPro_v1.4.0-1\\packages\\BayesianOptimization\\poykT\\src\\BayesianOptimization.jl:140\n",
      "┌ Info: 2021-01-22T14:48:53.608\titeration: 99\tcurrent optimum: 2566.6803869242167\n",
      "└ @ BayesianOptimization C:\\Users\\david\\.juliapro\\JuliaPro_v1.4.0-1\\packages\\BayesianOptimization\\poykT\\src\\BayesianOptimization.jl:140\n",
      "┌ Info: 2021-01-22T14:48:53.63\titeration: 100\tcurrent optimum: 2566.6803869242167\n",
      "└ @ BayesianOptimization C:\\Users\\david\\.juliapro\\JuliaPro_v1.4.0-1\\packages\\BayesianOptimization\\poykT\\src\\BayesianOptimization.jl:140\n",
      "┌ Info: 2021-01-22T14:48:53.652\titeration: 101\tcurrent optimum: 2566.6803869242167\n",
      "└ @ BayesianOptimization C:\\Users\\david\\.juliapro\\JuliaPro_v1.4.0-1\\packages\\BayesianOptimization\\poykT\\src\\BayesianOptimization.jl:140\n",
      "┌ Info: 2021-01-22T14:48:53.677\titeration: 102\tcurrent optimum: 2566.6803869242167\n",
      "└ @ BayesianOptimization C:\\Users\\david\\.juliapro\\JuliaPro_v1.4.0-1\\packages\\BayesianOptimization\\poykT\\src\\BayesianOptimization.jl:140\n",
      "┌ Info: 2021-01-22T14:48:53.706\titeration: 103\tcurrent optimum: 2566.6803869242167\n",
      "└ @ BayesianOptimization C:\\Users\\david\\.juliapro\\JuliaPro_v1.4.0-1\\packages\\BayesianOptimization\\poykT\\src\\BayesianOptimization.jl:140\n",
      "┌ Info: 2021-01-22T14:48:53.722\titeration: 104\tcurrent optimum: 2566.6803869242167\n",
      "└ @ BayesianOptimization C:\\Users\\david\\.juliapro\\JuliaPro_v1.4.0-1\\packages\\BayesianOptimization\\poykT\\src\\BayesianOptimization.jl:140\n",
      "┌ Info: 2021-01-22T14:48:53.747\titeration: 105\tcurrent optimum: 2566.6803869242167\n",
      "└ @ BayesianOptimization C:\\Users\\david\\.juliapro\\JuliaPro_v1.4.0-1\\packages\\BayesianOptimization\\poykT\\src\\BayesianOptimization.jl:140\n",
      "┌ Info: 2021-01-22T14:48:53.782\titeration: 106\tcurrent optimum: 2566.6803869242167\n",
      "└ @ BayesianOptimization C:\\Users\\david\\.juliapro\\JuliaPro_v1.4.0-1\\packages\\BayesianOptimization\\poykT\\src\\BayesianOptimization.jl:140\n",
      "┌ Info: 2021-01-22T14:48:53.805\titeration: 107\tcurrent optimum: 2566.6803869242167\n",
      "└ @ BayesianOptimization C:\\Users\\david\\.juliapro\\JuliaPro_v1.4.0-1\\packages\\BayesianOptimization\\poykT\\src\\BayesianOptimization.jl:140\n",
      "┌ Info: 2021-01-22T14:48:53.827\titeration: 108\tcurrent optimum: 2566.6803869242167\n",
      "└ @ BayesianOptimization C:\\Users\\david\\.juliapro\\JuliaPro_v1.4.0-1\\packages\\BayesianOptimization\\poykT\\src\\BayesianOptimization.jl:140\n",
      "┌ Info: 2021-01-22T14:48:53.912\titeration: 109\tcurrent optimum: 2566.6803869242167\n",
      "└ @ BayesianOptimization C:\\Users\\david\\.juliapro\\JuliaPro_v1.4.0-1\\packages\\BayesianOptimization\\poykT\\src\\BayesianOptimization.jl:140\n",
      "┌ Info: 2021-01-22T14:48:53.984\titeration: 110\tcurrent optimum: 2566.6803869242167\n",
      "└ @ BayesianOptimization C:\\Users\\david\\.juliapro\\JuliaPro_v1.4.0-1\\packages\\BayesianOptimization\\poykT\\src\\BayesianOptimization.jl:140\n",
      "┌ Info: 2021-01-22T14:48:53.999\titeration: 111\tcurrent optimum: 2566.6803869242167\n",
      "└ @ BayesianOptimization C:\\Users\\david\\.juliapro\\JuliaPro_v1.4.0-1\\packages\\BayesianOptimization\\poykT\\src\\BayesianOptimization.jl:140\n",
      "┌ Info: 2021-01-22T14:48:54.013\titeration: 112\tcurrent optimum: 2566.6803869242167\n",
      "└ @ BayesianOptimization C:\\Users\\david\\.juliapro\\JuliaPro_v1.4.0-1\\packages\\BayesianOptimization\\poykT\\src\\BayesianOptimization.jl:140\n",
      "┌ Info: 2021-01-22T14:48:54.03\titeration: 113\tcurrent optimum: 2566.6803869242167\n",
      "└ @ BayesianOptimization C:\\Users\\david\\.juliapro\\JuliaPro_v1.4.0-1\\packages\\BayesianOptimization\\poykT\\src\\BayesianOptimization.jl:140\n",
      "┌ Info: 2021-01-22T14:48:54.047\titeration: 114\tcurrent optimum: 2566.6803869242167\n",
      "└ @ BayesianOptimization C:\\Users\\david\\.juliapro\\JuliaPro_v1.4.0-1\\packages\\BayesianOptimization\\poykT\\src\\BayesianOptimization.jl:140\n",
      "┌ Info: 2021-01-22T14:48:54.062\titeration: 115\tcurrent optimum: 2566.6803869242167\n",
      "└ @ BayesianOptimization C:\\Users\\david\\.juliapro\\JuliaPro_v1.4.0-1\\packages\\BayesianOptimization\\poykT\\src\\BayesianOptimization.jl:140\n",
      "┌ Info: 2021-01-22T14:48:54.078\titeration: 116\tcurrent optimum: 2566.6803869242167\n",
      "└ @ BayesianOptimization C:\\Users\\david\\.juliapro\\JuliaPro_v1.4.0-1\\packages\\BayesianOptimization\\poykT\\src\\BayesianOptimization.jl:140\n",
      "┌ Info: 2021-01-22T14:48:54.094\titeration: 117\tcurrent optimum: 2566.6803869242167\n",
      "└ @ BayesianOptimization C:\\Users\\david\\.juliapro\\JuliaPro_v1.4.0-1\\packages\\BayesianOptimization\\poykT\\src\\BayesianOptimization.jl:140\n",
      "┌ Info: 2021-01-22T14:48:54.11\titeration: 118\tcurrent optimum: 2566.6803869242167\n",
      "└ @ BayesianOptimization C:\\Users\\david\\.juliapro\\JuliaPro_v1.4.0-1\\packages\\BayesianOptimization\\poykT\\src\\BayesianOptimization.jl:140\n",
      "┌ Info: 2021-01-22T14:48:54.126\titeration: 119\tcurrent optimum: 2566.6803869242167\n",
      "└ @ BayesianOptimization C:\\Users\\david\\.juliapro\\JuliaPro_v1.4.0-1\\packages\\BayesianOptimization\\poykT\\src\\BayesianOptimization.jl:140\n",
      "┌ Info: 2021-01-22T14:48:54.143\titeration: 120\tcurrent optimum: 2566.6803869242167\n",
      "└ @ BayesianOptimization C:\\Users\\david\\.juliapro\\JuliaPro_v1.4.0-1\\packages\\BayesianOptimization\\poykT\\src\\BayesianOptimization.jl:140\n",
      "┌ Info: 2021-01-22T14:48:54.159\titeration: 121\tcurrent optimum: 2566.6803869242167\n",
      "└ @ BayesianOptimization C:\\Users\\david\\.juliapro\\JuliaPro_v1.4.0-1\\packages\\BayesianOptimization\\poykT\\src\\BayesianOptimization.jl:140\n",
      "┌ Info: 2021-01-22T14:48:54.175\titeration: 122\tcurrent optimum: 2566.6803869242167\n",
      "└ @ BayesianOptimization C:\\Users\\david\\.juliapro\\JuliaPro_v1.4.0-1\\packages\\BayesianOptimization\\poykT\\src\\BayesianOptimization.jl:140\n",
      "┌ Info: 2021-01-22T14:48:54.19\titeration: 123\tcurrent optimum: 2566.6803869242167\n",
      "└ @ BayesianOptimization C:\\Users\\david\\.juliapro\\JuliaPro_v1.4.0-1\\packages\\BayesianOptimization\\poykT\\src\\BayesianOptimization.jl:140\n",
      "┌ Info: 2021-01-22T14:48:54.207\titeration: 124\tcurrent optimum: 2566.6803869242167\n",
      "└ @ BayesianOptimization C:\\Users\\david\\.juliapro\\JuliaPro_v1.4.0-1\\packages\\BayesianOptimization\\poykT\\src\\BayesianOptimization.jl:140\n",
      "┌ Info: 2021-01-22T14:48:54.222\titeration: 125\tcurrent optimum: 2566.6803869242167\n",
      "└ @ BayesianOptimization C:\\Users\\david\\.juliapro\\JuliaPro_v1.4.0-1\\packages\\BayesianOptimization\\poykT\\src\\BayesianOptimization.jl:140\n",
      "┌ Info: 2021-01-22T14:48:54.238\titeration: 126\tcurrent optimum: 2566.6803869242167\n",
      "└ @ BayesianOptimization C:\\Users\\david\\.juliapro\\JuliaPro_v1.4.0-1\\packages\\BayesianOptimization\\poykT\\src\\BayesianOptimization.jl:140\n",
      "┌ Info: 2021-01-22T14:48:54.252\titeration: 127\tcurrent optimum: 2566.6803869242167\n",
      "└ @ BayesianOptimization C:\\Users\\david\\.juliapro\\JuliaPro_v1.4.0-1\\packages\\BayesianOptimization\\poykT\\src\\BayesianOptimization.jl:140\n",
      "┌ Info: 2021-01-22T14:48:54.268\titeration: 128\tcurrent optimum: 2566.6803869242167\n",
      "└ @ BayesianOptimization C:\\Users\\david\\.juliapro\\JuliaPro_v1.4.0-1\\packages\\BayesianOptimization\\poykT\\src\\BayesianOptimization.jl:140\n",
      "┌ Info: 2021-01-22T14:48:54.284\titeration: 129\tcurrent optimum: 2566.6803869242167\n",
      "└ @ BayesianOptimization C:\\Users\\david\\.juliapro\\JuliaPro_v1.4.0-1\\packages\\BayesianOptimization\\poykT\\src\\BayesianOptimization.jl:140\n",
      "┌ Info: 2021-01-22T14:48:54.3\titeration: 130\tcurrent optimum: 2566.6803869242167\n",
      "└ @ BayesianOptimization C:\\Users\\david\\.juliapro\\JuliaPro_v1.4.0-1\\packages\\BayesianOptimization\\poykT\\src\\BayesianOptimization.jl:140\n",
      "┌ Info: 2021-01-22T14:48:54.316\titeration: 131\tcurrent optimum: 2566.6803869242167\n",
      "└ @ BayesianOptimization C:\\Users\\david\\.juliapro\\JuliaPro_v1.4.0-1\\packages\\BayesianOptimization\\poykT\\src\\BayesianOptimization.jl:140\n",
      "┌ Info: 2021-01-22T14:48:54.332\titeration: 132\tcurrent optimum: 2566.6803869242167\n",
      "└ @ BayesianOptimization C:\\Users\\david\\.juliapro\\JuliaPro_v1.4.0-1\\packages\\BayesianOptimization\\poykT\\src\\BayesianOptimization.jl:140\n"
     ]
    },
    {
     "name": "stderr",
     "output_type": "stream",
     "text": [
      "┌ Info: 2021-01-22T14:48:54.348\titeration: 133\tcurrent optimum: 2566.6803869242167\n",
      "└ @ BayesianOptimization C:\\Users\\david\\.juliapro\\JuliaPro_v1.4.0-1\\packages\\BayesianOptimization\\poykT\\src\\BayesianOptimization.jl:140\n",
      "┌ Info: 2021-01-22T14:48:54.364\titeration: 134\tcurrent optimum: 2566.6803869242167\n",
      "└ @ BayesianOptimization C:\\Users\\david\\.juliapro\\JuliaPro_v1.4.0-1\\packages\\BayesianOptimization\\poykT\\src\\BayesianOptimization.jl:140\n",
      "┌ Info: 2021-01-22T14:48:54.381\titeration: 135\tcurrent optimum: 2566.6803869242167\n",
      "└ @ BayesianOptimization C:\\Users\\david\\.juliapro\\JuliaPro_v1.4.0-1\\packages\\BayesianOptimization\\poykT\\src\\BayesianOptimization.jl:140\n",
      "┌ Info: 2021-01-22T14:48:54.396\titeration: 136\tcurrent optimum: 2566.6803869242167\n",
      "└ @ BayesianOptimization C:\\Users\\david\\.juliapro\\JuliaPro_v1.4.0-1\\packages\\BayesianOptimization\\poykT\\src\\BayesianOptimization.jl:140\n",
      "┌ Info: 2021-01-22T14:48:54.413\titeration: 137\tcurrent optimum: 2566.6803869242167\n",
      "└ @ BayesianOptimization C:\\Users\\david\\.juliapro\\JuliaPro_v1.4.0-1\\packages\\BayesianOptimization\\poykT\\src\\BayesianOptimization.jl:140\n",
      "┌ Info: 2021-01-22T14:48:54.43\titeration: 138\tcurrent optimum: 2566.6803869242167\n",
      "└ @ BayesianOptimization C:\\Users\\david\\.juliapro\\JuliaPro_v1.4.0-1\\packages\\BayesianOptimization\\poykT\\src\\BayesianOptimization.jl:140\n",
      "┌ Info: 2021-01-22T14:48:54.445\titeration: 139\tcurrent optimum: 2566.6803869242167\n",
      "└ @ BayesianOptimization C:\\Users\\david\\.juliapro\\JuliaPro_v1.4.0-1\\packages\\BayesianOptimization\\poykT\\src\\BayesianOptimization.jl:140\n",
      "┌ Info: 2021-01-22T14:48:54.461\titeration: 140\tcurrent optimum: 2566.6803869242167\n",
      "└ @ BayesianOptimization C:\\Users\\david\\.juliapro\\JuliaPro_v1.4.0-1\\packages\\BayesianOptimization\\poykT\\src\\BayesianOptimization.jl:140\n",
      "┌ Info: 2021-01-22T14:48:54.478\titeration: 141\tcurrent optimum: 2566.6803869242167\n",
      "└ @ BayesianOptimization C:\\Users\\david\\.juliapro\\JuliaPro_v1.4.0-1\\packages\\BayesianOptimization\\poykT\\src\\BayesianOptimization.jl:140\n",
      "┌ Info: 2021-01-22T14:48:54.495\titeration: 142\tcurrent optimum: 2566.6803869242167\n",
      "└ @ BayesianOptimization C:\\Users\\david\\.juliapro\\JuliaPro_v1.4.0-1\\packages\\BayesianOptimization\\poykT\\src\\BayesianOptimization.jl:140\n",
      "┌ Info: 2021-01-22T14:48:54.512\titeration: 143\tcurrent optimum: 2566.6803869242167\n",
      "└ @ BayesianOptimization C:\\Users\\david\\.juliapro\\JuliaPro_v1.4.0-1\\packages\\BayesianOptimization\\poykT\\src\\BayesianOptimization.jl:140\n",
      "┌ Info: 2021-01-22T14:48:54.529\titeration: 144\tcurrent optimum: 2566.6803869242167\n",
      "└ @ BayesianOptimization C:\\Users\\david\\.juliapro\\JuliaPro_v1.4.0-1\\packages\\BayesianOptimization\\poykT\\src\\BayesianOptimization.jl:140\n",
      "┌ Info: 2021-01-22T14:48:54.545\titeration: 145\tcurrent optimum: 2566.6803869242167\n",
      "└ @ BayesianOptimization C:\\Users\\david\\.juliapro\\JuliaPro_v1.4.0-1\\packages\\BayesianOptimization\\poykT\\src\\BayesianOptimization.jl:140\n",
      "┌ Info: 2021-01-22T14:48:54.562\titeration: 146\tcurrent optimum: 2566.6803869242167\n",
      "└ @ BayesianOptimization C:\\Users\\david\\.juliapro\\JuliaPro_v1.4.0-1\\packages\\BayesianOptimization\\poykT\\src\\BayesianOptimization.jl:140\n",
      "┌ Info: 2021-01-22T14:48:54.579\titeration: 147\tcurrent optimum: 2566.6803869242167\n",
      "└ @ BayesianOptimization C:\\Users\\david\\.juliapro\\JuliaPro_v1.4.0-1\\packages\\BayesianOptimization\\poykT\\src\\BayesianOptimization.jl:140\n",
      "┌ Info: 2021-01-22T14:48:54.597\titeration: 148\tcurrent optimum: 2566.6803869242167\n",
      "└ @ BayesianOptimization C:\\Users\\david\\.juliapro\\JuliaPro_v1.4.0-1\\packages\\BayesianOptimization\\poykT\\src\\BayesianOptimization.jl:140\n",
      "┌ Info: 2021-01-22T14:48:54.614\titeration: 149\tcurrent optimum: 2566.6803869242167\n",
      "└ @ BayesianOptimization C:\\Users\\david\\.juliapro\\JuliaPro_v1.4.0-1\\packages\\BayesianOptimization\\poykT\\src\\BayesianOptimization.jl:140\n",
      "┌ Info:  ──────────────────────────────────────────────────────────────────────────────\n",
      "│                                        Time                   Allocations      \n",
      "│                                ──────────────────────   ───────────────────────\n",
      "│        Tot / % measured:            5.90s / 98.5%           1.19GiB / 100%     \n",
      "│ \n",
      "│  Section               ncalls     time   %tot     avg     alloc   %tot      avg\n",
      "│  ──────────────────────────────────────────────────────────────────────────────\n",
      "│  function evaluation      150    5.24s  90.1%  34.9ms    906MiB  74.4%  6.04MiB\n",
      "│  acquisition              141    492ms  8.46%  3.49ms    304MiB  25.0%  2.16MiB\n",
      "│  model hyperparamet...    141   78.3ms  1.35%   555μs   5.96MiB  0.49%  43.3KiB\n",
      "│  model update             141   7.49ms  0.13%  53.1μs   1.19MiB  0.10%  8.67KiB\n",
      "│  ──────────────────────────────────────────────────────────────────────────────\n",
      "└ @ BayesianOptimization C:\\Users\\david\\.juliapro\\JuliaPro_v1.4.0-1\\packages\\BayesianOptimization\\poykT\\src\\BayesianOptimization.jl:154\n"
     ]
    },
    {
     "name": "stdout",
     "output_type": "stream",
     "text": [
      "\n",
      "----------------------------------------- RESULTS -----------------------------------------\n",
      "OED for Model Calibration results are saved in the directory: \n",
      "                 E:\\UNI\\D_Drive\\PhD\\JULIAlang\\Generalisation_PLacExample\\Examples\\Results\\PLacExample_2021-01-22\n",
      "Under the name OEDModelCalibrationResults_testOEDMS2.jld\n",
      "--------------------------------------------------------------------------------------\n",
      "\n",
      "\n",
      "----------------------------------------- PLOTS -----------------------------------------\n",
      "PLOTS are saved in the directory: \n",
      "                 E:\\UNI\\D_Drive\\PhD\\JULIAlang\\Generalisation_PLacExample\\Examples\\Results\\PLacExample_2021-01-22\n",
      "Under the names PlotOEDMCResults_Exp1_testOEDMS2.png and Plot_OEDMCConvergence_testOEDMS2.png\n",
      "--------------------------------------------------------------------------------------\n",
      "\n"
     ]
    }
   ],
   "source": [
    "oedmc_res2, oedmc_def2 = mainOEDMC(oedmc_def2);"
   ]
  },
  {
   "cell_type": "markdown",
   "metadata": {},
   "source": [
    "### Now, let's have a look at the plots generated\n",
    "First, the convergence curve <br>\n",
    "Note that to reduce the computational time of the example we used a really low number of iterations, so do not be surprised if the results do not look good."
   ]
  },
  {
   "cell_type": "code",
   "execution_count": 26,
   "metadata": {},
   "outputs": [
    {
     "data": {
      "image/png": "[encoded data removed]",
      "text/plain": [
       "400×600 Array{RGB{N0f8},2} with eltype RGB{Normed{UInt8,8}}:\n",
       " RGB{N0f8}(1.0,1.0,1.0)  RGB{N0f8}(1.0,1.0,1.0)  …  RGB{N0f8}(1.0,1.0,1.0)\n",
       " RGB{N0f8}(1.0,1.0,1.0)  RGB{N0f8}(1.0,1.0,1.0)     RGB{N0f8}(1.0,1.0,1.0)\n",
       " RGB{N0f8}(1.0,1.0,1.0)  RGB{N0f8}(1.0,1.0,1.0)     RGB{N0f8}(1.0,1.0,1.0)\n",
       " RGB{N0f8}(1.0,1.0,1.0)  RGB{N0f8}(1.0,1.0,1.0)     RGB{N0f8}(1.0,1.0,1.0)\n",
       " RGB{N0f8}(1.0,1.0,1.0)  RGB{N0f8}(1.0,1.0,1.0)     RGB{N0f8}(1.0,1.0,1.0)\n",
       " RGB{N0f8}(1.0,1.0,1.0)  RGB{N0f8}(1.0,1.0,1.0)  …  RGB{N0f8}(1.0,1.0,1.0)\n",
       " RGB{N0f8}(1.0,1.0,1.0)  RGB{N0f8}(1.0,1.0,1.0)     RGB{N0f8}(1.0,1.0,1.0)\n",
       " RGB{N0f8}(1.0,1.0,1.0)  RGB{N0f8}(1.0,1.0,1.0)     RGB{N0f8}(1.0,1.0,1.0)\n",
       " RGB{N0f8}(1.0,1.0,1.0)  RGB{N0f8}(1.0,1.0,1.0)     RGB{N0f8}(1.0,1.0,1.0)\n",
       " RGB{N0f8}(1.0,1.0,1.0)  RGB{N0f8}(1.0,1.0,1.0)     RGB{N0f8}(1.0,1.0,1.0)\n",
       " RGB{N0f8}(1.0,1.0,1.0)  RGB{N0f8}(1.0,1.0,1.0)  …  RGB{N0f8}(1.0,1.0,1.0)\n",
       " RGB{N0f8}(1.0,1.0,1.0)  RGB{N0f8}(1.0,1.0,1.0)     RGB{N0f8}(1.0,1.0,1.0)\n",
       " RGB{N0f8}(1.0,1.0,1.0)  RGB{N0f8}(1.0,1.0,1.0)     RGB{N0f8}(1.0,1.0,1.0)\n",
       " ⋮                                               ⋱  \n",
       " RGB{N0f8}(1.0,1.0,1.0)  RGB{N0f8}(1.0,1.0,1.0)     RGB{N0f8}(1.0,1.0,1.0)\n",
       " RGB{N0f8}(1.0,1.0,1.0)  RGB{N0f8}(1.0,1.0,1.0)     RGB{N0f8}(1.0,1.0,1.0)\n",
       " RGB{N0f8}(1.0,1.0,1.0)  RGB{N0f8}(1.0,1.0,1.0)  …  RGB{N0f8}(1.0,1.0,1.0)\n",
       " RGB{N0f8}(1.0,1.0,1.0)  RGB{N0f8}(1.0,1.0,1.0)     RGB{N0f8}(1.0,1.0,1.0)\n",
       " RGB{N0f8}(1.0,1.0,1.0)  RGB{N0f8}(1.0,1.0,1.0)     RGB{N0f8}(1.0,1.0,1.0)\n",
       " RGB{N0f8}(1.0,1.0,1.0)  RGB{N0f8}(1.0,1.0,1.0)     RGB{N0f8}(1.0,1.0,1.0)\n",
       " RGB{N0f8}(1.0,1.0,1.0)  RGB{N0f8}(1.0,1.0,1.0)     RGB{N0f8}(1.0,1.0,1.0)\n",
       " RGB{N0f8}(1.0,1.0,1.0)  RGB{N0f8}(1.0,1.0,1.0)  …  RGB{N0f8}(1.0,1.0,1.0)\n",
       " RGB{N0f8}(1.0,1.0,1.0)  RGB{N0f8}(1.0,1.0,1.0)     RGB{N0f8}(1.0,1.0,1.0)\n",
       " RGB{N0f8}(1.0,1.0,1.0)  RGB{N0f8}(1.0,1.0,1.0)     RGB{N0f8}(1.0,1.0,1.0)\n",
       " RGB{N0f8}(1.0,1.0,1.0)  RGB{N0f8}(1.0,1.0,1.0)     RGB{N0f8}(1.0,1.0,1.0)\n",
       " RGB{N0f8}(1.0,1.0,1.0)  RGB{N0f8}(1.0,1.0,1.0)     RGB{N0f8}(1.0,1.0,1.0)"
      ]
     },
     "execution_count": 26,
     "metadata": {},
     "output_type": "execute_result"
    }
   ],
   "source": [
    "# Note that none of the curves are at convergence due to the low time allowed for the optimisation. \n",
    "CC2 = load(string(oedmc_def2[\"savepath\"], \"\\\\Plot_OEDMCConvergence_\",oedmc_def2[\"flag\"],\".png\"))"
   ]
  },
  {
   "cell_type": "markdown",
   "metadata": {},
   "source": [
    "And now the experiment simulations"
   ]
  },
  {
   "cell_type": "code",
   "execution_count": 27,
   "metadata": {},
   "outputs": [
    {
     "data": {
      "image/png": "[encoded data removed]",
      "text/plain": [
       "1200×2000 Array{RGB{N0f8},2} with eltype RGB{Normed{UInt8,8}}:\n",
       " RGB{N0f8}(1.0,1.0,1.0)  RGB{N0f8}(1.0,1.0,1.0)  …  RGB{N0f8}(1.0,1.0,1.0)\n",
       " RGB{N0f8}(1.0,1.0,1.0)  RGB{N0f8}(1.0,1.0,1.0)     RGB{N0f8}(1.0,1.0,1.0)\n",
       " RGB{N0f8}(1.0,1.0,1.0)  RGB{N0f8}(1.0,1.0,1.0)     RGB{N0f8}(1.0,1.0,1.0)\n",
       " RGB{N0f8}(1.0,1.0,1.0)  RGB{N0f8}(1.0,1.0,1.0)     RGB{N0f8}(1.0,1.0,1.0)\n",
       " RGB{N0f8}(1.0,1.0,1.0)  RGB{N0f8}(1.0,1.0,1.0)     RGB{N0f8}(1.0,1.0,1.0)\n",
       " RGB{N0f8}(1.0,1.0,1.0)  RGB{N0f8}(1.0,1.0,1.0)  …  RGB{N0f8}(1.0,1.0,1.0)\n",
       " RGB{N0f8}(1.0,1.0,1.0)  RGB{N0f8}(1.0,1.0,1.0)     RGB{N0f8}(1.0,1.0,1.0)\n",
       " RGB{N0f8}(1.0,1.0,1.0)  RGB{N0f8}(1.0,1.0,1.0)     RGB{N0f8}(1.0,1.0,1.0)\n",
       " RGB{N0f8}(1.0,1.0,1.0)  RGB{N0f8}(1.0,1.0,1.0)     RGB{N0f8}(1.0,1.0,1.0)\n",
       " RGB{N0f8}(1.0,1.0,1.0)  RGB{N0f8}(1.0,1.0,1.0)     RGB{N0f8}(1.0,1.0,1.0)\n",
       " RGB{N0f8}(1.0,1.0,1.0)  RGB{N0f8}(1.0,1.0,1.0)  …  RGB{N0f8}(1.0,1.0,1.0)\n",
       " RGB{N0f8}(1.0,1.0,1.0)  RGB{N0f8}(1.0,1.0,1.0)     RGB{N0f8}(1.0,1.0,1.0)\n",
       " RGB{N0f8}(1.0,1.0,1.0)  RGB{N0f8}(1.0,1.0,1.0)     RGB{N0f8}(1.0,1.0,1.0)\n",
       " ⋮                                               ⋱  \n",
       " RGB{N0f8}(1.0,1.0,1.0)  RGB{N0f8}(1.0,1.0,1.0)     RGB{N0f8}(1.0,1.0,1.0)\n",
       " RGB{N0f8}(1.0,1.0,1.0)  RGB{N0f8}(1.0,1.0,1.0)     RGB{N0f8}(1.0,1.0,1.0)\n",
       " RGB{N0f8}(1.0,1.0,1.0)  RGB{N0f8}(1.0,1.0,1.0)  …  RGB{N0f8}(1.0,1.0,1.0)\n",
       " RGB{N0f8}(1.0,1.0,1.0)  RGB{N0f8}(1.0,1.0,1.0)     RGB{N0f8}(1.0,1.0,1.0)\n",
       " RGB{N0f8}(1.0,1.0,1.0)  RGB{N0f8}(1.0,1.0,1.0)     RGB{N0f8}(1.0,1.0,1.0)\n",
       " RGB{N0f8}(1.0,1.0,1.0)  RGB{N0f8}(1.0,1.0,1.0)     RGB{N0f8}(1.0,1.0,1.0)\n",
       " RGB{N0f8}(1.0,1.0,1.0)  RGB{N0f8}(1.0,1.0,1.0)     RGB{N0f8}(1.0,1.0,1.0)\n",
       " RGB{N0f8}(1.0,1.0,1.0)  RGB{N0f8}(1.0,1.0,1.0)  …  RGB{N0f8}(1.0,1.0,1.0)\n",
       " RGB{N0f8}(1.0,1.0,1.0)  RGB{N0f8}(1.0,1.0,1.0)     RGB{N0f8}(1.0,1.0,1.0)\n",
       " RGB{N0f8}(1.0,1.0,1.0)  RGB{N0f8}(1.0,1.0,1.0)     RGB{N0f8}(1.0,1.0,1.0)\n",
       " RGB{N0f8}(1.0,1.0,1.0)  RGB{N0f8}(1.0,1.0,1.0)     RGB{N0f8}(1.0,1.0,1.0)\n",
       " RGB{N0f8}(1.0,1.0,1.0)  RGB{N0f8}(1.0,1.0,1.0)     RGB{N0f8}(1.0,1.0,1.0)"
      ]
     },
     "execution_count": 27,
     "metadata": {},
     "output_type": "execute_result"
    }
   ],
   "source": [
    "expMC2 = load(string(oedmc_def2[\"savepath\"], \"\\\\PlotOEDMCResults_Exp1_\",oedmc_def2[\"flag\"],\".png\"))"
   ]
  },
  {
   "cell_type": "markdown",
   "metadata": {},
   "source": [
    "### This is the end of the section. Look at the cool logo to check the package version ;) \n"
   ]
  },
  {
   "cell_type": "code",
   "execution_count": 28,
   "metadata": {},
   "outputs": [
    {
     "name": "stdout",
     "output_type": "stream",
     "text": [
      "\n",
      "                                                  *\n",
      "                                    **           * *           *                          **\n",
      "                                   * *          *   *         * *                       **  *\n",
      "                                  *  *         *    *        *  **                    **     *\n",
      "                         *       *   *  *   ***     *     ***    **                 **        *      *\n",
      "                        * *     *    * * * *         **  *         **      *      **           *    * *   ***\n",
      "                       *   *   *     **   *            **            **   * * ****              ****   ***   ***\n",
      "                   ** *     ***                                        * *   *                                  *\n",
      "                  *  *                                                  *                                        *\n",
      "                 *            ___________   __________   ___  ___   ___________   __________                      ***\n",
      "                **           /  _____   /  / ______  /  /   \\/   \\  \\   _____  \\  \\  _______\\                        **\n",
      "               *            /  /____/  /  / /     / /  /          \\  \\  \\____\\  \\  \\ \\________                         *\n",
      "             **            /  _____   /  / /     / /  /            \\  \\   _____  \\  \\________ \\                       *\n",
      "           **             /  /    /  /  / /     / /  /   /\\____/\\   \\  \\  \\    \\  \\          \\ \\                    **\n",
      "         **              /  /____/  /  / /_____/ /  /   /        \\   \\  \\  \\____\\  \\   _______\\ \\                 **\n",
      "        *               /__________/  /_________/  /__ /          \\___\\  \\__________\\  \\_________\\ V 0.1.0       **\n",
      "         ****                                                *                                                  *\n",
      "             *                          ***                 * *                                                *\n",
      "              *   ***                  *   *     *         *   *                  *                      **   *\n",
      "               * *   **             ***     *   * ***     *     *   *          *** *           **       *  * *\n",
      "                *      **      *   *         * *    *    *       * * **     ***     *         *  *     *    *\n",
      "                         **   * * *           *     *   *         *    ** **         *       *    *   *\n",
      "                           * *   *                   * *                 *            *     *      * *\n",
      "                            *                         *                                *   *        *\n",
      "                                                                                        * *\n",
      "                                                                                         *\n",
      "    \n"
     ]
    }
   ],
   "source": [
    "versionBOMBS()"
   ]
  }
 ],
 "metadata": {
  "kernelspec": {
   "display_name": "Julia 1.4.0",
   "language": "julia",
   "name": "julia-1.4"
  },
  "language_info": {
   "file_extension": ".jl",
   "mimetype": "application/julia",
   "name": "julia",
   "version": "1.4.0"
  }
 },
 "nbformat": 4,
 "nbformat_minor": 4
}
